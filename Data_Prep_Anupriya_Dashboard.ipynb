{
  "nbformat": 4,
  "nbformat_minor": 0,
  "metadata": {
    "colab": {
      "name": "Data Prep Anupriya Dashboard.ipynb",
      "provenance": [],
      "collapsed_sections": [],
      "include_colab_link": true
    },
    "kernelspec": {
      "display_name": "Python 3",
      "name": "python3"
    }
  },
  "cells": [
    {
      "cell_type": "markdown",
      "metadata": {
        "id": "view-in-github",
        "colab_type": "text"
      },
      "source": [
        "<a href=\"https://colab.research.google.com/github/mwahaha-umich/ACLUFinalProject/blob/main/Data_Prep_Anupriya_Dashboard.ipynb\" target=\"_parent\"><img src=\"https://colab.research.google.com/assets/colab-badge.svg\" alt=\"Open In Colab\"/></a>"
      ]
    },
    {
      "cell_type": "markdown",
      "metadata": {
        "id": "_OsDNZ7p2d4G"
      },
      "source": [
        "This Jupyter notebook is intended to assist with accessing plotly from outside of a Google Colab environment (Should technically work for any cloud environment that allows you to install NGROK). The problem with running plotly within Google Colab is that the ports that are opened by Plotly are not exposed to the outside world. In order to expose them we are going to create a network tunnel, that's where NGROK comes in.\n",
        "\n",
        "A few things of note:\n",
        "*  If you are using Google Drive for any information for this plot, you will want to copy that data \"locally\" before the graph will fuction externally. This is because we are starting up a new thread that will not carry over the Google Driver permissions you may have granted to the current thread.\n"
      ]
    },
    {
      "cell_type": "markdown",
      "metadata": {
        "id": "f3R9TFANqNV4"
      },
      "source": [
        "# Connect to Google Drive"
      ]
    },
    {
      "cell_type": "code",
      "metadata": {
        "colab": {
          "base_uri": "https://localhost:8080/"
        },
        "id": "U5_4a226qq-R",
        "outputId": "7b369564-415e-4ca8-cf69-470d3979c11a"
      },
      "source": [
        "from google.colab import drive\n",
        "drive.mount('/content/drive')"
      ],
      "execution_count": null,
      "outputs": [
        {
          "output_type": "stream",
          "text": [
            "Mounted at /content/drive\n"
          ],
          "name": "stdout"
        }
      ]
    },
    {
      "cell_type": "code",
      "metadata": {
        "id": "U6M71YgSor3s"
      },
      "source": [
        "import os\n",
        "from os import listdir\n",
        "from os.path import isfile, join\n",
        "from pathlib import Path\n",
        "import requests\n",
        "\n",
        "if 'google.colab' in str(get_ipython()):\n",
        "  #We keep changing the different paths, so I'm going to check if various configurations exist.\n",
        "  if (os.path.isdir(\"/content/drive/MyDrive/Shared with me/content/drive/My Drive/Shared with me/ACLU/\")):\n",
        "    GoogleDriveBase = \"/content/drive/MyDrive/Shared with me/content/drive/My Drive/Shared with me/\" #Anupriya\n",
        "    WorkingDirectory = GoogleDriveBase + 'ACLU/' #Anupriya\n",
        "  elif (os.path.isdir(\"/content/drive/My Drive/Projects/ACLU/\")):\n",
        "      GoogleDriveBase = \"/content/drive/My Drive/\" #Kyle\n",
        "      WorkingDirectory = GoogleDriveBase + \"Projects/ACLU/\" #Kyle\n",
        "  elif (os.path.isdir(\"/content/drive/MyDrive/Projects/ACLU/\")):\n",
        "      GoogleDriveBase = \"/content/drive/MyDrive/\" #Mackenzie\n",
        "      WorkingDirectory = GoogleDriveBase + \"Projects/ACLU/\" #Mackenzie\n",
        "else: # We're not running in Google Colab, which means we're probably running locally. \n",
        "  #Put code here for local copies of the files\n",
        "  GoogleDriveBase = \"\" \n",
        "  WorkingDirectory = GoogleDriveBase + \"\" \n",
        "\n",
        "\n",
        "WorkingFiles = WorkingDirectory + 'WorkingFiles/'\n",
        "BasePickeDrive = GoogleDriveBase + WorkingDirectory + \"Pickle/\"\n",
        "\n",
        "\n",
        "#Make the necessary folders for the script to run.\n",
        "ListOfAllRequiredDirectories = [WorkingDirectory + 'Pickle', \n",
        "                          WorkingDirectory + 'WorkingFiles',\n",
        "                          WorkingDirectory + 'AdditionalData',\n",
        "                          WorkingDirectory + 'ACLUData',\n",
        "                          WorkingDirectory + 'DashboardFiles']\n",
        "\n",
        "for folder in ListOfAllRequiredDirectories:\n",
        "  RunningPath = GoogleDriveBase + folder + \"/\"\n",
        "  Path(RunningPath).mkdir(parents=True, exist_ok=True)"
      ],
      "execution_count": null,
      "outputs": []
    },
    {
      "cell_type": "markdown",
      "metadata": {
        "id": "mnGq5EwhM-ye"
      },
      "source": [
        "# Configure NGROK"
      ]
    },
    {
      "cell_type": "code",
      "metadata": {
        "colab": {
          "base_uri": "https://localhost:8080/"
        },
        "id": "RxfrZnhvkMDn",
        "outputId": "0f313746-15d9-4d2a-d4ae-b54b4d56dd24"
      },
      "source": [
        "# How to run a Dash app in Google Colab\n",
        "\n",
        "## Requirements\n",
        "\n",
        "### Install ngrok\n",
        "!wget https://bin.equinox.io/c/4VmDzA7iaHb/ngrok-stable-linux-amd64.zip\n",
        "!unzip -o ngrok-stable-linux-amd64.zip\n",
        "\n",
        "\n",
        "get_ipython().system_raw('./ngrok http 8050 &')\n",
        "\n",
        "### Install Dash\n",
        "!pip install dash  # The core dash backend\n",
        "!pip install jupyter_dash\n",
        "!pip install -U plotly\n",
        "!pip install dash_bootstrap_components\n",
        "#Do not install any of these. When you install Dash, it includes these. If you call the install it installs a previous version of these and will generate an error.\n",
        "#!pip install dash-html-components  # HTML components\n",
        "#!pip install dash-core-components  # Supercharged components\n",
        "#!pip install dash-table  # Interactive DataTable component (new!)"
      ],
      "execution_count": null,
      "outputs": [
        {
          "output_type": "stream",
          "text": [
            "--2021-08-22 00:54:20--  https://bin.equinox.io/c/4VmDzA7iaHb/ngrok-stable-linux-amd64.zip\n",
            "Resolving bin.equinox.io (bin.equinox.io)... 34.206.86.54, 54.165.187.168, 34.226.109.249, ...\n",
            "Connecting to bin.equinox.io (bin.equinox.io)|34.206.86.54|:443... connected.\n",
            "HTTP request sent, awaiting response... 200 OK\n",
            "Length: 13832437 (13M) [application/octet-stream]\n",
            "Saving to: ‘ngrok-stable-linux-amd64.zip’\n",
            "\n",
            "ngrok-stable-linux- 100%[===================>]  13.19M  67.4MB/s    in 0.2s    \n",
            "\n",
            "2021-08-22 00:54:20 (67.4 MB/s) - ‘ngrok-stable-linux-amd64.zip’ saved [13832437/13832437]\n",
            "\n",
            "Archive:  ngrok-stable-linux-amd64.zip\n",
            "  inflating: ngrok                   \n",
            "Collecting dash\n",
            "  Downloading dash-1.21.0.tar.gz (1.1 MB)\n",
            "\u001b[K     |████████████████████████████████| 1.1 MB 45.8 MB/s \n",
            "\u001b[?25hRequirement already satisfied: Flask>=1.0.4 in /usr/local/lib/python3.7/dist-packages (from dash) (1.1.4)\n",
            "Collecting flask-compress\n",
            "  Downloading Flask_Compress-1.10.1-py3-none-any.whl (7.9 kB)\n",
            "Requirement already satisfied: plotly in /usr/local/lib/python3.7/dist-packages (from dash) (4.4.1)\n",
            "Collecting dash-core-components==1.17.1\n",
            "  Downloading dash_core_components-1.17.1.tar.gz (3.7 MB)\n",
            "\u001b[K     |████████████████████████████████| 3.7 MB 45.4 MB/s \n",
            "\u001b[?25hCollecting dash-html-components==1.1.4\n",
            "  Downloading dash_html_components-1.1.4.tar.gz (83 kB)\n",
            "\u001b[K     |████████████████████████████████| 83 kB 2.9 MB/s \n",
            "\u001b[?25hCollecting dash-table==4.12.0\n",
            "  Downloading dash_table-4.12.0.tar.gz (1.8 MB)\n",
            "\u001b[K     |████████████████████████████████| 1.8 MB 50.2 MB/s \n",
            "\u001b[?25hRequirement already satisfied: future in /usr/local/lib/python3.7/dist-packages (from dash) (0.16.0)\n",
            "Requirement already satisfied: Werkzeug<2.0,>=0.15 in /usr/local/lib/python3.7/dist-packages (from Flask>=1.0.4->dash) (1.0.1)\n",
            "Requirement already satisfied: Jinja2<3.0,>=2.10.1 in /usr/local/lib/python3.7/dist-packages (from Flask>=1.0.4->dash) (2.11.3)\n",
            "Requirement already satisfied: click<8.0,>=5.1 in /usr/local/lib/python3.7/dist-packages (from Flask>=1.0.4->dash) (7.1.2)\n",
            "Requirement already satisfied: itsdangerous<2.0,>=0.24 in /usr/local/lib/python3.7/dist-packages (from Flask>=1.0.4->dash) (1.1.0)\n",
            "Requirement already satisfied: MarkupSafe>=0.23 in /usr/local/lib/python3.7/dist-packages (from Jinja2<3.0,>=2.10.1->Flask>=1.0.4->dash) (2.0.1)\n",
            "Collecting brotli\n",
            "  Downloading Brotli-1.0.9-cp37-cp37m-manylinux1_x86_64.whl (357 kB)\n",
            "\u001b[K     |████████████████████████████████| 357 kB 63.1 MB/s \n",
            "\u001b[?25hRequirement already satisfied: six in /usr/local/lib/python3.7/dist-packages (from plotly->dash) (1.15.0)\n",
            "Requirement already satisfied: retrying>=1.3.3 in /usr/local/lib/python3.7/dist-packages (from plotly->dash) (1.3.3)\n",
            "Building wheels for collected packages: dash, dash-core-components, dash-html-components, dash-table\n",
            "  Building wheel for dash (setup.py) ... \u001b[?25l\u001b[?25hdone\n",
            "  Created wheel for dash: filename=dash-1.21.0-py3-none-any.whl size=1100488 sha256=5e7f90550dee71f52b68c0c0772104706be341b320d4ac2ceb7f52293022e973\n",
            "  Stored in directory: /root/.cache/pip/wheels/59/a4/f1/a7140afcad8dbaa3b1b12ef80843d29403d6ecca1c2f397948\n",
            "  Building wheel for dash-core-components (setup.py) ... \u001b[?25l\u001b[?25hdone\n",
            "  Created wheel for dash-core-components: filename=dash_core_components-1.17.1-py3-none-any.whl size=3738997 sha256=d49fc7002b544eee9956c399d2f0c7371794ec5da25dabd408afc7c56957dd0c\n",
            "  Stored in directory: /root/.cache/pip/wheels/ca/5b/fb/a135a7bf8e21223e4104aa5526a5173a20b64fe7fcd055b999\n",
            "  Building wheel for dash-html-components (setup.py) ... \u001b[?25l\u001b[?25hdone\n",
            "  Created wheel for dash-html-components: filename=dash_html_components-1.1.4-py3-none-any.whl size=319772 sha256=7827cce8d4ee13e700163785880c282c7e181fc9b85d1e2f1648e10a13171c5b\n",
            "  Stored in directory: /root/.cache/pip/wheels/51/d7/5f/5730b784b5333941740a0dfc57b10395c3507b35ddac112ac0\n",
            "  Building wheel for dash-table (setup.py) ... \u001b[?25l\u001b[?25hdone\n",
            "  Created wheel for dash-table: filename=dash_table-4.12.0-py3-none-any.whl size=1837676 sha256=255b066fc1fa1971c398a021c875de0841d0c5d8b55aedf019dd717c63df0b00\n",
            "  Stored in directory: /root/.cache/pip/wheels/5f/d4/8b/639186e25b7234dac44ba004cfb58ea5b39fe492085bda2a88\n",
            "Successfully built dash dash-core-components dash-html-components dash-table\n",
            "Installing collected packages: brotli, flask-compress, dash-table, dash-html-components, dash-core-components, dash\n",
            "Successfully installed brotli-1.0.9 dash-1.21.0 dash-core-components-1.17.1 dash-html-components-1.1.4 dash-table-4.12.0 flask-compress-1.10.1\n",
            "Collecting jupyter_dash\n",
            "  Downloading jupyter_dash-0.4.0-py3-none-any.whl (20 kB)\n",
            "Collecting ansi2html\n",
            "  Downloading ansi2html-1.6.0-py3-none-any.whl (14 kB)\n",
            "Requirement already satisfied: flask in /usr/local/lib/python3.7/dist-packages (from jupyter_dash) (1.1.4)\n",
            "Requirement already satisfied: dash in /usr/local/lib/python3.7/dist-packages (from jupyter_dash) (1.21.0)\n",
            "Requirement already satisfied: requests in /usr/local/lib/python3.7/dist-packages (from jupyter_dash) (2.23.0)\n",
            "Requirement already satisfied: ipykernel in /usr/local/lib/python3.7/dist-packages (from jupyter_dash) (4.10.1)\n",
            "Requirement already satisfied: ipython in /usr/local/lib/python3.7/dist-packages (from jupyter_dash) (5.5.0)\n",
            "Requirement already satisfied: retrying in /usr/local/lib/python3.7/dist-packages (from jupyter_dash) (1.3.3)\n",
            "Requirement already satisfied: dash-table==4.12.0 in /usr/local/lib/python3.7/dist-packages (from dash->jupyter_dash) (4.12.0)\n",
            "Requirement already satisfied: dash-core-components==1.17.1 in /usr/local/lib/python3.7/dist-packages (from dash->jupyter_dash) (1.17.1)\n",
            "Requirement already satisfied: plotly in /usr/local/lib/python3.7/dist-packages (from dash->jupyter_dash) (4.4.1)\n",
            "Requirement already satisfied: future in /usr/local/lib/python3.7/dist-packages (from dash->jupyter_dash) (0.16.0)\n",
            "Requirement already satisfied: flask-compress in /usr/local/lib/python3.7/dist-packages (from dash->jupyter_dash) (1.10.1)\n",
            "Requirement already satisfied: dash-html-components==1.1.4 in /usr/local/lib/python3.7/dist-packages (from dash->jupyter_dash) (1.1.4)\n",
            "Requirement already satisfied: Jinja2<3.0,>=2.10.1 in /usr/local/lib/python3.7/dist-packages (from flask->jupyter_dash) (2.11.3)\n",
            "Requirement already satisfied: itsdangerous<2.0,>=0.24 in /usr/local/lib/python3.7/dist-packages (from flask->jupyter_dash) (1.1.0)\n",
            "Requirement already satisfied: Werkzeug<2.0,>=0.15 in /usr/local/lib/python3.7/dist-packages (from flask->jupyter_dash) (1.0.1)\n",
            "Requirement already satisfied: click<8.0,>=5.1 in /usr/local/lib/python3.7/dist-packages (from flask->jupyter_dash) (7.1.2)\n",
            "Requirement already satisfied: MarkupSafe>=0.23 in /usr/local/lib/python3.7/dist-packages (from Jinja2<3.0,>=2.10.1->flask->jupyter_dash) (2.0.1)\n",
            "Requirement already satisfied: brotli in /usr/local/lib/python3.7/dist-packages (from flask-compress->dash->jupyter_dash) (1.0.9)\n",
            "Requirement already satisfied: jupyter-client in /usr/local/lib/python3.7/dist-packages (from ipykernel->jupyter_dash) (5.3.5)\n",
            "Requirement already satisfied: traitlets>=4.1.0 in /usr/local/lib/python3.7/dist-packages (from ipykernel->jupyter_dash) (5.0.5)\n",
            "Requirement already satisfied: tornado>=4.0 in /usr/local/lib/python3.7/dist-packages (from ipykernel->jupyter_dash) (5.1.1)\n",
            "Requirement already satisfied: decorator in /usr/local/lib/python3.7/dist-packages (from ipython->jupyter_dash) (4.4.2)\n",
            "Requirement already satisfied: pygments in /usr/local/lib/python3.7/dist-packages (from ipython->jupyter_dash) (2.6.1)\n",
            "Requirement already satisfied: pickleshare in /usr/local/lib/python3.7/dist-packages (from ipython->jupyter_dash) (0.7.5)\n",
            "Requirement already satisfied: simplegeneric>0.8 in /usr/local/lib/python3.7/dist-packages (from ipython->jupyter_dash) (0.8.1)\n",
            "Requirement already satisfied: setuptools>=18.5 in /usr/local/lib/python3.7/dist-packages (from ipython->jupyter_dash) (57.4.0)\n",
            "Requirement already satisfied: pexpect in /usr/local/lib/python3.7/dist-packages (from ipython->jupyter_dash) (4.8.0)\n",
            "Requirement already satisfied: prompt-toolkit<2.0.0,>=1.0.4 in /usr/local/lib/python3.7/dist-packages (from ipython->jupyter_dash) (1.0.18)\n",
            "Requirement already satisfied: wcwidth in /usr/local/lib/python3.7/dist-packages (from prompt-toolkit<2.0.0,>=1.0.4->ipython->jupyter_dash) (0.2.5)\n",
            "Requirement already satisfied: six>=1.9.0 in /usr/local/lib/python3.7/dist-packages (from prompt-toolkit<2.0.0,>=1.0.4->ipython->jupyter_dash) (1.15.0)\n",
            "Requirement already satisfied: ipython-genutils in /usr/local/lib/python3.7/dist-packages (from traitlets>=4.1.0->ipykernel->jupyter_dash) (0.2.0)\n",
            "Requirement already satisfied: python-dateutil>=2.1 in /usr/local/lib/python3.7/dist-packages (from jupyter-client->ipykernel->jupyter_dash) (2.8.2)\n",
            "Requirement already satisfied: pyzmq>=13 in /usr/local/lib/python3.7/dist-packages (from jupyter-client->ipykernel->jupyter_dash) (22.2.1)\n",
            "Requirement already satisfied: jupyter-core>=4.6.0 in /usr/local/lib/python3.7/dist-packages (from jupyter-client->ipykernel->jupyter_dash) (4.7.1)\n",
            "Requirement already satisfied: ptyprocess>=0.5 in /usr/local/lib/python3.7/dist-packages (from pexpect->ipython->jupyter_dash) (0.7.0)\n",
            "Requirement already satisfied: chardet<4,>=3.0.2 in /usr/local/lib/python3.7/dist-packages (from requests->jupyter_dash) (3.0.4)\n",
            "Requirement already satisfied: urllib3!=1.25.0,!=1.25.1,<1.26,>=1.21.1 in /usr/local/lib/python3.7/dist-packages (from requests->jupyter_dash) (1.24.3)\n",
            "Requirement already satisfied: idna<3,>=2.5 in /usr/local/lib/python3.7/dist-packages (from requests->jupyter_dash) (2.10)\n",
            "Requirement already satisfied: certifi>=2017.4.17 in /usr/local/lib/python3.7/dist-packages (from requests->jupyter_dash) (2021.5.30)\n",
            "Installing collected packages: ansi2html, jupyter-dash\n",
            "Successfully installed ansi2html-1.6.0 jupyter-dash-0.4.0\n",
            "Requirement already satisfied: plotly in /usr/local/lib/python3.7/dist-packages (4.4.1)\n",
            "Collecting plotly\n",
            "  Downloading plotly-5.2.1-py2.py3-none-any.whl (21.8 MB)\n",
            "\u001b[K     |████████████████████████████████| 21.8 MB 1.3 MB/s \n",
            "\u001b[?25hCollecting tenacity>=6.2.0\n",
            "  Downloading tenacity-8.0.1-py3-none-any.whl (24 kB)\n",
            "Requirement already satisfied: six in /usr/local/lib/python3.7/dist-packages (from plotly) (1.15.0)\n",
            "Installing collected packages: tenacity, plotly\n",
            "  Attempting uninstall: plotly\n",
            "    Found existing installation: plotly 4.4.1\n",
            "    Uninstalling plotly-4.4.1:\n",
            "      Successfully uninstalled plotly-4.4.1\n",
            "Successfully installed plotly-5.2.1 tenacity-8.0.1\n",
            "Collecting dash_bootstrap_components\n",
            "  Downloading dash_bootstrap_components-0.13.0-py3-none-any.whl (197 kB)\n",
            "\u001b[K     |████████████████████████████████| 197 kB 38.5 MB/s \n",
            "\u001b[?25hRequirement already satisfied: dash>=1.9.0 in /usr/local/lib/python3.7/dist-packages (from dash_bootstrap_components) (1.21.0)\n",
            "Requirement already satisfied: future in /usr/local/lib/python3.7/dist-packages (from dash>=1.9.0->dash_bootstrap_components) (0.16.0)\n",
            "Requirement already satisfied: plotly in /usr/local/lib/python3.7/dist-packages (from dash>=1.9.0->dash_bootstrap_components) (5.2.1)\n",
            "Requirement already satisfied: dash-table==4.12.0 in /usr/local/lib/python3.7/dist-packages (from dash>=1.9.0->dash_bootstrap_components) (4.12.0)\n",
            "Requirement already satisfied: flask-compress in /usr/local/lib/python3.7/dist-packages (from dash>=1.9.0->dash_bootstrap_components) (1.10.1)\n",
            "Requirement already satisfied: dash-core-components==1.17.1 in /usr/local/lib/python3.7/dist-packages (from dash>=1.9.0->dash_bootstrap_components) (1.17.1)\n",
            "Requirement already satisfied: dash-html-components==1.1.4 in /usr/local/lib/python3.7/dist-packages (from dash>=1.9.0->dash_bootstrap_components) (1.1.4)\n",
            "Requirement already satisfied: Flask>=1.0.4 in /usr/local/lib/python3.7/dist-packages (from dash>=1.9.0->dash_bootstrap_components) (1.1.4)\n",
            "Requirement already satisfied: itsdangerous<2.0,>=0.24 in /usr/local/lib/python3.7/dist-packages (from Flask>=1.0.4->dash>=1.9.0->dash_bootstrap_components) (1.1.0)\n",
            "Requirement already satisfied: click<8.0,>=5.1 in /usr/local/lib/python3.7/dist-packages (from Flask>=1.0.4->dash>=1.9.0->dash_bootstrap_components) (7.1.2)\n",
            "Requirement already satisfied: Werkzeug<2.0,>=0.15 in /usr/local/lib/python3.7/dist-packages (from Flask>=1.0.4->dash>=1.9.0->dash_bootstrap_components) (1.0.1)\n",
            "Requirement already satisfied: Jinja2<3.0,>=2.10.1 in /usr/local/lib/python3.7/dist-packages (from Flask>=1.0.4->dash>=1.9.0->dash_bootstrap_components) (2.11.3)\n",
            "Requirement already satisfied: MarkupSafe>=0.23 in /usr/local/lib/python3.7/dist-packages (from Jinja2<3.0,>=2.10.1->Flask>=1.0.4->dash>=1.9.0->dash_bootstrap_components) (2.0.1)\n",
            "Requirement already satisfied: brotli in /usr/local/lib/python3.7/dist-packages (from flask-compress->dash>=1.9.0->dash_bootstrap_components) (1.0.9)\n",
            "Requirement already satisfied: tenacity>=6.2.0 in /usr/local/lib/python3.7/dist-packages (from plotly->dash>=1.9.0->dash_bootstrap_components) (8.0.1)\n",
            "Requirement already satisfied: six in /usr/local/lib/python3.7/dist-packages (from plotly->dash>=1.9.0->dash_bootstrap_components) (1.15.0)\n",
            "Installing collected packages: dash-bootstrap-components\n",
            "Successfully installed dash-bootstrap-components-0.13.0\n"
          ],
          "name": "stdout"
        }
      ]
    },
    {
      "cell_type": "code",
      "metadata": {
        "id": "YOCSIzgyNOOM"
      },
      "source": [
        "import os\n",
        "import json\n",
        "import time\n",
        "\n",
        "def GetPublicIP(NumberOfLoops):\n",
        "  #This code only works on a linux based OS, we'll skip running it if we're on an unknown OS\n",
        "  #if os.name in LinuxOSList:\n",
        "  NumberOfLoops = NumberOfLoops + 1\n",
        "  get_ipython().system_raw('./ngrok http 8050 &')\n",
        "  time.sleep(1)\n",
        "  result = os.popen(\"curl -s http://localhost:4040/api/tunnels\").read()\n",
        "  print(result)\n",
        "  resultDict = json.loads(result)\n",
        "  if 'tunnels' in resultDict.keys():\n",
        "    publicIP = resultDict['tunnels'][0]['public_url']\n",
        "    print(publicIP)\n",
        "    return publicIP\n",
        "  else:\n",
        "    print(\"Number of Loops: \" + NumberOfLoops)\n",
        "    if NumberOfLoops > 5:\n",
        "      return \"Unable to get public IP\"\n",
        "    return GetPublicIP(NumberOfLoops)"
      ],
      "execution_count": null,
      "outputs": []
    },
    {
      "cell_type": "markdown",
      "metadata": {
        "id": "82bhIWmzNZTf"
      },
      "source": [
        "# Set up reports"
      ]
    },
    {
      "cell_type": "code",
      "metadata": {
        "colab": {
          "base_uri": "https://localhost:8080/"
        },
        "id": "QjWE1lGZ6srP",
        "outputId": "ccc96861-357d-42b1-ce2e-6f0e26e7dda9"
      },
      "source": [
        "import pandas as pd\n",
        "import math\n",
        "import numpy as np\n",
        "\n",
        "df = pd.read_csv(WorkingFiles + \"dfVoters.csv\")\n",
        "\n",
        "print(len(df))"
      ],
      "execution_count": null,
      "outputs": [
        {
          "output_type": "stream",
          "text": [
            "/usr/local/lib/python3.7/dist-packages/IPython/core/interactiveshell.py:2718: DtypeWarning: Columns (8,10,22,30,34,39,41,42,43,44,53) have mixed types.Specify dtype option on import or set low_memory=False.\n",
            "  interactivity=interactivity, compiler=compiler, result=result)\n"
          ],
          "name": "stderr"
        },
        {
          "output_type": "stream",
          "text": [
            "3196831\n"
          ],
          "name": "stdout"
        }
      ]
    },
    {
      "cell_type": "code",
      "metadata": {
        "colab": {
          "base_uri": "https://localhost:8080/"
        },
        "id": "6yU1Paxvrg_X",
        "outputId": "41f1a64c-c3d5-4ec1-9eb7-d76ddffa2786"
      },
      "source": [
        "dfVoters_sub = df[['Voter File VANID', 'Age', \n",
        "       'MaritalStatus', 'Sex', 'CountyName',\n",
        "       'Party', 'RaceName', 'Primary19', '2020_Biden_Support', \n",
        "       'PoliceAccountability','VBM_Application', 'MarijuanaConviction','Absentee_Voting', 'Mass_Incarceration']]\n",
        "\n",
        "bins= [18,29,44,64, 123]\n",
        "labels = ['18-29','30-44','45-64','65+']\n",
        "dfVoters_sub['AgeGroup'] = pd.cut(dfVoters_sub['Age'], bins=bins, labels=labels, right=True)"
      ],
      "execution_count": null,
      "outputs": [
        {
          "output_type": "stream",
          "text": [
            "/usr/local/lib/python3.7/dist-packages/ipykernel_launcher.py:8: SettingWithCopyWarning: \n",
            "A value is trying to be set on a copy of a slice from a DataFrame.\n",
            "Try using .loc[row_indexer,col_indexer] = value instead\n",
            "\n",
            "See the caveats in the documentation: https://pandas.pydata.org/pandas-docs/stable/user_guide/indexing.html#returning-a-view-versus-a-copy\n",
            "  \n"
          ],
          "name": "stderr"
        }
      ]
    },
    {
      "cell_type": "code",
      "metadata": {
        "colab": {
          "base_uri": "https://localhost:8080/"
        },
        "id": "OAEUQMMxLlN7",
        "outputId": "c0c0af28-fd43-43a6-f2b1-9ce484886c0f"
      },
      "source": [
        "import gc\n",
        "del df\n",
        "gc.collect()"
      ],
      "execution_count": null,
      "outputs": [
        {
          "output_type": "execute_result",
          "data": {
            "text/plain": [
              "88"
            ]
          },
          "metadata": {},
          "execution_count": 7
        }
      ]
    },
    {
      "cell_type": "code",
      "metadata": {
        "colab": {
          "base_uri": "https://localhost:8080/",
          "height": 392
        },
        "id": "UMCItnyw9EqL",
        "outputId": "f7b26251-0f56-4900-ccea-f29d38c45d69"
      },
      "source": [
        "#Crashing for Memory issue\n",
        "import pandas as pd\n",
        "\n",
        "#dfreshapedUnique = pd.read_csv(WorkingFiles + 'dfreshapedUnique.csv')\n",
        "#dfreshapedUnique = dfreshapedUnique[['Voter File VANID', 'year', 'electiontype']]\n",
        "\n",
        "#election_votes = pd.merge(dfreshapedUnique, dfVoters_sub, how='left', on='Voter File VANID')\n",
        "\n",
        "#election_votes = election_votes[['Voter File VANID', 'year', 'electiontype', \n",
        "#                                'CountyName', 'AgeGroup', 'RaceName', 'Sex']]\n",
        "\n",
        "election_votes['CountyName'] = election_votes['CountyName'].astype(\"str\").replace(np.nan, 'nan', regex=True)\n",
        "election_votes['AgeGroup'] = election_votes['AgeGroup'].astype(\"str\").replace(np.nan, 'nan', regex=True)\n",
        "election_votes['RaceName'] = election_votes['RaceName'].astype(\"str\").replace(np.nan, 'nan', regex=True)\n",
        "election_votes['Sex'] = election_votes['Sex'].astype(\"str\").replace(np.nan, 'nan', regex=True)\n",
        "\n",
        "print(len(election_votes))\n",
        "election_votes = election_votes.groupby(['year', 'electiontype', \n",
        "                                'CountyName', 'AgeGroup', 'RaceName', 'Sex']).count().reset_index()\n",
        "print(len(election_votes))\n",
        "election_votes = election_votes.rename(columns={\"Voter File VANID\": \"Count\"})\n",
        "\n",
        "election_votes.to_csv(WorkingDirectory + 'DashboardFiles/' + \"election_votes.csv\")\n",
        "print(election_votes.head())\n",
        "del election_votes\n",
        "del dfreshapedUnique"
      ],
      "execution_count": null,
      "outputs": [
        {
          "output_type": "error",
          "ename": "KeyError",
          "evalue": "ignored",
          "traceback": [
            "\u001b[0;31m---------------------------------------------------------------------------\u001b[0m",
            "\u001b[0;31mKeyError\u001b[0m                                  Traceback (most recent call last)",
            "\u001b[0;32m<ipython-input-8-1bae460b7611>\u001b[0m in \u001b[0;36m<module>\u001b[0;34m()\u001b[0m\n\u001b[1;32m      3\u001b[0m \u001b[0;34m\u001b[0m\u001b[0m\n\u001b[1;32m      4\u001b[0m \u001b[0mdfreshapedUnique\u001b[0m \u001b[0;34m=\u001b[0m \u001b[0mpd\u001b[0m\u001b[0;34m.\u001b[0m\u001b[0mread_csv\u001b[0m\u001b[0;34m(\u001b[0m\u001b[0mWorkingFiles\u001b[0m \u001b[0;34m+\u001b[0m \u001b[0;34m'dfreshapedUnique.csv'\u001b[0m\u001b[0;34m)\u001b[0m\u001b[0;34m\u001b[0m\u001b[0;34m\u001b[0m\u001b[0m\n\u001b[0;32m----> 5\u001b[0;31m \u001b[0mdfreshapedUnique\u001b[0m \u001b[0;34m=\u001b[0m \u001b[0mdfreshapedUnique\u001b[0m\u001b[0;34m[\u001b[0m\u001b[0;34m[\u001b[0m\u001b[0;34m'Voter File VANID'\u001b[0m\u001b[0;34m,\u001b[0m \u001b[0;34m'year'\u001b[0m\u001b[0;34m,\u001b[0m \u001b[0;34m'electiontype'\u001b[0m\u001b[0;34m]\u001b[0m\u001b[0;34m]\u001b[0m\u001b[0;34m\u001b[0m\u001b[0;34m\u001b[0m\u001b[0m\n\u001b[0m\u001b[1;32m      6\u001b[0m \u001b[0;34m\u001b[0m\u001b[0m\n\u001b[1;32m      7\u001b[0m \u001b[0melection_votes\u001b[0m \u001b[0;34m=\u001b[0m \u001b[0mpd\u001b[0m\u001b[0;34m.\u001b[0m\u001b[0mmerge\u001b[0m\u001b[0;34m(\u001b[0m\u001b[0mdfreshapedUnique\u001b[0m\u001b[0;34m,\u001b[0m \u001b[0mdfVoters_sub\u001b[0m\u001b[0;34m,\u001b[0m \u001b[0mhow\u001b[0m\u001b[0;34m=\u001b[0m\u001b[0;34m'left'\u001b[0m\u001b[0;34m,\u001b[0m \u001b[0mon\u001b[0m\u001b[0;34m=\u001b[0m\u001b[0;34m'Voter File VANID'\u001b[0m\u001b[0;34m)\u001b[0m\u001b[0;34m\u001b[0m\u001b[0;34m\u001b[0m\u001b[0m\n",
            "\u001b[0;32m/usr/local/lib/python3.7/dist-packages/pandas/core/frame.py\u001b[0m in \u001b[0;36m__getitem__\u001b[0;34m(self, key)\u001b[0m\n\u001b[1;32m   2910\u001b[0m             \u001b[0;32mif\u001b[0m \u001b[0mis_iterator\u001b[0m\u001b[0;34m(\u001b[0m\u001b[0mkey\u001b[0m\u001b[0;34m)\u001b[0m\u001b[0;34m:\u001b[0m\u001b[0;34m\u001b[0m\u001b[0;34m\u001b[0m\u001b[0m\n\u001b[1;32m   2911\u001b[0m                 \u001b[0mkey\u001b[0m \u001b[0;34m=\u001b[0m \u001b[0mlist\u001b[0m\u001b[0;34m(\u001b[0m\u001b[0mkey\u001b[0m\u001b[0;34m)\u001b[0m\u001b[0;34m\u001b[0m\u001b[0;34m\u001b[0m\u001b[0m\n\u001b[0;32m-> 2912\u001b[0;31m             \u001b[0mindexer\u001b[0m \u001b[0;34m=\u001b[0m \u001b[0mself\u001b[0m\u001b[0;34m.\u001b[0m\u001b[0mloc\u001b[0m\u001b[0;34m.\u001b[0m\u001b[0m_get_listlike_indexer\u001b[0m\u001b[0;34m(\u001b[0m\u001b[0mkey\u001b[0m\u001b[0;34m,\u001b[0m \u001b[0maxis\u001b[0m\u001b[0;34m=\u001b[0m\u001b[0;36m1\u001b[0m\u001b[0;34m,\u001b[0m \u001b[0mraise_missing\u001b[0m\u001b[0;34m=\u001b[0m\u001b[0;32mTrue\u001b[0m\u001b[0;34m)\u001b[0m\u001b[0;34m[\u001b[0m\u001b[0;36m1\u001b[0m\u001b[0;34m]\u001b[0m\u001b[0;34m\u001b[0m\u001b[0;34m\u001b[0m\u001b[0m\n\u001b[0m\u001b[1;32m   2913\u001b[0m \u001b[0;34m\u001b[0m\u001b[0m\n\u001b[1;32m   2914\u001b[0m         \u001b[0;31m# take() does not accept boolean indexers\u001b[0m\u001b[0;34m\u001b[0m\u001b[0;34m\u001b[0m\u001b[0;34m\u001b[0m\u001b[0m\n",
            "\u001b[0;32m/usr/local/lib/python3.7/dist-packages/pandas/core/indexing.py\u001b[0m in \u001b[0;36m_get_listlike_indexer\u001b[0;34m(self, key, axis, raise_missing)\u001b[0m\n\u001b[1;32m   1252\u001b[0m             \u001b[0mkeyarr\u001b[0m\u001b[0;34m,\u001b[0m \u001b[0mindexer\u001b[0m\u001b[0;34m,\u001b[0m \u001b[0mnew_indexer\u001b[0m \u001b[0;34m=\u001b[0m \u001b[0max\u001b[0m\u001b[0;34m.\u001b[0m\u001b[0m_reindex_non_unique\u001b[0m\u001b[0;34m(\u001b[0m\u001b[0mkeyarr\u001b[0m\u001b[0;34m)\u001b[0m\u001b[0;34m\u001b[0m\u001b[0;34m\u001b[0m\u001b[0m\n\u001b[1;32m   1253\u001b[0m \u001b[0;34m\u001b[0m\u001b[0m\n\u001b[0;32m-> 1254\u001b[0;31m         \u001b[0mself\u001b[0m\u001b[0;34m.\u001b[0m\u001b[0m_validate_read_indexer\u001b[0m\u001b[0;34m(\u001b[0m\u001b[0mkeyarr\u001b[0m\u001b[0;34m,\u001b[0m \u001b[0mindexer\u001b[0m\u001b[0;34m,\u001b[0m \u001b[0maxis\u001b[0m\u001b[0;34m,\u001b[0m \u001b[0mraise_missing\u001b[0m\u001b[0;34m=\u001b[0m\u001b[0mraise_missing\u001b[0m\u001b[0;34m)\u001b[0m\u001b[0;34m\u001b[0m\u001b[0;34m\u001b[0m\u001b[0m\n\u001b[0m\u001b[1;32m   1255\u001b[0m         \u001b[0;32mreturn\u001b[0m \u001b[0mkeyarr\u001b[0m\u001b[0;34m,\u001b[0m \u001b[0mindexer\u001b[0m\u001b[0;34m\u001b[0m\u001b[0;34m\u001b[0m\u001b[0m\n\u001b[1;32m   1256\u001b[0m \u001b[0;34m\u001b[0m\u001b[0m\n",
            "\u001b[0;32m/usr/local/lib/python3.7/dist-packages/pandas/core/indexing.py\u001b[0m in \u001b[0;36m_validate_read_indexer\u001b[0;34m(self, key, indexer, axis, raise_missing)\u001b[0m\n\u001b[1;32m   1302\u001b[0m             \u001b[0;32mif\u001b[0m \u001b[0mraise_missing\u001b[0m\u001b[0;34m:\u001b[0m\u001b[0;34m\u001b[0m\u001b[0;34m\u001b[0m\u001b[0m\n\u001b[1;32m   1303\u001b[0m                 \u001b[0mnot_found\u001b[0m \u001b[0;34m=\u001b[0m \u001b[0mlist\u001b[0m\u001b[0;34m(\u001b[0m\u001b[0mset\u001b[0m\u001b[0;34m(\u001b[0m\u001b[0mkey\u001b[0m\u001b[0;34m)\u001b[0m \u001b[0;34m-\u001b[0m \u001b[0mset\u001b[0m\u001b[0;34m(\u001b[0m\u001b[0max\u001b[0m\u001b[0;34m)\u001b[0m\u001b[0;34m)\u001b[0m\u001b[0;34m\u001b[0m\u001b[0;34m\u001b[0m\u001b[0m\n\u001b[0;32m-> 1304\u001b[0;31m                 \u001b[0;32mraise\u001b[0m \u001b[0mKeyError\u001b[0m\u001b[0;34m(\u001b[0m\u001b[0;34mf\"{not_found} not in index\"\u001b[0m\u001b[0;34m)\u001b[0m\u001b[0;34m\u001b[0m\u001b[0;34m\u001b[0m\u001b[0m\n\u001b[0m\u001b[1;32m   1305\u001b[0m \u001b[0;34m\u001b[0m\u001b[0m\n\u001b[1;32m   1306\u001b[0m             \u001b[0;31m# we skip the warning on Categorical\u001b[0m\u001b[0;34m\u001b[0m\u001b[0;34m\u001b[0m\u001b[0;34m\u001b[0m\u001b[0m\n",
            "\u001b[0;31mKeyError\u001b[0m: \"['electiontype'] not in index\""
          ]
        }
      ]
    },
    {
      "cell_type": "code",
      "metadata": {
        "id": "j2XCoHHDWZq2",
        "colab": {
          "base_uri": "https://localhost:8080/",
          "height": 204
        },
        "outputId": "a02ba697-65f5-487c-f235-8f8b2cfbab21"
      },
      "source": [
        "dfreshapedUnique = pd.read_csv(WorkingFiles + 'dfreshapedUnique.csv')\n",
        "dfreshapedUnique.head()"
      ],
      "execution_count": null,
      "outputs": [
        {
          "output_type": "execute_result",
          "data": {
            "text/html": [
              "<div>\n",
              "<style scoped>\n",
              "    .dataframe tbody tr th:only-of-type {\n",
              "        vertical-align: middle;\n",
              "    }\n",
              "\n",
              "    .dataframe tbody tr th {\n",
              "        vertical-align: top;\n",
              "    }\n",
              "\n",
              "    .dataframe thead th {\n",
              "        text-align: right;\n",
              "    }\n",
              "</style>\n",
              "<table border=\"1\" class=\"dataframe\">\n",
              "  <thead>\n",
              "    <tr style=\"text-align: right;\">\n",
              "      <th></th>\n",
              "      <th>Voter File VANID</th>\n",
              "      <th>year</th>\n",
              "      <th>participation</th>\n",
              "      <th>ElectionType</th>\n",
              "    </tr>\n",
              "  </thead>\n",
              "  <tbody>\n",
              "    <tr>\n",
              "      <th>0</th>\n",
              "      <td>82502</td>\n",
              "      <td>2001</td>\n",
              "      <td>Y</td>\n",
              "      <td>Special##</td>\n",
              "    </tr>\n",
              "    <tr>\n",
              "      <th>1</th>\n",
              "      <td>82502</td>\n",
              "      <td>2020</td>\n",
              "      <td>P</td>\n",
              "      <td>Special##</td>\n",
              "    </tr>\n",
              "    <tr>\n",
              "      <th>2</th>\n",
              "      <td>82502</td>\n",
              "      <td>2005</td>\n",
              "      <td>Y</td>\n",
              "      <td>Special##</td>\n",
              "    </tr>\n",
              "    <tr>\n",
              "      <th>3</th>\n",
              "      <td>82502</td>\n",
              "      <td>2017</td>\n",
              "      <td>P</td>\n",
              "      <td>Special##</td>\n",
              "    </tr>\n",
              "    <tr>\n",
              "      <th>4</th>\n",
              "      <td>82502</td>\n",
              "      <td>2013</td>\n",
              "      <td>Y</td>\n",
              "      <td>Special##</td>\n",
              "    </tr>\n",
              "  </tbody>\n",
              "</table>\n",
              "</div>"
            ],
            "text/plain": [
              "   Voter File VANID  year participation ElectionType\n",
              "0             82502  2001             Y    Special##\n",
              "1             82502  2020             P    Special##\n",
              "2             82502  2005             Y    Special##\n",
              "3             82502  2017             P    Special##\n",
              "4             82502  2013             Y    Special##"
            ]
          },
          "metadata": {},
          "execution_count": 10
        }
      ]
    },
    {
      "cell_type": "markdown",
      "metadata": {
        "id": "yyTMa_IYsyDD"
      },
      "source": [
        "If you would like to run the previous example externally, just copy and paste your code into a new block like below. "
      ]
    },
    {
      "cell_type": "markdown",
      "metadata": {
        "id": "IPEUvEokYGin"
      },
      "source": [
        "## Folium Map Data Prep"
      ]
    },
    {
      "cell_type": "code",
      "metadata": {
        "id": "QzqM9taUYSR1"
      },
      "source": [
        "registered_voters = pd.read_csv(WorkingDirectory + 'AdditionalData/All Registered Voters Michigan.csv')\n",
        "registered_voters.rename(columns = {'County':'CountyName'}, inplace = True)\n",
        "county_pop_df = dfVoters_sub.groupby('CountyName').count()['Voter File VANID'].to_frame().reset_index()\n",
        "county_pop_df['Voter File VANID'] = county_pop_df['Voter File VANID'].fillna(0)\n",
        "county_pop_df['CountyName'] = county_pop_df['CountyName'].str.upper()\n",
        "\n",
        "\n",
        "registered_voters.columns\n",
        "\n",
        "total_voter_pop = pd.merge(county_pop_df, registered_voters, how = 'left', on = 'CountyName')\n",
        "total_voter_pop['Voter File VANID'].astype(int)\n",
        "print(total_voter_pop[pd.isna(total_voter_pop['All Registered Voters'])])\n",
        "\n",
        "total_voter_pop['All Registered Voters'].astype(int)\n",
        "total_voter_pop['fraction'] = total_voter_pop['Voter File VANID'] / total_voter_pop['All Registered Voters']\n",
        "total_voter_pop['CountyName'] = total_voter_pop['CountyName'].str.title()\n",
        "total_voter_pop['RaceName'] = 'All'\n",
        "total_voter_pop['Sex'] = 'All'\n",
        "total_voter_pop['AgeGroup'] = 'All'\n",
        "\n",
        "#Save this to CSV\n",
        "total_voter_pop.to_csv(WorkingDirectory + 'DashboardFiles/' + \"total_voter_pop.csv\")\n"
      ],
      "execution_count": null,
      "outputs": []
    },
    {
      "cell_type": "code",
      "metadata": {
        "id": "91-p8mcv2ooo"
      },
      "source": [
        "#total_voter_pop.sort_values(by=\"fraction\", ascending=False)\n",
        "total_voter_pop.sum()\n"
      ],
      "execution_count": null,
      "outputs": []
    },
    {
      "cell_type": "code",
      "metadata": {
        "id": "hGfQzkzXO1xN"
      },
      "source": [
        "##Folium Map\n",
        "import folium \n",
        "miMap = folium.Map(location=[44.3148, -85.6024], \n",
        "                   tiles='cartodbpositron', \n",
        "                   #scrollWheelZoom=False,\n",
        "                   zoom_control=False,\n",
        "                   zoom_start=7)\n",
        "\n",
        "m = folium.Choropleth(geo_data=WorkingDirectory + 'AdditionalData/Counties_(v17a).geojson',\n",
        "                 data=total_voter_pop, columns=['CountyName', 'fraction'], key_on='feature.properties.NAME',\n",
        "                 fill_color='YlGnBu', fill_opacity=1).add_to(miMap)\n",
        "\n",
        "f = open(WorkingDirectory + 'DashboardFiles/' + \"total_voter_pop.txt\", \"a\")\n",
        "f.write(miMap._repr_html_())\n",
        "f.close()\n",
        "#miMap"
      ],
      "execution_count": null,
      "outputs": []
    },
    {
      "cell_type": "markdown",
      "metadata": {
        "id": "OLdnG1ML3kk1"
      },
      "source": [
        "## Try Map w Plotly "
      ]
    },
    {
      "cell_type": "markdown",
      "metadata": {
        "id": "8Sv-CfeGFExc"
      },
      "source": [
        "We can see that the above graph does not work very well with just joining on name because there could be many counties with the same name. So we are going to filter the json to get just the state of Michigan and use the FIPS IDs to just make it really clean. "
      ]
    },
    {
      "cell_type": "code",
      "metadata": {
        "id": "35wM2CIRPG-H"
      },
      "source": [
        "import plotly.express as px\n",
        "from urllib.request import urlopen\n",
        "import json\n",
        "with urlopen('https://raw.githubusercontent.com/plotly/datasets/master/geojson-counties-fips.json') as response:\n",
        "    counties = json.load(response)\n",
        "\n",
        "fig = px.choropleth(total_voter_pop, geojson=counties, color=\"fraction\",\n",
        "                    locations=\"CountyName\", featureidkey=\"properties.NAME\",\n",
        "                    projection=\"mercator\"\n",
        "                   )\n",
        "fig.update_geos(fitbounds=\"locations\", visible=False)\n",
        "fig.update_layout(margin={\"r\":0,\"t\":0,\"l\":0,\"b\":0})\n",
        "#fig.show()"
      ],
      "execution_count": null,
      "outputs": []
    },
    {
      "cell_type": "markdown",
      "metadata": {
        "id": "RF2mvAuAPT5n"
      },
      "source": [
        "We can see that the above graph does not work very well with just joining on name because there could be many counties with the same name. So we are going to filter the json to get just the state of Michigan and use the FIPS IDs to just make it really clean."
      ]
    },
    {
      "cell_type": "code",
      "metadata": {
        "id": "PVUak2F3PPxS"
      },
      "source": [
        "#We're done with the dataframe for now, so delete it\n",
        "del total_voter_pop"
      ],
      "execution_count": null,
      "outputs": []
    },
    {
      "cell_type": "code",
      "metadata": {
        "id": "OsV-07z93nzr"
      },
      "source": [
        "from urllib.request import urlopen\n",
        "import json\n",
        "with urlopen('https://raw.githubusercontent.com/plotly/datasets/master/geojson-counties-fips.json') as response:\n",
        "    counties = json.load(response)\n",
        "\n",
        "counties[\"features\"][0]"
      ],
      "execution_count": null,
      "outputs": []
    },
    {
      "cell_type": "code",
      "metadata": {
        "id": "qaAIV28B3qe9"
      },
      "source": [
        "data = {}\n",
        "nest1 = counties[\"features\"]\n",
        "for thing in nest1: \n",
        "  if thing['properties']['STATE'] == '26':\n",
        "    data[thing['id']] = thing['properties']['NAME']"
      ],
      "execution_count": null,
      "outputs": []
    },
    {
      "cell_type": "code",
      "metadata": {
        "id": "QufsQvul69PX"
      },
      "source": [
        "trial = pd.DataFrame(data, index=[0])\n",
        "mi_fips = trial.T.reset_index()\n",
        "mi_fips = mi_fips.rename(columns={\"index\": \"FIPS\", 0: 'CountyName'})\n",
        "mi_fips.head()"
      ],
      "execution_count": null,
      "outputs": []
    },
    {
      "cell_type": "code",
      "metadata": {
        "id": "Aq9V9i_3CbBY"
      },
      "source": [
        "registered_voters = pd.read_csv(WorkingDirectory + 'AdditionalData/All Registered Voters Michigan.csv')\n",
        "registered_voters.rename(columns = {'County':'CountyName'}, inplace = True)\n",
        "county_pop_df = dfVoters_sub.groupby('CountyName').count()['Voter File VANID'].to_frame().reset_index()\n",
        "#county_pop_df['Voter File VANID'] = county_pop_df['Voter File VANID'].fillna(0)\n",
        "county_pop_df['Voter File VANID'] = county_pop_df['Voter File VANID'].dropna()\n",
        "county_pop_df['CountyName'] = county_pop_df['CountyName'].str.upper()\n",
        "\n",
        "total_voter_pop = pd.merge(county_pop_df, registered_voters, how = 'left', on = 'CountyName')\n",
        "total_voter_pop['Voter File VANID'].astype(int)\n",
        "print(total_voter_pop[pd.isna(total_voter_pop['All Registered Voters'])])\n",
        "\n",
        "total_voter_pop['All Registered Voters'].astype(int)\n",
        "total_voter_pop['fraction'] = total_voter_pop['Voter File VANID'] / total_voter_pop['All Registered Voters']\n",
        "total_voter_pop['CountyName'] = total_voter_pop['CountyName'].str.title()\n",
        "#total_voter_pop['RaceName'] = 'All'\n",
        "#total_voter_pop['Sex'] = 'All'\n",
        "#total_voter_pop['AgeGroup'] = 'All'\n",
        "total_voter_pop.head()\n",
        "\n",
        "plotly_fips = pd.merge(total_voter_pop, mi_fips, how = 'left', on = 'CountyName')\n",
        "\n",
        "plotly_fips.to_csv(WorkingDirectory + 'DashboardFiles/' + \"plotly_fips.csv\")\n",
        "\n",
        "del county_pop_df\n",
        "del registered_voters\n",
        "del total_voter_pop\n"
      ],
      "execution_count": null,
      "outputs": []
    },
    {
      "cell_type": "code",
      "metadata": {
        "id": "pDpt4xcNFHlr"
      },
      "source": [
        "plotly_fips.head()"
      ],
      "execution_count": null,
      "outputs": []
    },
    {
      "cell_type": "code",
      "metadata": {
        "id": "fBMA3uA5Plc7"
      },
      "source": [
        "import plotly.express as px\n",
        "from urllib.request import urlopen\n",
        "import json\n",
        "with urlopen('https://raw.githubusercontent.com/plotly/datasets/master/geojson-counties-fips.json') as response:\n",
        "    counties = json.load(response)\n",
        "\n",
        "#fig = px.choropleth(plotly_fips, geojson=counties, color=\"fraction\",\n",
        "#                    locations=\"FIPS\", featureidkey=\"features.id\",\n",
        "#                    projection=\"mercator\"\n",
        "#                   )\n",
        "\n",
        "\n",
        "\n",
        "#plotly_fips_filtered = plotly_fips[plotly_fips['RaceName'] == 'Race']\n",
        "\n",
        "fig = px.choropleth(plotly_fips, geojson=counties, locations='FIPS', color='fraction',\n",
        "                           color_continuous_scale=\"Viridis_r\",\n",
        "                           range_color=(0, 0.3),\n",
        "                           scope=\"usa\",\n",
        "                           labels={'fraction':'ACLU Voters by Registered Voters'}, \n",
        "                    hover_data=[\"CountyName\", 'fraction', 'Voter File VANID', 'All Registered Voters']\n",
        "                          )\n",
        "fig.update_geos(fitbounds=\"locations\", visible=False)\n",
        "fig.update_layout(margin={\"r\":0,\"t\":0,\"l\":0,\"b\":0})\n",
        "\n",
        "\n",
        "#fig.show()"
      ],
      "execution_count": null,
      "outputs": []
    },
    {
      "cell_type": "code",
      "metadata": {
        "id": "jHGgUYf-PzXj"
      },
      "source": [
        "\n",
        "del plotly_fips"
      ],
      "execution_count": null,
      "outputs": []
    },
    {
      "cell_type": "markdown",
      "metadata": {
        "id": "jnyLaRMei76l"
      },
      "source": [
        "## Biden Support"
      ]
    },
    {
      "cell_type": "code",
      "metadata": {
        "id": "GFwEv6kUi_tW"
      },
      "source": [
        "biden_support_df = dfVoters_sub.groupby([\"RaceName\", \"Sex\", \"AgeGroup\", \"CountyName\", '2020_Biden_Support']).count()['Voter File VANID'].to_frame().reset_index()\n",
        "biden_support_df['Voter File VANID'] = biden_support_df['Voter File VANID'].fillna(0)\n",
        "biden_support_df = biden_support_df.rename(columns={\"Voter File VANID\": \"# of Voters\"})\n",
        "biden_support_df[\"2020_Biden_Support\"] = biden_support_df[\"2020_Biden_Support\"].str.replace('\\d+\\.\\s','')\n",
        "biden_support_df.head()\n",
        "\n",
        "\n"
      ],
      "execution_count": null,
      "outputs": []
    },
    {
      "cell_type": "code",
      "metadata": {
        "id": "r3o5wy2rP9Mk"
      },
      "source": [
        "biden_support_df.to_csv(WorkingDirectory + 'DashboardFiles/'  + \"biden_support_df.csv\")\n",
        "del biden_support_df"
      ],
      "execution_count": null,
      "outputs": []
    },
    {
      "cell_type": "markdown",
      "metadata": {
        "id": "61bI07EkvDs6"
      },
      "source": [
        "## Pie Charts"
      ]
    },
    {
      "cell_type": "code",
      "metadata": {
        "id": "BHYde1xjvHGa"
      },
      "source": [
        "mass_inc = dfVoters_sub.groupby([\"RaceName\", \"Sex\", \"AgeGroup\", \"CountyName\",'Mass_Incarceration']).count()['Voter File VANID'].to_frame().reset_index()\n",
        "mass_inc = mass_inc.rename(columns={\"Voter File VANID\": \"Count\"})\n",
        "\n",
        "policing = dfVoters_sub.groupby([\"RaceName\", \"Sex\", \"AgeGroup\", \"CountyName\",'PoliceAccountability']).count()['Voter File VANID'].to_frame().reset_index()\n",
        "policing = policing.rename(columns={\"Voter File VANID\": \"Count\"})\n",
        "\n",
        "weed = dfVoters_sub.groupby([\"RaceName\", \"Sex\", \"AgeGroup\", \"CountyName\",'MarijuanaConviction']).count()['Voter File VANID'].to_frame().reset_index()\n",
        "weed = weed.rename(columns={\"Voter File VANID\": \"Count\"})\n",
        "\n",
        "\n",
        "mass_inc.to_csv(WorkingDirectory + 'DashboardFiles/'  + \"mass_inc.csv\")\n",
        "policing.to_csv(WorkingDirectory + 'DashboardFiles/'  + \"policing.csv\")\n",
        "weed.to_csv(WorkingDirectory + 'DashboardFiles/'  + \"weed.csv\")\n",
        "\n",
        "\n",
        "#Not delting dfVoters_sub as it's needed in a moment"
      ],
      "execution_count": null,
      "outputs": []
    },
    {
      "cell_type": "code",
      "metadata": {
        "id": "WuitPGUfQLKe"
      },
      "source": [
        "import dash_html_components as html\n",
        "from jupyter_dash import JupyterDash\n",
        "import dash_core_components as dcc\n",
        "external_stylesheets = ['https://codepen.io/chriddyp/pen/bWLwgP.css']\n",
        "\n",
        "app = JupyterDash(__name__, external_stylesheets=external_stylesheets)\n",
        "\n",
        "chart4 = dcc.Graph(\n",
        "  id='mass-inc-graph',\n",
        "  figure=px.pie(\n",
        "      mass_inc, \n",
        "      values=\"Count\",\n",
        "      hole=0.5,\n",
        "      names=\"Mass_Incarceration\", \n",
        "      title=\"Mass Incarceration\", \n",
        "      labels={'Mass_Incarceration':'Support'}, \n",
        "      color='Mass_Incarceration',\n",
        "      color_discrete_map={'Yes':'(#a7d7b5',\n",
        "                              'No':'#fcaa17',\n",
        "                              'Other/Unknown':'#a3dbe3'}),\n",
        "  style={'width': '50vh', 'height': '50vh', 'float': 'right'}\n",
        ")\n",
        "\n",
        "chart5 = dcc.Graph(\n",
        "  id='policing-graph',\n",
        "  figure=px.pie(\n",
        "      policing, \n",
        "      values=\"Count\",\n",
        "      hole=0.5,\n",
        "      names=\"PoliceAccountability\", \n",
        "      title=\"Police Accountability\", \n",
        "      labels={'PoliceAccountability':'Support'}, \n",
        "      color='PoliceAccountability',\n",
        "      color_discrete_map={'Yes':'(#a7d7b5',\n",
        "                              'No':'#fcaa17',\n",
        "                              'Other/Unknown':'#a3dbe3',\n",
        "                              'Maybe':'#fabeaf'}),\n",
        "  style={'width': '50vh', 'height': '50vh', 'float': 'right'}\n",
        ")\n",
        "\n",
        "chart6 = dcc.Graph(\n",
        "  id='weed-graph',\n",
        "  figure=px.pie(\n",
        "      weed, \n",
        "      values=\"Count\",\n",
        "      hole=0.5,\n",
        "      names=\"MarijuanaConviction\", \n",
        "      title=\"Marijuana Conviction\", \n",
        "      labels={'Marijuana Conviction':'Support'}, \n",
        "      color='MarijuanaConviction',\n",
        "      color_discrete_map={'Yes':'(#a7d7b5',\n",
        "                              'No':'#fcaa17',\n",
        "                              'Other/Unknown':'#a3dbe3'}),\n",
        "  style={'width': '50vh', 'height': '50vh', 'float': 'right'}\n",
        ")\n",
        "\n",
        "\n",
        "\n",
        "app.layout = html.Div(children=[html.Div(children=[chart4, chart5, chart6], className='row')])\n",
        "\n",
        "\n",
        "#Commented out because we can only have one at a time\n",
        "#app.run_server(mode=\"inline\")"
      ],
      "execution_count": null,
      "outputs": []
    },
    {
      "cell_type": "code",
      "metadata": {
        "id": "WakctWvpQMgr"
      },
      "source": [
        "del mass_inc\n",
        "del policing\n",
        "del weed"
      ],
      "execution_count": null,
      "outputs": []
    },
    {
      "cell_type": "markdown",
      "metadata": {
        "id": "nLniioMq9BKo"
      },
      "source": [
        "## Election Line Chart"
      ]
    },
    {
      "cell_type": "code",
      "metadata": {
        "id": "t-k8QwO1vTCS"
      },
      "source": [
        "#Set up all our filter columns\n",
        "FilterColumnNames = [\"RaceName\", \"Sex\", \"AgeGroup\", \"CountyName\"]\n",
        "FilterColumns = {}\n",
        "import math\n",
        "import numpy as np\n",
        "import pickle\n",
        "\n",
        "for column in FilterColumnNames:\n",
        "  FilterColumns[column] = list(dfVoters_sub[column].astype(\"str\").replace(np.nan, 'nan', regex=True).unique())\n",
        "  FilterColumns[column].append(\"All\")\n",
        "  print(FilterColumns[column])\n",
        "\n",
        "with open(WorkingDirectory + 'DashboardFiles/' + 'FilterColumns.data', 'wb') as filehandle:\n",
        "    # store the data as binary data stream\n",
        "    pickle.dump(FilterColumns, filehandle)\n",
        "\n",
        "ImportantColumnNames = FilterColumnNames.copy()\n",
        "ImportantColumnNames.append(['CommunicationType', 'ElectionType'])\n",
        "dfOutreach = pd.read_csv(WorkingFiles + \"dfOutreach.csv\")\n",
        "outreach_voters = pd.merge(dfOutreach, dfVoters_sub, how='left', on='Voter File VANID')\n",
        "\n",
        "outreach_dem_df = outreach_voters[['Voter File VANID', 'ElectionType', 'CommunicationType',\n",
        "                                   'CountyName', 'AgeGroup', 'RaceName', 'Sex']]\n",
        "\n",
        "outreach_dem_df_nan = outreach_dem_df.copy()\n",
        "outreach_dem_df_nan[\"AgeGroup\"] = outreach_dem_df_nan[\"AgeGroup\"].astype(\"str\")\n",
        "outreach_dem_df_nan.head()\n",
        "\n",
        "outreach_dem_df_nan = outreach_dem_df_nan.replace(np.nan, 'nan', regex=True)\n",
        "outreach_dem_df_nan = outreach_dem_df_nan.replace(np.nan, 'nan', regex=True)\n",
        "\n",
        "\n",
        "df_aggregate = outreach_dem_df_nan.groupby([\"RaceName\", \"Sex\", \"AgeGroup\", \"CountyName\", \n",
        "                                        'CommunicationType', 'ElectionType']).count().reset_index()\n",
        "df_aggregate = df_aggregate.rename(columns={\"Voter File VANID\": \"Count\", 'ElectionType': 'CampaignType'})\n",
        "\n",
        "df_aggregate['CampaignType'] = df_aggregate['CampaignType'].replace({'lpv': 'Statewide voting rights/voter education race', \n",
        "                                                           'scomi': 'Supreme Court of Michigan Race',\n",
        "                                                           'oakland': 'Oakland County Prosecutor Race', \n",
        "                                                           'oakland prosecutor': 'Oakland County Prosecutor Race', \n",
        "                                                           'oakland county prosecutor race': 'Oakland County Prosecutor Race'})\n",
        "\n",
        "df_aggregate.to_csv(WorkingDirectory + 'DashboardFiles/' + \"df_aggregate.csv\")\n",
        "del df_aggregate"
      ],
      "execution_count": null,
      "outputs": []
    },
    {
      "cell_type": "markdown",
      "metadata": {
        "id": "Y0haZ82L355J"
      },
      "source": [
        "Now for the final few bits before we can run this properly"
      ]
    },
    {
      "cell_type": "code",
      "metadata": {
        "id": "3X98rWsZ2mod"
      },
      "source": [
        "import plotly.express as px\n",
        "election_votes = pd.read_csv(WorkingDirectory + 'DashboardFiles/' + \"election_votes.csv\")\n",
        "election_votes = election_votes.groupby(['year', 'electiontype']).sum().reset_index()\n",
        "px.line(\n",
        "          election_votes, \n",
        "          x='year', \n",
        "          y='Count', \n",
        "          color = 'electiontype')\n",
        "\n",
        "\n"
      ],
      "execution_count": null,
      "outputs": []
    },
    {
      "cell_type": "markdown",
      "metadata": {
        "id": "maDWAcACofLh"
      },
      "source": [
        "## Heatmap of Party"
      ]
    },
    {
      "cell_type": "code",
      "metadata": {
        "id": "FKJLxlRQf5ZW"
      },
      "source": [
        "party_dem = dfVoters_sub[['Voter File VANID', 'Party',\n",
        "                                   'CountyName', 'AgeGroup', 'RaceName', 'Sex']]\n",
        "\n",
        "party = party_dem.groupby(['Party','CountyName', 'AgeGroup', 'RaceName', 'Sex'\n",
        "                                       ]).count()['Voter File VANID'].to_frame().reset_index()\n",
        "party = party.rename(columns={\"Voter File VANID\": \"Count\"})"
      ],
      "execution_count": null,
      "outputs": []
    },
    {
      "cell_type": "code",
      "metadata": {
        "id": "17aAuPjJopQI"
      },
      "source": [
        "pivot = pd.pivot_table(party, values='Count', index='CountyName', columns='Party', aggfunc=np.sum)\n",
        "pivot.to_csv(WorkingDirectory + 'DashboardFiles/' + \"party_pivot.csv\")"
      ],
      "execution_count": null,
      "outputs": []
    },
    {
      "cell_type": "code",
      "metadata": {
        "id": "fcYJ1o32gHCn"
      },
      "source": [
        "def df_to_plotly(df):\n",
        "    return {'z': df.Count,\n",
        "            'x': df.CountyName.tolist(),\n",
        "            'y': df.Party.tolist()}"
      ],
      "execution_count": null,
      "outputs": []
    },
    {
      "cell_type": "code",
      "metadata": {
        "id": "XFG1so55gIWY"
      },
      "source": [
        "fig = go.Figure(data=go.Heatmap(df_to_plotly(pivot)))\n",
        "fig.show()"
      ],
      "execution_count": null,
      "outputs": []
    },
    {
      "cell_type": "markdown",
      "metadata": {
        "id": "i-Fl3ZX8Nmih"
      },
      "source": [
        "# Build our Dashboard"
      ]
    },
    {
      "cell_type": "code",
      "metadata": {
        "id": "EEPK9IQ5381I"
      },
      "source": [
        "#So here we need to copy files from Google into our virtual machine since the permissions will not carry over from the Jupyter notebook. \n",
        "from shutil import copyfile\n",
        "copyfile(WorkingDirectory + 'DashboardFiles/' + \"df_aggregate.csv\", \"df_aggregate.csv\")\n",
        "copyfile(WorkingDirectory + 'DashboardFiles/' + \"total_voter_pop.csv\", \"total_voter_pop.csv\")\n",
        "copyfile(WorkingDirectory + 'DashboardFiles/' + \"biden_support_df.csv\", \"biden_support_df.csv\")\n",
        "copyfile(WorkingDirectory + 'DashboardFiles/' + \"mass_inc.csv\", \"mass_inc.csv\")\n",
        "copyfile(WorkingDirectory + 'DashboardFiles/' + \"policing.csv\", \"policing.csv\")\n",
        "copyfile(WorkingDirectory + 'DashboardFiles/' + \"weed.csv\", \"weed.csv\")\n",
        "copyfile(WorkingDirectory + 'DashboardFiles/' + \"election_votes.csv\", \"election_votes.csv\")\n",
        "copyfile(WorkingDirectory + 'DashboardFiles/' + \"plotly_fips.csv\", \"plotly_fips.csv\")\n",
        "copyfile(WorkingDirectory + 'DashboardFiles/' + \"FilterColumns.data\", \"FilterColumns.data\")\n",
        "\n",
        "copyfile(WorkingDirectory + 'AdditionalData/' + \"Counties_(v17a).geojson\", WorkingDirectory + 'DashboardFiles/Counties_(v17a).geojson')\n",
        "copyfile(WorkingDirectory + 'AdditionalData/' + \"Counties_(v17a).geojson\", \"Counties_(v17a).geojson\")\n",
        "\n"
      ],
      "execution_count": null,
      "outputs": []
    },
    {
      "cell_type": "code",
      "metadata": {
        "id": "jxFCNSV7UvfT"
      },
      "source": [
        "import pandas as pd\n",
        "total_voter_pop = pd.read_csv(\"total_voter_pop.csv\")\n",
        "total_voter_pop"
      ],
      "execution_count": null,
      "outputs": []
    },
    {
      "cell_type": "code",
      "metadata": {
        "id": "e8SuW28_3j1M",
        "colab": {
          "base_uri": "https://localhost:8080/"
        },
        "outputId": "5660098a-3d5e-4ba8-adb6-4f776f7145c8"
      },
      "source": [
        "%%writefile AltairGraph.py\n",
        "\n",
        "import altair as alt\n",
        "import io\n",
        "import dash\n",
        "import dash_core_components as dcc\n",
        "import dash_html_components as html\n",
        "import dash_bootstrap_components as dbc\n",
        "import plotly.graph_objs as go\n",
        "from jupyter_dash import JupyterDash\n",
        "import plotly.express as px\n",
        "from vega_datasets import data\n",
        "import folium\n",
        "import pandas as pd\n",
        "import pickle\n",
        "from urllib.request import urlopen\n",
        "import json\n",
        "\n",
        "with urlopen('https://raw.githubusercontent.com/plotly/datasets/master/geojson-counties-fips.json') as response:\n",
        "    counties = json.load(response)\n",
        "\n",
        "with open('FilterColumns.data', 'rb') as filehandle:\n",
        "    # read the data as binary data stream\n",
        "    FilterColumns = pickle.load(filehandle)\n",
        "\n",
        "df_aggregate = pd.read_csv(\"df_aggregate.csv\")\n",
        "total_voter_pop = pd.read_csv(\"total_voter_pop.csv\")\n",
        "biden_support_df = pd.read_csv(\"biden_support_df.csv\")\n",
        "mass_inc = pd.read_csv(\"mass_inc.csv\")\n",
        "policing = pd.read_csv(\"policing.csv\")\n",
        "weed = pd.read_csv(\"weed.csv\")\n",
        "election_votes = pd.read_csv(\"election_votes.csv\")\n",
        "plotly_fips = pd.read_csv(\"plotly_fips.csv\")\n",
        "#alt.data_transformers.disable_max_rows()\n",
        "\n",
        "# Don't need this with the cars dataset\n",
        "alt.data_transformers.enable('default', max_rows=150000)\n",
        "\n",
        "cars = data.cars()\n",
        "\n",
        "external_stylesheets = ['https://codepen.io/chriddyp/pen/bWLwgP.css']\n",
        "app = JupyterDash(__name__, external_stylesheets=[dbc.themes.BOOTSTRAP])\n",
        "app.css.append_css({'external_url':\n",
        "                    'https://cdn.rawgit.com/gschivley/8040fc3c7e11d2a4e7f0589ffc829a02/raw/fe763af6be3fc79eca341b04cd641124de6f6f0d/dash.css'\n",
        "                    })\n",
        "app.title = 'Test dash and altair'\n",
        "server = app.server\n",
        "\n",
        "#Build our dropdowns for each of the Filter Columns\n",
        "#dbc.Row([dbc.Col\n",
        "DropDowns = []\n",
        "inputs = []\n",
        "for ColumnName in FilterColumns.keys():\n",
        "    DropDowns.append(\n",
        "      dbc.Col(\n",
        "          [\n",
        "            html.H3(ColumnName),\n",
        "            dcc.Dropdown(\n",
        "                id=ColumnName,\n",
        "                options=[{'label': i, 'value':i} for i in FilterColumns[ColumnName]],\n",
        "                value='All'\n",
        "            )\n",
        "          ])\n",
        "    )\n",
        "    inputs.append(dash.dependencies.Input(ColumnName, 'value'))\n",
        "\n",
        "#Build our main layout\n",
        "#app.layout = html.Div(children=[html.Div(children=DropDowns, className='row'), html.Pre(id='plot', children=\"If this doesn't go away you have an error\")])\n",
        "app.layout = html.Div(children=[dbc.Row(children=DropDowns, className=\"col-1 col-sm-1 col-lg-2 col-xl-4\"), html.Div(id=\"plot\")])\n",
        "\n",
        "@app.callback(\n",
        "    dash.dependencies.Output('plot', 'children'),\n",
        "    inputs\n",
        ")\n",
        "def pick_figure(Race, Sex, AgeGroup, CountyName):\n",
        "    #This is our key. Filter everything before passing it into the charts.\n",
        "    dfFiltered = df_aggregate[((df_aggregate['RaceName'] == Race) | (Race == 'All') ) & \n",
        "                              ((df_aggregate['Sex'] == Sex) | (Sex == 'All')) &\n",
        "                              ((df_aggregate['AgeGroup'] == AgeGroup) | (AgeGroup == 'All')) &\n",
        "                              ((df_aggregate['CountyName'] == CountyName) | (CountyName == 'All'))]\n",
        "    \n",
        "    total_voter_pop_filtered = total_voter_pop[((total_voter_pop['RaceName'] == Race) | (Race == 'All') ) & \n",
        "                              ((total_voter_pop['Sex'] == Sex) | (Sex == 'All')) &\n",
        "                              ((total_voter_pop['AgeGroup'] == AgeGroup) | (AgeGroup == 'All')) &\n",
        "                              ((total_voter_pop['CountyName'] == CountyName) | (CountyName == 'All'))]\n",
        "    \n",
        "    biden_support_filtered = biden_support_df[((biden_support_df['RaceName'] == Race) | (Race == 'All') ) & \n",
        "                              ((biden_support_df['Sex'] == Sex) | (Sex == 'All')) &\n",
        "                              ((biden_support_df['AgeGroup'] == AgeGroup) | (AgeGroup == 'All')) &\n",
        "                              ((biden_support_df['CountyName'] == CountyName) | (CountyName == 'All'))]\n",
        "    \n",
        "    mass_inc_filtered = mass_inc[((mass_inc['RaceName'] == Race) | (Race == 'All') ) & \n",
        "                              ((mass_inc['Sex'] == Sex) | (Sex == 'All')) &\n",
        "                              ((mass_inc['AgeGroup'] == AgeGroup) | (AgeGroup == 'All')) &\n",
        "                              ((mass_inc['CountyName'] == CountyName) | (CountyName == 'All'))]\n",
        "    \n",
        "    policing_filtered = policing[((policing['RaceName'] == Race) | (Race == 'All') ) & \n",
        "                              ((policing['Sex'] == Sex) | (Sex == 'All')) &\n",
        "                              ((policing['AgeGroup'] == AgeGroup) | (AgeGroup == 'All')) &\n",
        "                              ((policing['CountyName'] == CountyName) | (CountyName == 'All'))]\n",
        "    \n",
        "    weed_filtered = weed[((weed['RaceName'] == Race) | (Race == 'All') ) & \n",
        "                              ((weed['Sex'] == Sex) | (Sex == 'All')) &\n",
        "                              ((weed['AgeGroup'] == AgeGroup) | (AgeGroup == 'All')) &\n",
        "                              ((weed['CountyName'] == CountyName) | (CountyName == 'All'))]\n",
        "    \n",
        "    election_votes_filtered = election_votes[((election_votes['RaceName'] == Race) | (Race == 'All') ) & \n",
        "                              ((election_votes['Sex'] == Sex) | (Sex == 'All')) &\n",
        "                              ((election_votes['AgeGroup'] == AgeGroup) | (AgeGroup == 'All')) &\n",
        "                              ((election_votes['CountyName'] == CountyName) | (CountyName == 'All'))]\n",
        "    election_votes_filtered = election_votes_filtered.groupby(['year', 'ElectionType']).sum().reset_index()\n",
        "    \n",
        "    plotly_fips_filtered = plotly_fips[((plotly_fips['CountyName'] == CountyName) | (CountyName == 'All'))]\n",
        "    #                          ((plotly_fips['Sex'] == Sex) | (Sex == 'All')) &\n",
        "    #                          ((plotly_fips['AgeGroup'] == AgeGroup) | (AgeGroup == 'All')) &\n",
        "    #                           ((plotly_fips['RaceName'] == Race) | (Race == 'All') ) &                               \n",
        "    \n",
        "    \n",
        "    \n",
        "\n",
        "    #We should also aggregate it. This will keep our record count low and avoid errors. We will obviously need to add columns that we need.\n",
        "    #dfFiltered = dfFiltered.groupby(by=['2020_Biden_Support', 'CountyName']).sum()\n",
        "    #dfFiltered = dfFiltered.reset_index()\n",
        "\n",
        "    #Encode the Altair Chart\n",
        "    base = alt.Chart(dfFiltered).mark_bar().encode(\n",
        "    x='Count:Q',\n",
        "    y = alt.Y('CommunicationType:N', title=None),\n",
        "    color='CommunicationType:N',\n",
        "    row='ElectionType:N').properties(title='Election by Communication Type')\n",
        "\n",
        "    # Save html as a StringIO object in memory\n",
        "    htmloutput = io.StringIO()\n",
        "    base.save(htmloutput, 'html')\n",
        "\n",
        "    chart1 = html.Iframe(\n",
        "        height='500',\n",
        "        width='1000',\n",
        "        #sandbox='allow-scripts',\n",
        "\n",
        "        # This is where we will pass the html\n",
        "        srcDoc = htmloutput.getvalue(),\n",
        "\n",
        "        # Get rid of the border box\n",
        "        style={'border-width': '0px'}\n",
        "    )\n",
        "\n",
        "    #Create a simple Plotly Express chart\n",
        "\n",
        "    chart2 = dcc.Graph(\n",
        "      id='example-graph',\n",
        "      figure=px.histogram(\n",
        "          biden_support_filtered, \n",
        "          x=\"2020_Biden_Support\", \n",
        "          y=\"# of Voters\", \n",
        "          barmode='group', histfunc='sum',\n",
        "          color_discrete_sequence=['#0055aa'],\n",
        "          title=\"Biden 2020 Support\", \n",
        "          labels={'2020_Biden_Support':''})\n",
        "    )\n",
        "\n",
        "    #Add a folium map\n",
        "    #start_coords = (44.3148, -85.6024)\n",
        "    #folium_map = folium.Map(location=start_coords, tiles='cartodbpositron', zoom_start=6)\n",
        "    miMap = folium.Map(location=[44.3148, -85.6024], tiles='cartodbpositron', zoom_start=7)\n",
        "    m = folium.Choropleth(geo_data='Counties_(v17a).geojson',\n",
        "                 data=total_voter_pop_filtered, columns=['CountyName', 'fraction'], key_on='feature.properties.NAME',\n",
        "                 fill_color='YlGnBu', fill_opacity=1).add_to(miMap)\n",
        "\n",
        "    \n",
        "    chart3 = html.Iframe(\n",
        "        height='2000',\n",
        "        width='1000',\n",
        "\n",
        "        # This is where we will pass the html\n",
        "        srcDoc = miMap._repr_html_(),\n",
        "\n",
        "        # Get rid of the border box\n",
        "        style={'border-width': '0px', 'float': 'right'}\n",
        "    )\n",
        "    \n",
        "    chart4 = dcc.Graph(\n",
        "      id='mass-inc-graph',\n",
        "      figure=px.pie(\n",
        "          mass_inc_filtered, \n",
        "          values=\"Count\",\n",
        "          hole=0.5,\n",
        "          names=\"Mass_Incarceration\", \n",
        "          title=\"Support for Ending Mass Incarceration\", \n",
        "          labels={'Mass_Incarceration':'Support'}, \n",
        "          color='Mass_Incarceration',\n",
        "          color_discrete_map={'Yes':'#a7d7b5',\n",
        "                                 'No':'#fcaa17',\n",
        "                                 'Other/Unknown':'#a3dbe3'}),\n",
        "      style={'width': '50vh', 'height': '50vh', 'float': 'right'}\n",
        "    )\n",
        "    \n",
        "    chart5 = dcc.Graph(\n",
        "      id='policing-graph',\n",
        "      figure=px.pie(\n",
        "          policing_filtered, \n",
        "          values=\"Count\",\n",
        "          hole=0.5,\n",
        "          names=\"PoliceAccountability\", \n",
        "          title=\"Support for Police Accountability\", \n",
        "          labels={'PoliceAccountability':'Support'}, \n",
        "          color='PoliceAccountability',\n",
        "          color_discrete_map={'Yes':'#a7d7b5',\n",
        "                                 'No':'#fcaa17',\n",
        "                                 'Other/Unknown':'#a3dbe3',\n",
        "                                 'Maybe':'#fabeaf'}),\n",
        "      style={'width': '50vh', 'height': '50vh', 'float': 'right'}\n",
        "    )\n",
        "\n",
        "    chart6 = dcc.Graph(\n",
        "      id='weed-graph',\n",
        "      figure=px.pie(\n",
        "          weed_filtered, \n",
        "          values=\"Count\",\n",
        "          hole=0.5,\n",
        "          names=\"MarijuanaConviction\", \n",
        "          title=\"Support for Marijuana Legalization\", \n",
        "          labels={'Marijuana Conviction':'Support'}, \n",
        "          color='MarijuanaConviction',\n",
        "          color_discrete_map={'Yes':'#a7d7b5',\n",
        "                                 'No':'#fcaa17',\n",
        "                                 'Other/Unknown':'#a3dbe3'}),\n",
        "      style={'width': '50vh', 'height': '50vh', 'float': 'right'}\n",
        "    )\n",
        "\n",
        "    chart7 = dcc.Graph(\n",
        "      id='election-graph',\n",
        "      figure=px.line(\n",
        "          election_votes_filtered, \n",
        "          x='year', \n",
        "          y='Count', \n",
        "          color = 'electiontype',\n",
        "          color_discrete_map={'General##':'#000000','Municipal##':'#3c3532',\n",
        "                              'PresPrimary##':'#00343a','PresPrimary##Party':'#130f54',\n",
        "                              'Primary##':'#691b40','Primary##Party':'#552564','Special##':'#0055aa'})\n",
        "    )\n",
        "\n",
        "    plotly_map = dcc.Graph(\n",
        "      id='map-graph',\n",
        "      figure=px.choropleth(plotly_fips_filtered, geojson=counties, locations='FIPS', color='fraction',\n",
        "                           color_continuous_scale=\"dense\",\n",
        "                           range_color=(0, 0.3),\n",
        "                           scope=\"usa\",\n",
        "                           labels={'fraction':'ACLU Voters by Registered Voters'}, \n",
        "                           hover_data=[\"CountyName\", 'fraction', 'Voter File VANID', 'All Registered Voters']\n",
        "                          ).update_geos(fitbounds=\"locations\", visible=False).update_layout(margin={\"r\":0,\"t\":0,\"l\":0,\"b\":0})\n",
        "    )\n",
        "\n",
        "    comm_graph = dcc.Graph(\n",
        "      id='comm-graph',\n",
        "      figure=px.histogram(df_aggregate, x=\"CampaignType\", y=\"Count\", color=\"CommunicationType\", \n",
        "                          color_discrete_map={'text':'#a7d7b5','mail':'#ffe06a','phone':'#fcaa17','call':'#a3dbe3','postcards':'#fabeaf'},\n",
        "                          barmode=\"group\", histfunc='sum', \n",
        "                          title=\"Campaign by Communication Type\"),\n",
        "      style={'width': '125vh', 'height': '50vh', 'float': 'right'}\n",
        "    )\n",
        "\n",
        "    \n",
        "    # Return the html from StringIO object\n",
        "    Title = dbc.Row(dbc.Col(html.H1(\"ACLU Voter Info\"), width=12))\n",
        "    Map = dbc.Row(dbc.Col(plotly_map, width=12))\n",
        "    MapLabelRow = dbc.Row(dbc.Col(html.H3('Note: Map includes data that does not contain Sex, Age or Race data and will not filter on those drop-downs.')))\n",
        "    PieChartRow = dbc.Row([dbc.Col(chart4), dbc.Col(chart5), dbc.Col(chart6), dbc.Col(chart2)], className=\"col-sm-1 col-lg-2 col-xl-4\")\n",
        "    VotesLine = dbc.Row(dbc.Col(chart7))\n",
        "    #return Map , MapLabelRow, comm_graph, chart2, PieChartRow, chart7\n",
        "    return Title, Map, MapLabelRow, PieChartRow, VotesLine\n",
        "\n",
        "if __name__ == '__main__':\n",
        "    #app.run_server(debug=True)\n",
        "    app.run_server(host='0.0.0.0', debug=True)\n",
        "#app.run_server(mode=\"inline\")"
      ],
      "execution_count": null,
      "outputs": [
        {
          "output_type": "stream",
          "text": [
            "Writing AltairGraph.py\n"
          ],
          "name": "stdout"
        }
      ]
    },
    {
      "cell_type": "code",
      "metadata": {
        "id": "cFwD0Llfr298"
      },
      "source": [
        "copyfile('AltairGraph.py', WorkingDirectory + 'DashboardFiles/' + \"AltairGraph.py\")\n"
      ],
      "execution_count": null,
      "outputs": []
    },
    {
      "cell_type": "code",
      "metadata": {
        "id": "dhbrLIMI51ki"
      },
      "source": [
        "publicIP = GetPublicIP(5)\n",
        "### Run Dash app\n",
        "!python AltairGraph.py"
      ],
      "execution_count": null,
      "outputs": []
    },
    {
      "cell_type": "code",
      "metadata": {
        "id": "ZLYckGD4hAk1"
      },
      "source": [
        "! pip freeze > dashboard_requirements.txt"
      ],
      "execution_count": null,
      "outputs": []
    }
  ]
}