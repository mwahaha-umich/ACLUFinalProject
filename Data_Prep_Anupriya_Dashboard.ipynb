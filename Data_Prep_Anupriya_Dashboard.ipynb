{
  "nbformat": 4,
  "nbformat_minor": 0,
  "metadata": {
    "colab": {
      "name": "Data Prep Anupriya Dashboard.ipynb",
      "provenance": [],
      "collapsed_sections": [],
      "include_colab_link": true
    },
    "kernelspec": {
      "name": "python3",
      "display_name": "Python 3"
    }
  },
  "cells": [
    {
      "cell_type": "markdown",
      "metadata": {
        "id": "view-in-github",
        "colab_type": "text"
      },
      "source": [
        "<a href=\"https://colab.research.google.com/github/mwahaha-umich/ACLUFinalProject/blob/main/Data_Prep_Anupriya_Dashboard.ipynb\" target=\"_parent\"><img src=\"https://colab.research.google.com/assets/colab-badge.svg\" alt=\"Open In Colab\"/></a>"
      ]
    },
    {
      "cell_type": "markdown",
      "metadata": {
        "id": "_OsDNZ7p2d4G"
      },
      "source": [
        "This Jupyter notebook is intended to assist with accessing plotly from outside of a Google Colab environment (Should technically work for any cloud environment that allows you to install NGROK). The problem with running plotly within Google Colab is that the ports that are opened by Plotly are not exposed to the outside world. In order to expose them we are going to create a network tunnel, that's where NGROK comes in.\n",
        "\n",
        "A few things of note:\n",
        "*  If you are using Google Drive for any information for this plot, you will want to copy that data \"locally\" before the graph will fuction externally. This is because we are starting up a new thread that will not carry over the Google Driver permissions you may have granted to the current thread.\n"
      ]
    },
    {
      "cell_type": "markdown",
      "metadata": {
        "id": "f3R9TFANqNV4"
      },
      "source": [
        "# Connect to Google Drive"
      ]
    },
    {
      "cell_type": "code",
      "metadata": {
        "id": "U5_4a226qq-R",
        "colab": {
          "base_uri": "https://localhost:8080/"
        },
        "outputId": "145cbcc0-cddc-426f-ad51-84346c33717a"
      },
      "source": [
        "from google.colab import drive\n",
        "drive.mount('/content/drive')"
      ],
      "execution_count": 1,
      "outputs": [
        {
          "output_type": "stream",
          "text": [
            "Drive already mounted at /content/drive; to attempt to forcibly remount, call drive.mount(\"/content/drive\", force_remount=True).\n"
          ],
          "name": "stdout"
        }
      ]
    },
    {
      "cell_type": "code",
      "metadata": {
        "id": "U6M71YgSor3s"
      },
      "source": [
        "import os\n",
        "from os import listdir\n",
        "from os.path import isfile, join\n",
        "from pathlib import Path\n",
        "import requests\n",
        "\n",
        "if 'google.colab' in str(get_ipython()):\n",
        "  #We keep changing the different paths, so I'm going to check if various configurations exist.\n",
        "  if (os.path.isdir(\"/content/drive/MyDrive/Shared with me/content/drive/My Drive/Shared with me/ACLU/\")):\n",
        "    GoogleDriveBase = \"/content/drive/MyDrive/Shared with me/content/drive/My Drive/Shared with me/\" #Anupriya\n",
        "    WorkingDirectory = GoogleDriveBase + 'ACLU/' #Anupriya\n",
        "  else:  \n",
        "    if (os.path.isdir(\"/content/drive/My Drive/Projects/ACLU/\")):\n",
        "      GoogleDriveBase = \"/content/drive/My Drive/\" #Kyle\n",
        "      WorkingDirectory = GoogleDriveBase + \"Projects/ACLU/\" #Kyle\n",
        "else: # We're not running in Google Colab, which means we're probably running locally. \n",
        "  #Put code here for local copies of the files\n",
        "  GoogleDriveBase = \"\" \n",
        "  WorkingDirectory = GoogleDriveBase + \"\" \n",
        "\n",
        "\n",
        "WorkingFiles = WorkingDirectory + 'WorkingFiles/'\n",
        "BasePickeDrive = GoogleDriveBase + WorkingDirectory + \"Pickle/\"\n",
        "\n",
        "\n",
        "#Make the necessary folders for the script to run.\n",
        "ListOfAllRequiredDirectories = [WorkingDirectory + 'Pickle', \n",
        "                          WorkingDirectory + 'WorkingFiles',\n",
        "                          WorkingDirectory + 'AdditionalData',\n",
        "                          WorkingDirectory + 'ACLUData',\n",
        "                          WorkingDirectory + 'DashboardFiles']\n",
        "\n",
        "for folder in ListOfAllRequiredDirectories:\n",
        "  RunningPath = GoogleDriveBase + folder + \"/\"\n",
        "  Path(RunningPath).mkdir(parents=True, exist_ok=True)"
      ],
      "execution_count": 2,
      "outputs": []
    },
    {
      "cell_type": "code",
      "metadata": {
        "id": "QjWE1lGZ6srP",
        "colab": {
          "base_uri": "https://localhost:8080/"
        },
        "outputId": "48082273-34e7-499c-bfef-630409ddffb5"
      },
      "source": [
        "import pandas as pd\n",
        "import math\n",
        "import numpy as np\n",
        "\n",
        "df = pd.read_csv(WorkingFiles + \"dfVoters.csv\")"
      ],
      "execution_count": 3,
      "outputs": [
        {
          "output_type": "stream",
          "text": [
            "/usr/local/lib/python3.7/dist-packages/IPython/core/interactiveshell.py:2718: DtypeWarning: Columns (13,28,53) have mixed types.Specify dtype option on import or set low_memory=False.\n",
            "  interactivity=interactivity, compiler=compiler, result=result)\n"
          ],
          "name": "stderr"
        }
      ]
    },
    {
      "cell_type": "code",
      "metadata": {
        "id": "6yU1Paxvrg_X",
        "colab": {
          "base_uri": "https://localhost:8080/"
        },
        "outputId": "08ceceed-6758-40e9-87b2-9ac93dac8e58"
      },
      "source": [
        "dfVoters_sub = df[['Voter File VANID', 'FirstName', 'MiddleName',\n",
        "       'LastName', 'DWID', 'Zip5', 'Age', \n",
        "       'MaritalStatus', 'Sex', 'City','State', 'Zip4', 'Suffix', 'CD', 'SD', 'HD', 'CountyName', 'DOB', 'DateReg',\n",
        "       'EthnicCatalistName', 'Party', 'RaceName', 'Primary19', '2020_Biden_Support', 'Voting_Aug_Prim',\n",
        "       'PoliceAccountability','VBM_Application', 'MarijuanaConviction','Absentee_Voting', 'Mass_Incarceration']]\n",
        "\n",
        "bins= [18,29,44,64, 123]\n",
        "labels = ['18-29','30-44','45-64','65+']\n",
        "dfVoters_sub['AgeGroup'] = pd.cut(dfVoters_sub['Age'], bins=bins, labels=labels, right=True)"
      ],
      "execution_count": 4,
      "outputs": [
        {
          "output_type": "stream",
          "text": [
            "/usr/local/lib/python3.7/dist-packages/ipykernel_launcher.py:9: SettingWithCopyWarning: \n",
            "A value is trying to be set on a copy of a slice from a DataFrame.\n",
            "Try using .loc[row_indexer,col_indexer] = value instead\n",
            "\n",
            "See the caveats in the documentation: https://pandas.pydata.org/pandas-docs/stable/user_guide/indexing.html#returning-a-view-versus-a-copy\n",
            "  if __name__ == '__main__':\n"
          ],
          "name": "stderr"
        }
      ]
    },
    {
      "cell_type": "code",
      "metadata": {
        "id": "UMCItnyw9EqL",
        "colab": {
          "base_uri": "https://localhost:8080/"
        },
        "outputId": "fb34b6e3-3b8d-476e-8608-d7a844434bab"
      },
      "source": [
        "#Crashing for Memory issue\n",
        "import pandas as pd\n",
        "dfreshapedUnique = pd.read_csv(WorkingFiles + 'dfreshapedUnique.csv')\n",
        "dfreshapedUnique = dfreshapedUnique[['Voter File VANID', 'year', 'electiontype']]\n",
        "\n",
        "election_votes = pd.merge(dfreshapedUnique, dfVoters_sub, how='left', on='Voter File VANID')\n",
        "\n",
        "election_votes = election_votes[['Voter File VANID', 'year', 'electiontype', \n",
        "                                'CountyName', 'AgeGroup', 'RaceName', 'Sex']]\n",
        "\n",
        "election_votes['CountyName'] = election_votes['CountyName'].astype(\"str\").replace(np.nan, 'nan', regex=True)\n",
        "election_votes['AgeGroup'] = election_votes['AgeGroup'].astype(\"str\").replace(np.nan, 'nan', regex=True)\n",
        "election_votes['RaceName'] = election_votes['RaceName'].astype(\"str\").replace(np.nan, 'nan', regex=True)\n",
        "election_votes['Sex'] = election_votes['Sex'].astype(\"str\").replace(np.nan, 'nan', regex=True)\n",
        "\n",
        "print(len(election_votes))\n",
        "election_votes = election_votes.groupby(['year', 'electiontype', \n",
        "                                'CountyName', 'AgeGroup', 'RaceName', 'Sex']).count().reset_index()\n",
        "print(len(election_votes))\n",
        "election_votes = election_votes.rename(columns={\"Voter File VANID\": \"Count\"})\n",
        "\n",
        "election_votes.to_csv(WorkingDirectory + 'WorkingFiles/' + \"election_votes.csv\")\n",
        "print(election_votes.head())\n",
        "del election_votes\n",
        "del dfreshapedUnique"
      ],
      "execution_count": 5,
      "outputs": [
        {
          "output_type": "stream",
          "text": [
            "16125018\n",
            "39599\n",
            "   year electiontype CountyName AgeGroup   RaceName Sex  Count\n",
            "0  1998    General##     Alcona    45-64  Caucasian   M      1\n",
            "1  1998    General##      Alger    45-64  Caucasian   F      1\n",
            "2  1998    General##      Alger      65+  Caucasian   M      1\n",
            "3  1998    General##    Allegan    45-64  Caucasian   F      9\n",
            "4  1998    General##    Allegan    45-64  Caucasian   M      6\n"
          ],
          "name": "stdout"
        }
      ]
    },
    {
      "cell_type": "code",
      "metadata": {
        "id": "j2XCoHHDWZq2"
      },
      "source": [
        ""
      ],
      "execution_count": 5,
      "outputs": []
    },
    {
      "cell_type": "markdown",
      "metadata": {
        "id": "yyTMa_IYsyDD"
      },
      "source": [
        "If you would like to run the previous example externally, just copy and paste your code into a new block like below. "
      ]
    },
    {
      "cell_type": "markdown",
      "metadata": {
        "id": "IPEUvEokYGin"
      },
      "source": [
        "## Folium Map Data Prep"
      ]
    },
    {
      "cell_type": "code",
      "metadata": {
        "id": "QzqM9taUYSR1",
        "colab": {
          "base_uri": "https://localhost:8080/"
        },
        "outputId": "d7173969-591e-442f-a68d-e9ef5c59967b"
      },
      "source": [
        "registered_voters = pd.read_csv(WorkingDirectory + 'AdditionalData/All Registered Voters Michigan.csv')\n",
        "registered_voters.rename(columns = {'County':'CountyName'}, inplace = True)\n",
        "county_pop_df = dfVoters_sub.groupby('CountyName').count()['Voter File VANID'].to_frame().reset_index()\n",
        "county_pop_df['Voter File VANID'] = county_pop_df['Voter File VANID'].fillna(0)\n",
        "county_pop_df['CountyName'] = county_pop_df['CountyName'].str.upper()\n",
        "\n",
        "\n",
        "registered_voters.columns\n",
        "\n",
        "total_voter_pop = pd.merge(county_pop_df, registered_voters, how = 'left', on = 'CountyName')\n",
        "total_voter_pop['Voter File VANID'].astype(int)\n",
        "print(total_voter_pop[pd.isna(total_voter_pop['All Registered Voters'])])\n",
        "\n",
        "total_voter_pop['All Registered Voters'].astype(int)\n",
        "total_voter_pop['fraction'] = total_voter_pop['Voter File VANID'] / total_voter_pop['All Registered Voters']\n",
        "total_voter_pop['CountyName'] = total_voter_pop['CountyName'].str.title()\n",
        "total_voter_pop['RaceName'] = 'All'\n",
        "total_voter_pop['Sex'] = 'All'\n",
        "total_voter_pop['AgeGroup'] = 'All'\n",
        "\n",
        "#Save this to CSV\n",
        "total_voter_pop.to_csv(WorkingDirectory + 'WorkingFiles/' + \"total_voter_pop.csv\")\n",
        "del total_voter_pop"
      ],
      "execution_count": 6,
      "outputs": [
        {
          "output_type": "stream",
          "text": [
            "Empty DataFrame\n",
            "Columns: [CountyName, Voter File VANID, Number, Feb Active Registered Voters, All Registered Voters, July Active Registered Voters, July All Registered Voters, October Active registered Voters, October All Registered Voters]\n",
            "Index: []\n"
          ],
          "name": "stdout"
        }
      ]
    },
    {
      "cell_type": "markdown",
      "metadata": {
        "id": "OLdnG1ML3kk1"
      },
      "source": [
        "## Try Map w Plotly "
      ]
    },
    {
      "cell_type": "markdown",
      "metadata": {
        "id": "8Sv-CfeGFExc"
      },
      "source": [
        "We can see that the above graph does not work very well with just joining on name because there could be many counties with the same name. So we are going to filter the json to get just the state of Michigan and use the FIPS IDs to just make it really clean. "
      ]
    },
    {
      "cell_type": "code",
      "metadata": {
        "id": "OsV-07z93nzr",
        "colab": {
          "base_uri": "https://localhost:8080/"
        },
        "outputId": "28df77e5-a0a6-41a1-8ea2-fafcef8eea9f"
      },
      "source": [
        "from urllib.request import urlopen\n",
        "import json\n",
        "with urlopen('https://raw.githubusercontent.com/plotly/datasets/master/geojson-counties-fips.json') as response:\n",
        "    counties = json.load(response)\n",
        "\n",
        "counties[\"features\"][0]"
      ],
      "execution_count": 7,
      "outputs": [
        {
          "output_type": "execute_result",
          "data": {
            "text/plain": [
              "{'geometry': {'coordinates': [[[-86.496774, 32.344437],\n",
              "    [-86.717897, 32.402814],\n",
              "    [-86.814912, 32.340803],\n",
              "    [-86.890581, 32.502974],\n",
              "    [-86.917595, 32.664169],\n",
              "    [-86.71339, 32.661732],\n",
              "    [-86.714219, 32.705694],\n",
              "    [-86.413116, 32.707386],\n",
              "    [-86.411172, 32.409937],\n",
              "    [-86.496774, 32.344437]]],\n",
              "  'type': 'Polygon'},\n",
              " 'id': '01001',\n",
              " 'properties': {'CENSUSAREA': 594.436,\n",
              "  'COUNTY': '001',\n",
              "  'GEO_ID': '0500000US01001',\n",
              "  'LSAD': 'County',\n",
              "  'NAME': 'Autauga',\n",
              "  'STATE': '01'},\n",
              " 'type': 'Feature'}"
            ]
          },
          "metadata": {
            "tags": []
          },
          "execution_count": 7
        }
      ]
    },
    {
      "cell_type": "code",
      "metadata": {
        "id": "qaAIV28B3qe9"
      },
      "source": [
        "data = {}\n",
        "nest1 = counties[\"features\"]\n",
        "for thing in nest1: \n",
        "  if thing['properties']['STATE'] == '26':\n",
        "    data[thing['id']] = thing['properties']['NAME']"
      ],
      "execution_count": 8,
      "outputs": []
    },
    {
      "cell_type": "code",
      "metadata": {
        "id": "QufsQvul69PX",
        "colab": {
          "base_uri": "https://localhost:8080/",
          "height": 204
        },
        "outputId": "21826e3b-7c19-4937-dd6b-9ca4b6167e2b"
      },
      "source": [
        "trial = pd.DataFrame(data, index=[0])\n",
        "mi_fips = trial.T.reset_index()\n",
        "mi_fips = mi_fips.rename(columns={\"index\": \"FIPS\", 0: 'CountyName'})\n",
        "mi_fips.head()"
      ],
      "execution_count": 9,
      "outputs": [
        {
          "output_type": "execute_result",
          "data": {
            "text/html": [
              "<div>\n",
              "<style scoped>\n",
              "    .dataframe tbody tr th:only-of-type {\n",
              "        vertical-align: middle;\n",
              "    }\n",
              "\n",
              "    .dataframe tbody tr th {\n",
              "        vertical-align: top;\n",
              "    }\n",
              "\n",
              "    .dataframe thead th {\n",
              "        text-align: right;\n",
              "    }\n",
              "</style>\n",
              "<table border=\"1\" class=\"dataframe\">\n",
              "  <thead>\n",
              "    <tr style=\"text-align: right;\">\n",
              "      <th></th>\n",
              "      <th>FIPS</th>\n",
              "      <th>CountyName</th>\n",
              "    </tr>\n",
              "  </thead>\n",
              "  <tbody>\n",
              "    <tr>\n",
              "      <th>0</th>\n",
              "      <td>26009</td>\n",
              "      <td>Antrim</td>\n",
              "    </tr>\n",
              "    <tr>\n",
              "      <th>1</th>\n",
              "      <td>26015</td>\n",
              "      <td>Barry</td>\n",
              "    </tr>\n",
              "    <tr>\n",
              "      <th>2</th>\n",
              "      <td>26023</td>\n",
              "      <td>Branch</td>\n",
              "    </tr>\n",
              "    <tr>\n",
              "      <th>3</th>\n",
              "      <td>26035</td>\n",
              "      <td>Clare</td>\n",
              "    </tr>\n",
              "    <tr>\n",
              "      <th>4</th>\n",
              "      <td>26037</td>\n",
              "      <td>Clinton</td>\n",
              "    </tr>\n",
              "  </tbody>\n",
              "</table>\n",
              "</div>"
            ],
            "text/plain": [
              "    FIPS CountyName\n",
              "0  26009     Antrim\n",
              "1  26015      Barry\n",
              "2  26023     Branch\n",
              "3  26035      Clare\n",
              "4  26037    Clinton"
            ]
          },
          "metadata": {
            "tags": []
          },
          "execution_count": 9
        }
      ]
    },
    {
      "cell_type": "code",
      "metadata": {
        "id": "Aq9V9i_3CbBY",
        "colab": {
          "base_uri": "https://localhost:8080/"
        },
        "outputId": "e8d5a51f-cbff-4ac7-a7c8-8a7d4020857d"
      },
      "source": [
        "registered_voters = pd.read_csv(WorkingDirectory + 'AdditionalData/All Registered Voters Michigan.csv')\n",
        "registered_voters.rename(columns = {'County':'CountyName'}, inplace = True)\n",
        "county_pop_df = dfVoters_sub.groupby('CountyName').count()['Voter File VANID'].to_frame().reset_index()\n",
        "county_pop_df['Voter File VANID'] = county_pop_df['Voter File VANID'].fillna(0)\n",
        "county_pop_df['CountyName'] = county_pop_df['CountyName'].str.upper()\n",
        "\n",
        "total_voter_pop = pd.merge(county_pop_df, registered_voters, how = 'left', on = 'CountyName')\n",
        "total_voter_pop['Voter File VANID'].astype(int)\n",
        "print(total_voter_pop[pd.isna(total_voter_pop['All Registered Voters'])])\n",
        "\n",
        "total_voter_pop['All Registered Voters'].astype(int)\n",
        "total_voter_pop['fraction'] = total_voter_pop['Voter File VANID'] / total_voter_pop['All Registered Voters']\n",
        "total_voter_pop['CountyName'] = total_voter_pop['CountyName'].str.title()\n",
        "total_voter_pop['RaceName'] = 'All'\n",
        "total_voter_pop['Sex'] = 'All'\n",
        "total_voter_pop['AgeGroup'] = 'All'\n",
        "total_voter_pop.head()\n",
        "\n",
        "plotly_fips = pd.merge(total_voter_pop, mi_fips, how = 'left', on = 'CountyName')\n",
        "\n",
        "plotly_fips.to_csv(WorkingDirectory + 'WorkingFiles/' + \"plotly_fips.csv\")\n",
        "\n",
        "del county_pop_df\n",
        "del registered_voters\n",
        "del total_voter_pop\n",
        "del plotly_fips"
      ],
      "execution_count": 10,
      "outputs": [
        {
          "output_type": "stream",
          "text": [
            "Empty DataFrame\n",
            "Columns: [CountyName, Voter File VANID, Number, Feb Active Registered Voters, All Registered Voters, July Active Registered Voters, July All Registered Voters, October Active registered Voters, October All Registered Voters]\n",
            "Index: []\n"
          ],
          "name": "stdout"
        }
      ]
    },
    {
      "cell_type": "markdown",
      "metadata": {
        "id": "jnyLaRMei76l"
      },
      "source": [
        "## Biden Support"
      ]
    },
    {
      "cell_type": "code",
      "metadata": {
        "id": "GFwEv6kUi_tW"
      },
      "source": [
        "biden_support_df = dfVoters_sub.groupby([\"RaceName\", \"Sex\", \"AgeGroup\", \"CountyName\", '2020_Biden_Support']).count()['Voter File VANID'].to_frame().reset_index()\n",
        "biden_support_df['Voter File VANID'] = biden_support_df['Voter File VANID'].fillna(0)\n",
        "biden_support_df = biden_support_df.rename(columns={\"Voter File VANID\": \"# of Voters\"})\n",
        "biden_support_df[\"2020_Biden_Support\"] = biden_support_df[\"2020_Biden_Support\"].str.replace('\\d+\\.\\s','')\n",
        "biden_support_df.head()\n",
        "\n",
        "biden_support_df.to_csv(WorkingDirectory + 'WorkingFiles/'  + \"biden_support_df.csv\")\n",
        "del biden_support_df"
      ],
      "execution_count": 11,
      "outputs": []
    },
    {
      "cell_type": "markdown",
      "metadata": {
        "id": "61bI07EkvDs6"
      },
      "source": [
        "## Pie Charts"
      ]
    },
    {
      "cell_type": "code",
      "metadata": {
        "id": "BHYde1xjvHGa"
      },
      "source": [
        "mass_inc = dfVoters_sub.groupby([\"RaceName\", \"Sex\", \"AgeGroup\", \"CountyName\",'Mass_Incarceration']).count()['Voter File VANID'].to_frame().reset_index()\n",
        "mass_inc = mass_inc.rename(columns={\"Voter File VANID\": \"Count\"})\n",
        "\n",
        "policing = dfVoters_sub.groupby([\"RaceName\", \"Sex\", \"AgeGroup\", \"CountyName\",'PoliceAccountability']).count()['Voter File VANID'].to_frame().reset_index()\n",
        "policing = policing.rename(columns={\"Voter File VANID\": \"Count\"})\n",
        "\n",
        "weed = dfVoters_sub.groupby([\"RaceName\", \"Sex\", \"AgeGroup\", \"CountyName\",'MarijuanaConviction']).count()['Voter File VANID'].to_frame().reset_index()\n",
        "weed = weed.rename(columns={\"Voter File VANID\": \"Count\"})\n",
        "\n",
        "\n",
        "mass_inc.to_csv(WorkingDirectory + 'WorkingFiles/'  + \"mass_inc.csv\")\n",
        "policing.to_csv(WorkingDirectory + 'WorkingFiles/'  + \"policing.csv\")\n",
        "weed.to_csv(WorkingDirectory + 'WorkingFiles/'  + \"weed.csv\")\n",
        "\n",
        "del mass_inc\n",
        "del policing\n",
        "del weed\n",
        "#Not delting dfVoters_sub as it's needed in a moment"
      ],
      "execution_count": 12,
      "outputs": []
    },
    {
      "cell_type": "markdown",
      "metadata": {
        "id": "nLniioMq9BKo"
      },
      "source": [
        "## Election Line Chart"
      ]
    },
    {
      "cell_type": "markdown",
      "metadata": {
        "id": "mAAKu5Ddhl4k"
      },
      "source": [
        "# Build our Dashboard"
      ]
    },
    {
      "cell_type": "code",
      "metadata": {
        "id": "t-k8QwO1vTCS",
        "colab": {
          "base_uri": "https://localhost:8080/"
        },
        "outputId": "330efd74-87d8-42fe-ff81-8f84c2bf8d10"
      },
      "source": [
        "#Set up all our filter columns\n",
        "FilterColumnNames = [\"RaceName\", \"Sex\", \"AgeGroup\", \"CountyName\"]\n",
        "FilterColumns = {}\n",
        "import math\n",
        "import numpy as np\n",
        "import pickle\n",
        "\n",
        "for column in FilterColumnNames:\n",
        "  FilterColumns[column] = list(dfVoters_sub[column].astype(\"str\").replace(np.nan, 'nan', regex=True).unique())\n",
        "  FilterColumns[column].append(\"All\")\n",
        "  print(FilterColumns[column])\n",
        "\n",
        "with open(WorkingDirectory + 'WorkingFiles/' + 'FilterColumns.data', 'wb') as filehandle:\n",
        "    # store the data as binary data stream\n",
        "    pickle.dump(FilterColumns, filehandle)\n",
        "\n",
        "ImportantColumnNames = FilterColumnNames.copy()\n",
        "ImportantColumnNames.append(['CommunicationType', 'ElectionType'])\n",
        "dfOutreach = pd.read_csv(WorkingFiles + \"dfOutreach.csv\")\n",
        "outreach_voters = pd.merge(dfOutreach, dfVoters_sub, how='left', on='Voter File VANID')\n",
        "\n",
        "outreach_dem_df = outreach_voters[['Voter File VANID', 'ElectionType', 'CommunicationType',\n",
        "                                   'CountyName', 'AgeGroup', 'RaceName', 'Sex']]\n",
        "\n",
        "outreach_dem_df_nan = outreach_dem_df.copy()\n",
        "outreach_dem_df_nan[\"AgeGroup\"] = outreach_dem_df_nan[\"AgeGroup\"].astype(\"str\")\n",
        "outreach_dem_df_nan.head()\n",
        "\n",
        "outreach_dem_df_nan = outreach_dem_df_nan.replace(np.nan, 'nan', regex=True)\n",
        "outreach_dem_df_nan = outreach_dem_df_nan.replace(np.nan, 'nan', regex=True)\n",
        "\n",
        "\n",
        "df_aggregate = outreach_dem_df_nan.groupby([\"RaceName\", \"Sex\", \"AgeGroup\", \"CountyName\", \n",
        "                                        'CommunicationType', 'ElectionType']).count().reset_index()\n",
        "df_aggregate = df_aggregate.rename(columns={\"Voter File VANID\": \"Count\", 'ElectionType': 'CampaignType'})\n",
        "\n",
        "df_aggregate['CampaignType'] = df_aggregate['CampaignType'].replace({'lpv': 'Statewide voting rights/voter education race', \n",
        "                                                           'scomi': 'Supreme Court of Michigan Race',\n",
        "                                                           'oakland': 'Oakland County Prosecutor Race', \n",
        "                                                           'oakland prosecutor': 'Oakland County Prosecutor Race', \n",
        "                                                           'oakland county prosecutor race': 'Oakland County Prosecutor Race'})\n",
        "\n",
        "df_aggregate.to_csv(WorkingDirectory + 'WorkingFiles/' + \"df_aggregate.csv\")\n",
        "del df_aggregate"
      ],
      "execution_count": 32,
      "outputs": [
        {
          "output_type": "stream",
          "text": [
            "['Caucasian', 'Asian', 'Black', 'Unknown', 'Hispanic', 'Native American', 'All']\n",
            "['M', 'F', 'U', 'All']\n",
            "['65+', '45-64', '18-29', '30-44', 'nan', 'All']\n",
            "['Macomb', 'Kent', 'Washtenaw', 'Wayne', 'Genesee', 'Ingham', 'Saginaw', 'Oakland', 'Calhoun', 'Kalamazoo', 'Isabella', 'Livingston', 'Ottawa', 'St. Joseph', 'Muskegon', 'Midland', 'Allegan', 'Emmet', 'St. Clair', 'Berrien', 'Marquette', 'Bay', 'Alpena', 'Eaton', 'Monroe', 'Shiawassee', 'Jackson', 'Van Buren', 'Mackinac', 'Lapeer', 'Osceola', 'Clinton', 'Menominee', 'Presque Isle', 'Wexford', 'Houghton', 'Montmorency', 'Lenawee', 'Grand Traverse', 'Dickinson', 'Gratiot', 'Kalkaska', 'Iosco', 'Antrim', 'Montcalm', 'Mason', 'Ionia', 'Barry', 'Tuscola', 'Manistee', 'Newaygo', 'Leelanau', 'Oceana', 'Mecosta', 'Delta', 'Oscoda', 'Arenac', 'Huron', 'Iron', 'Sanilac', 'Branch', 'Cheboygan', 'Luce', 'Gogebic', 'Otsego', 'Ogemaw', 'Lake', 'Hillsdale', 'Chippewa', 'Cass', 'Baraga', 'Gladwin', 'Charlevoix', 'Crawford', 'Benzie', 'Schoolcraft', 'Roscommon', 'Clare', 'Ontonagon', 'Missaukee', 'Alcona', 'Keweenaw', 'Alger', 'All']\n"
          ],
          "name": "stdout"
        }
      ]
    },
    {
      "cell_type": "code",
      "metadata": {
        "id": "w_JIrcg2TI6F"
      },
      "source": [
        ""
      ],
      "execution_count": 13,
      "outputs": []
    },
    {
      "cell_type": "markdown",
      "metadata": {
        "id": "Y0haZ82L355J"
      },
      "source": [
        "Now for the final few bits before we can run this properly"
      ]
    },
    {
      "cell_type": "code",
      "metadata": {
        "colab": {
          "base_uri": "https://localhost:8080/"
        },
        "id": "RxfrZnhvkMDn",
        "outputId": "5a24c234-e05b-4a99-9fdb-8fccdf9c16ea"
      },
      "source": [
        "# How to run a Dash app in Google Colab\n",
        "\n",
        "## Requirements\n",
        "\n",
        "### Install ngrok\n",
        "!wget https://bin.equinox.io/c/4VmDzA7iaHb/ngrok-stable-linux-amd64.zip\n",
        "!unzip -o ngrok-stable-linux-amd64.zip\n",
        "\n",
        "\n",
        "get_ipython().system_raw('./ngrok http 8050 &')\n",
        "\n",
        "### Install Dash\n",
        "!pip install dash  # The core dash backend\n",
        "!pip install jupyter_dash\n",
        "!pip install -U plotly\n",
        "#Do not install any of these. When you install Dash, it includes these. If you call the install it installs a previous version of these and will generate an error.\n",
        "#!pip install dash-html-components  # HTML components\n",
        "#!pip install dash-core-components  # Supercharged components\n",
        "#!pip install dash-table  # Interactive DataTable component (new!)"
      ],
      "execution_count": 23,
      "outputs": [
        {
          "output_type": "stream",
          "text": [
            "--2021-07-26 16:05:59--  https://bin.equinox.io/c/4VmDzA7iaHb/ngrok-stable-linux-amd64.zip\n",
            "Resolving bin.equinox.io (bin.equinox.io)... 52.44.39.24, 3.228.26.119, 3.228.119.185, ...\n",
            "Connecting to bin.equinox.io (bin.equinox.io)|52.44.39.24|:443... connected.\n",
            "HTTP request sent, awaiting response... 200 OK\n",
            "Length: 13832437 (13M) [application/octet-stream]\n",
            "Saving to: ‘ngrok-stable-linux-amd64.zip’\n",
            "\n",
            "ngrok-stable-linux- 100%[===================>]  13.19M  5.94MB/s    in 2.2s    \n",
            "\n",
            "2021-07-26 16:06:02 (5.94 MB/s) - ‘ngrok-stable-linux-amd64.zip’ saved [13832437/13832437]\n",
            "\n",
            "Archive:  ngrok-stable-linux-amd64.zip\n",
            "  inflating: ngrok                   \n",
            "Collecting dash\n",
            "  Downloading dash-1.21.0.tar.gz (1.1 MB)\n",
            "\u001b[K     |████████████████████████████████| 1.1 MB 4.1 MB/s \n",
            "\u001b[?25hRequirement already satisfied: Flask>=1.0.4 in /usr/local/lib/python3.7/dist-packages (from dash) (1.1.4)\n",
            "Collecting flask-compress\n",
            "  Downloading Flask_Compress-1.10.1-py3-none-any.whl (7.9 kB)\n",
            "Requirement already satisfied: plotly in /usr/local/lib/python3.7/dist-packages (from dash) (4.4.1)\n",
            "Collecting dash-core-components==1.17.1\n",
            "  Downloading dash_core_components-1.17.1.tar.gz (3.7 MB)\n",
            "\u001b[K     |████████████████████████████████| 3.7 MB 14.4 MB/s \n",
            "\u001b[?25hCollecting dash-html-components==1.1.4\n",
            "  Downloading dash_html_components-1.1.4.tar.gz (83 kB)\n",
            "\u001b[K     |████████████████████████████████| 83 kB 2.2 MB/s \n",
            "\u001b[?25hCollecting dash-table==4.12.0\n",
            "  Downloading dash_table-4.12.0.tar.gz (1.8 MB)\n",
            "\u001b[K     |████████████████████████████████| 1.8 MB 42.2 MB/s \n",
            "\u001b[?25hRequirement already satisfied: future in /usr/local/lib/python3.7/dist-packages (from dash) (0.16.0)\n",
            "Requirement already satisfied: itsdangerous<2.0,>=0.24 in /usr/local/lib/python3.7/dist-packages (from Flask>=1.0.4->dash) (1.1.0)\n",
            "Requirement already satisfied: Jinja2<3.0,>=2.10.1 in /usr/local/lib/python3.7/dist-packages (from Flask>=1.0.4->dash) (2.11.3)\n",
            "Requirement already satisfied: click<8.0,>=5.1 in /usr/local/lib/python3.7/dist-packages (from Flask>=1.0.4->dash) (7.1.2)\n",
            "Requirement already satisfied: Werkzeug<2.0,>=0.15 in /usr/local/lib/python3.7/dist-packages (from Flask>=1.0.4->dash) (1.0.1)\n",
            "Requirement already satisfied: MarkupSafe>=0.23 in /usr/local/lib/python3.7/dist-packages (from Jinja2<3.0,>=2.10.1->Flask>=1.0.4->dash) (2.0.1)\n",
            "Collecting brotli\n",
            "  Downloading Brotli-1.0.9-cp37-cp37m-manylinux1_x86_64.whl (357 kB)\n",
            "\u001b[K     |████████████████████████████████| 357 kB 49.9 MB/s \n",
            "\u001b[?25hRequirement already satisfied: retrying>=1.3.3 in /usr/local/lib/python3.7/dist-packages (from plotly->dash) (1.3.3)\n",
            "Requirement already satisfied: six in /usr/local/lib/python3.7/dist-packages (from plotly->dash) (1.15.0)\n",
            "Building wheels for collected packages: dash, dash-core-components, dash-html-components, dash-table\n",
            "  Building wheel for dash (setup.py) ... \u001b[?25l\u001b[?25hdone\n",
            "  Created wheel for dash: filename=dash-1.21.0-py3-none-any.whl size=1100489 sha256=563b25580a77be9b86e58442880bc07ee2177c6e52962863db57cc6ad44340cc\n",
            "  Stored in directory: /root/.cache/pip/wheels/59/a4/f1/a7140afcad8dbaa3b1b12ef80843d29403d6ecca1c2f397948\n",
            "  Building wheel for dash-core-components (setup.py) ... \u001b[?25l\u001b[?25hdone\n",
            "  Created wheel for dash-core-components: filename=dash_core_components-1.17.1-py3-none-any.whl size=3738995 sha256=299ff7051ca407a7de8db73ee7519279a660cfa3c7306a77e3e79d997cfbc741\n",
            "  Stored in directory: /root/.cache/pip/wheels/ca/5b/fb/a135a7bf8e21223e4104aa5526a5173a20b64fe7fcd055b999\n",
            "  Building wheel for dash-html-components (setup.py) ... \u001b[?25l\u001b[?25hdone\n",
            "  Created wheel for dash-html-components: filename=dash_html_components-1.1.4-py3-none-any.whl size=319771 sha256=1ef7f0f8e407e7199eb0bc7663dbd4e6eaec2ac7d3d60a69e2a9da5d1a63a558\n",
            "  Stored in directory: /root/.cache/pip/wheels/51/d7/5f/5730b784b5333941740a0dfc57b10395c3507b35ddac112ac0\n",
            "  Building wheel for dash-table (setup.py) ... \u001b[?25l\u001b[?25hdone\n",
            "  Created wheel for dash-table: filename=dash_table-4.12.0-py3-none-any.whl size=1837674 sha256=7b08b2cc72ed507e46a419e97402dabc458353634ae423ab6e402b2e33fd57de\n",
            "  Stored in directory: /root/.cache/pip/wheels/5f/d4/8b/639186e25b7234dac44ba004cfb58ea5b39fe492085bda2a88\n",
            "Successfully built dash dash-core-components dash-html-components dash-table\n",
            "Installing collected packages: brotli, flask-compress, dash-table, dash-html-components, dash-core-components, dash\n",
            "Successfully installed brotli-1.0.9 dash-1.21.0 dash-core-components-1.17.1 dash-html-components-1.1.4 dash-table-4.12.0 flask-compress-1.10.1\n",
            "Collecting jupyter_dash\n",
            "  Downloading jupyter_dash-0.4.0-py3-none-any.whl (20 kB)\n",
            "Requirement already satisfied: retrying in /usr/local/lib/python3.7/dist-packages (from jupyter_dash) (1.3.3)\n",
            "Requirement already satisfied: flask in /usr/local/lib/python3.7/dist-packages (from jupyter_dash) (1.1.4)\n",
            "Requirement already satisfied: ipykernel in /usr/local/lib/python3.7/dist-packages (from jupyter_dash) (4.10.1)\n",
            "Collecting ansi2html\n",
            "  Downloading ansi2html-1.6.0-py3-none-any.whl (14 kB)\n",
            "Requirement already satisfied: dash in /usr/local/lib/python3.7/dist-packages (from jupyter_dash) (1.21.0)\n",
            "Requirement already satisfied: ipython in /usr/local/lib/python3.7/dist-packages (from jupyter_dash) (5.5.0)\n",
            "Requirement already satisfied: requests in /usr/local/lib/python3.7/dist-packages (from jupyter_dash) (2.23.0)\n",
            "Requirement already satisfied: dash-table==4.12.0 in /usr/local/lib/python3.7/dist-packages (from dash->jupyter_dash) (4.12.0)\n",
            "Requirement already satisfied: plotly in /usr/local/lib/python3.7/dist-packages (from dash->jupyter_dash) (4.4.1)\n",
            "Requirement already satisfied: flask-compress in /usr/local/lib/python3.7/dist-packages (from dash->jupyter_dash) (1.10.1)\n",
            "Requirement already satisfied: dash-html-components==1.1.4 in /usr/local/lib/python3.7/dist-packages (from dash->jupyter_dash) (1.1.4)\n",
            "Requirement already satisfied: dash-core-components==1.17.1 in /usr/local/lib/python3.7/dist-packages (from dash->jupyter_dash) (1.17.1)\n",
            "Requirement already satisfied: future in /usr/local/lib/python3.7/dist-packages (from dash->jupyter_dash) (0.16.0)\n",
            "Requirement already satisfied: Werkzeug<2.0,>=0.15 in /usr/local/lib/python3.7/dist-packages (from flask->jupyter_dash) (1.0.1)\n",
            "Requirement already satisfied: click<8.0,>=5.1 in /usr/local/lib/python3.7/dist-packages (from flask->jupyter_dash) (7.1.2)\n",
            "Requirement already satisfied: Jinja2<3.0,>=2.10.1 in /usr/local/lib/python3.7/dist-packages (from flask->jupyter_dash) (2.11.3)\n",
            "Requirement already satisfied: itsdangerous<2.0,>=0.24 in /usr/local/lib/python3.7/dist-packages (from flask->jupyter_dash) (1.1.0)\n",
            "Requirement already satisfied: MarkupSafe>=0.23 in /usr/local/lib/python3.7/dist-packages (from Jinja2<3.0,>=2.10.1->flask->jupyter_dash) (2.0.1)\n",
            "Requirement already satisfied: brotli in /usr/local/lib/python3.7/dist-packages (from flask-compress->dash->jupyter_dash) (1.0.9)\n",
            "Requirement already satisfied: traitlets>=4.1.0 in /usr/local/lib/python3.7/dist-packages (from ipykernel->jupyter_dash) (5.0.5)\n",
            "Requirement already satisfied: tornado>=4.0 in /usr/local/lib/python3.7/dist-packages (from ipykernel->jupyter_dash) (5.1.1)\n",
            "Requirement already satisfied: jupyter-client in /usr/local/lib/python3.7/dist-packages (from ipykernel->jupyter_dash) (5.3.5)\n",
            "Requirement already satisfied: prompt-toolkit<2.0.0,>=1.0.4 in /usr/local/lib/python3.7/dist-packages (from ipython->jupyter_dash) (1.0.18)\n",
            "Requirement already satisfied: pexpect in /usr/local/lib/python3.7/dist-packages (from ipython->jupyter_dash) (4.8.0)\n",
            "Requirement already satisfied: decorator in /usr/local/lib/python3.7/dist-packages (from ipython->jupyter_dash) (4.4.2)\n",
            "Requirement already satisfied: setuptools>=18.5 in /usr/local/lib/python3.7/dist-packages (from ipython->jupyter_dash) (57.2.0)\n",
            "Requirement already satisfied: pygments in /usr/local/lib/python3.7/dist-packages (from ipython->jupyter_dash) (2.6.1)\n",
            "Requirement already satisfied: simplegeneric>0.8 in /usr/local/lib/python3.7/dist-packages (from ipython->jupyter_dash) (0.8.1)\n",
            "Requirement already satisfied: pickleshare in /usr/local/lib/python3.7/dist-packages (from ipython->jupyter_dash) (0.7.5)\n",
            "Requirement already satisfied: wcwidth in /usr/local/lib/python3.7/dist-packages (from prompt-toolkit<2.0.0,>=1.0.4->ipython->jupyter_dash) (0.2.5)\n",
            "Requirement already satisfied: six>=1.9.0 in /usr/local/lib/python3.7/dist-packages (from prompt-toolkit<2.0.0,>=1.0.4->ipython->jupyter_dash) (1.15.0)\n",
            "Requirement already satisfied: ipython-genutils in /usr/local/lib/python3.7/dist-packages (from traitlets>=4.1.0->ipykernel->jupyter_dash) (0.2.0)\n",
            "Requirement already satisfied: python-dateutil>=2.1 in /usr/local/lib/python3.7/dist-packages (from jupyter-client->ipykernel->jupyter_dash) (2.8.1)\n",
            "Requirement already satisfied: jupyter-core>=4.6.0 in /usr/local/lib/python3.7/dist-packages (from jupyter-client->ipykernel->jupyter_dash) (4.7.1)\n",
            "Requirement already satisfied: pyzmq>=13 in /usr/local/lib/python3.7/dist-packages (from jupyter-client->ipykernel->jupyter_dash) (22.1.0)\n",
            "Requirement already satisfied: ptyprocess>=0.5 in /usr/local/lib/python3.7/dist-packages (from pexpect->ipython->jupyter_dash) (0.7.0)\n",
            "Requirement already satisfied: idna<3,>=2.5 in /usr/local/lib/python3.7/dist-packages (from requests->jupyter_dash) (2.10)\n",
            "Requirement already satisfied: chardet<4,>=3.0.2 in /usr/local/lib/python3.7/dist-packages (from requests->jupyter_dash) (3.0.4)\n",
            "Requirement already satisfied: certifi>=2017.4.17 in /usr/local/lib/python3.7/dist-packages (from requests->jupyter_dash) (2021.5.30)\n",
            "Requirement already satisfied: urllib3!=1.25.0,!=1.25.1,<1.26,>=1.21.1 in /usr/local/lib/python3.7/dist-packages (from requests->jupyter_dash) (1.24.3)\n",
            "Installing collected packages: ansi2html, jupyter-dash\n",
            "Successfully installed ansi2html-1.6.0 jupyter-dash-0.4.0\n",
            "Requirement already satisfied: plotly in /usr/local/lib/python3.7/dist-packages (4.4.1)\n",
            "Collecting plotly\n",
            "  Downloading plotly-5.1.0-py2.py3-none-any.whl (20.6 MB)\n",
            "\u001b[K     |████████████████████████████████| 20.6 MB 1.3 MB/s \n",
            "\u001b[?25hRequirement already satisfied: six in /usr/local/lib/python3.7/dist-packages (from plotly) (1.15.0)\n",
            "Collecting tenacity>=6.2.0\n",
            "  Downloading tenacity-8.0.1-py3-none-any.whl (24 kB)\n",
            "Installing collected packages: tenacity, plotly\n",
            "  Attempting uninstall: plotly\n",
            "    Found existing installation: plotly 4.4.1\n",
            "    Uninstalling plotly-4.4.1:\n",
            "      Successfully uninstalled plotly-4.4.1\n",
            "Successfully installed plotly-5.1.0 tenacity-8.0.1\n"
          ],
          "name": "stdout"
        }
      ]
    },
    {
      "cell_type": "code",
      "metadata": {
        "id": "EEPK9IQ5381I",
        "colab": {
          "base_uri": "https://localhost:8080/",
          "height": 35
        },
        "outputId": "a7e046c1-d3c6-4c73-8c08-9c0f6e7b8e21"
      },
      "source": [
        "#Copy out files\n",
        "from shutil import copyfile\n",
        "copyfile(WorkingDirectory + 'WorkingFiles/' + \"df_aggregate.csv\", \"df_aggregate.csv\")\n",
        "copyfile(WorkingDirectory + 'WorkingFiles/' + \"total_voter_pop.csv\", \"total_voter_pop.csv\")\n",
        "copyfile(WorkingDirectory + 'WorkingFiles/' + \"biden_support_df.csv\", \"biden_support_df.csv\")\n",
        "copyfile(WorkingDirectory + 'WorkingFiles/' + \"mass_inc.csv\", \"mass_inc.csv\")\n",
        "copyfile(WorkingDirectory + 'WorkingFiles/' + \"policing.csv\", \"policing.csv\")\n",
        "copyfile(WorkingDirectory + 'WorkingFiles/' + \"weed.csv\", \"weed.csv\")\n",
        "copyfile(WorkingDirectory + 'WorkingFiles/' + \"election_votes.csv\", \"election_votes.csv\")\n",
        "copyfile(WorkingDirectory + 'WorkingFiles/' + \"plotly_fips.csv\", \"plotly_fips.csv\")\n",
        "copyfile(WorkingDirectory + 'WorkingFiles/' + \"FilterColumns.data\", \"FilterColumns.data\")\n",
        "copyfile(WorkingDirectory + 'AdditionalData/' + \"Counties_(v17a).geojson\", \"Counties_(v17a).geojson\")\n",
        "\n"
      ],
      "execution_count": 45,
      "outputs": [
        {
          "output_type": "execute_result",
          "data": {
            "application/vnd.google.colaboratory.intrinsic+json": {
              "type": "string"
            },
            "text/plain": [
              "'Counties_(v17a).geojson'"
            ]
          },
          "metadata": {
            "tags": []
          },
          "execution_count": 45
        }
      ]
    },
    {
      "cell_type": "code",
      "metadata": {
        "colab": {
          "base_uri": "https://localhost:8080/",
          "height": 542
        },
        "id": "3X98rWsZ2mod",
        "outputId": "7461d62a-e5b7-47ea-a44d-ad89547bcff7"
      },
      "source": [
        "import plotly.express as px\n",
        "election_votes = pd.read_csv(\"election_votes.csv\")\n",
        "election_votes = election_votes.groupby(['year', 'electiontype']).sum().reset_index()\n",
        "px.line(\n",
        "          election_votes, \n",
        "          x='year', \n",
        "          y='Count', \n",
        "          color = 'electiontype')\n",
        "\n",
        "\n"
      ],
      "execution_count": 60,
      "outputs": [
        {
          "output_type": "display_data",
          "data": {
            "text/html": [
              "<html>\n",
              "<head><meta charset=\"utf-8\" /></head>\n",
              "<body>\n",
              "    <div>            <script src=\"https://cdnjs.cloudflare.com/ajax/libs/mathjax/2.7.5/MathJax.js?config=TeX-AMS-MML_SVG\"></script><script type=\"text/javascript\">if (window.MathJax) {MathJax.Hub.Config({SVG: {font: \"STIX-Web\"}});}</script>                <script type=\"text/javascript\">window.PlotlyConfig = {MathJaxConfig: 'local'};</script>\n",
              "        <script src=\"https://cdn.plot.ly/plotly-2.2.0.min.js\"></script>                <div id=\"c187fab6-d0da-45f8-8404-ca29b417d72e\" class=\"plotly-graph-div\" style=\"height:525px; width:100%;\"></div>            <script type=\"text/javascript\">                                    window.PLOTLYENV=window.PLOTLYENV || {};                                    if (document.getElementById(\"c187fab6-d0da-45f8-8404-ca29b417d72e\")) {                    Plotly.newPlot(                        \"c187fab6-d0da-45f8-8404-ca29b417d72e\",                        [{\"hovertemplate\":\"electiontype=General##<br>year=%{x}<br>Count=%{y}<extra></extra>\",\"legendgroup\":\"General##\",\"line\":{\"color\":\"#636efa\",\"dash\":\"solid\"},\"mode\":\"lines\",\"name\":\"General##\",\"orientation\":\"v\",\"showlegend\":true,\"type\":\"scatter\",\"x\":[1998,2000,2002,2004,2006,2008,2009,2010,2011,2012,2014,2015,2016,2017,2018,2019,2020],\"xaxis\":\"x\",\"y\":[123060,414207,323070,568204,464589,773229,128803,469389,123909,812591,557490,105575,1066115,160700,972434,183342,1220479],\"yaxis\":\"y\"},{\"hovertemplate\":\"electiontype=Primary##<br>year=%{x}<br>Count=%{y}<extra></extra>\",\"legendgroup\":\"Primary##\",\"line\":{\"color\":\"#EF553B\",\"dash\":\"solid\"},\"mode\":\"lines\",\"name\":\"Primary##\",\"orientation\":\"v\",\"showlegend\":true,\"type\":\"scatter\",\"x\":[1998,2000,2001,2002,2004,2006,2008,2009,2010,2011,2012,2014,2015,2016,2017,2018,2020],\"xaxis\":\"x\",\"y\":[41019,118599,37479,166850,118842,124271,261332,33222,199718,28112,250317,190648,828,523600,42841,432295,709557],\"yaxis\":\"y\"},{\"hovertemplate\":\"electiontype=Special##<br>year=%{x}<br>Count=%{y}<extra></extra>\",\"legendgroup\":\"Special##\",\"line\":{\"color\":\"#00cc96\",\"dash\":\"solid\"},\"mode\":\"lines\",\"name\":\"Special##\",\"orientation\":\"v\",\"showlegend\":true,\"type\":\"scatter\",\"x\":[1998,1999,2000,2001,2002,2003,2004,2005,2006,2007,2008,2009,2010,2011,2012,2013,2015,2016,2017,2018,2019,2020],\"xaxis\":\"x\",\"y\":[1659,51635,38378,123589,46654,109874,64738,157105,63732,131555,34343,153234,39819,146797,26481,41325,274107,26396,72695,29945,29440,499119],\"yaxis\":\"y\"},{\"hovertemplate\":\"electiontype=PresPrimary##<br>year=%{x}<br>Count=%{y}<extra></extra>\",\"legendgroup\":\"PresPrimary##\",\"line\":{\"color\":\"#ab63fa\",\"dash\":\"solid\"},\"mode\":\"lines\",\"name\":\"PresPrimary##\",\"orientation\":\"v\",\"showlegend\":true,\"type\":\"scatter\",\"x\":[2008,2012,2016,2020],\"xaxis\":\"x\",\"y\":[186664,124340,466530,555148],\"yaxis\":\"y\"},{\"hovertemplate\":\"electiontype=PresPrimary##Party<br>year=%{x}<br>Count=%{y}<extra></extra>\",\"legendgroup\":\"PresPrimary##Party\",\"line\":{\"color\":\"#FFA15A\",\"dash\":\"solid\"},\"mode\":\"lines\",\"name\":\"PresPrimary##Party\",\"orientation\":\"v\",\"showlegend\":true,\"type\":\"scatter\",\"x\":[2008,2012,2016,2020],\"xaxis\":\"x\",\"y\":[7968,2785,409659,3898],\"yaxis\":\"y\"},{\"hovertemplate\":\"electiontype=Primary##Party<br>year=%{x}<br>Count=%{y}<extra></extra>\",\"legendgroup\":\"Primary##Party\",\"line\":{\"color\":\"#19d3f3\",\"dash\":\"solid\"},\"mode\":\"lines\",\"name\":\"Primary##Party\",\"orientation\":\"v\",\"showlegend\":true,\"type\":\"scatter\",\"x\":[2008,2009,2010,2011,2012,2014,2015,2016,2017,2018,2019,2020],\"xaxis\":\"x\",\"y\":[8226,270,3003,356,3324,1862,167,409934,309,3033,321,4147],\"yaxis\":\"y\"},{\"hovertemplate\":\"electiontype=Municipal##<br>year=%{x}<br>Count=%{y}<extra></extra>\",\"legendgroup\":\"Municipal##\",\"line\":{\"color\":\"#FF6692\",\"dash\":\"solid\"},\"mode\":\"lines\",\"name\":\"Municipal##\",\"orientation\":\"v\",\"showlegend\":true,\"type\":\"scatter\",\"x\":[2013],\"xaxis\":\"x\",\"y\":[23738],\"yaxis\":\"y\"}],                        {\"legend\":{\"title\":{\"text\":\"electiontype\"},\"tracegroupgap\":0},\"margin\":{\"t\":60},\"template\":{\"data\":{\"bar\":[{\"error_x\":{\"color\":\"#2a3f5f\"},\"error_y\":{\"color\":\"#2a3f5f\"},\"marker\":{\"line\":{\"color\":\"#E5ECF6\",\"width\":0.5},\"pattern\":{\"fillmode\":\"overlay\",\"size\":10,\"solidity\":0.2}},\"type\":\"bar\"}],\"barpolar\":[{\"marker\":{\"line\":{\"color\":\"#E5ECF6\",\"width\":0.5},\"pattern\":{\"fillmode\":\"overlay\",\"size\":10,\"solidity\":0.2}},\"type\":\"barpolar\"}],\"carpet\":[{\"aaxis\":{\"endlinecolor\":\"#2a3f5f\",\"gridcolor\":\"white\",\"linecolor\":\"white\",\"minorgridcolor\":\"white\",\"startlinecolor\":\"#2a3f5f\"},\"baxis\":{\"endlinecolor\":\"#2a3f5f\",\"gridcolor\":\"white\",\"linecolor\":\"white\",\"minorgridcolor\":\"white\",\"startlinecolor\":\"#2a3f5f\"},\"type\":\"carpet\"}],\"choropleth\":[{\"colorbar\":{\"outlinewidth\":0,\"ticks\":\"\"},\"type\":\"choropleth\"}],\"contour\":[{\"colorbar\":{\"outlinewidth\":0,\"ticks\":\"\"},\"colorscale\":[[0.0,\"#0d0887\"],[0.1111111111111111,\"#46039f\"],[0.2222222222222222,\"#7201a8\"],[0.3333333333333333,\"#9c179e\"],[0.4444444444444444,\"#bd3786\"],[0.5555555555555556,\"#d8576b\"],[0.6666666666666666,\"#ed7953\"],[0.7777777777777778,\"#fb9f3a\"],[0.8888888888888888,\"#fdca26\"],[1.0,\"#f0f921\"]],\"type\":\"contour\"}],\"contourcarpet\":[{\"colorbar\":{\"outlinewidth\":0,\"ticks\":\"\"},\"type\":\"contourcarpet\"}],\"heatmap\":[{\"colorbar\":{\"outlinewidth\":0,\"ticks\":\"\"},\"colorscale\":[[0.0,\"#0d0887\"],[0.1111111111111111,\"#46039f\"],[0.2222222222222222,\"#7201a8\"],[0.3333333333333333,\"#9c179e\"],[0.4444444444444444,\"#bd3786\"],[0.5555555555555556,\"#d8576b\"],[0.6666666666666666,\"#ed7953\"],[0.7777777777777778,\"#fb9f3a\"],[0.8888888888888888,\"#fdca26\"],[1.0,\"#f0f921\"]],\"type\":\"heatmap\"}],\"heatmapgl\":[{\"colorbar\":{\"outlinewidth\":0,\"ticks\":\"\"},\"colorscale\":[[0.0,\"#0d0887\"],[0.1111111111111111,\"#46039f\"],[0.2222222222222222,\"#7201a8\"],[0.3333333333333333,\"#9c179e\"],[0.4444444444444444,\"#bd3786\"],[0.5555555555555556,\"#d8576b\"],[0.6666666666666666,\"#ed7953\"],[0.7777777777777778,\"#fb9f3a\"],[0.8888888888888888,\"#fdca26\"],[1.0,\"#f0f921\"]],\"type\":\"heatmapgl\"}],\"histogram\":[{\"marker\":{\"pattern\":{\"fillmode\":\"overlay\",\"size\":10,\"solidity\":0.2}},\"type\":\"histogram\"}],\"histogram2d\":[{\"colorbar\":{\"outlinewidth\":0,\"ticks\":\"\"},\"colorscale\":[[0.0,\"#0d0887\"],[0.1111111111111111,\"#46039f\"],[0.2222222222222222,\"#7201a8\"],[0.3333333333333333,\"#9c179e\"],[0.4444444444444444,\"#bd3786\"],[0.5555555555555556,\"#d8576b\"],[0.6666666666666666,\"#ed7953\"],[0.7777777777777778,\"#fb9f3a\"],[0.8888888888888888,\"#fdca26\"],[1.0,\"#f0f921\"]],\"type\":\"histogram2d\"}],\"histogram2dcontour\":[{\"colorbar\":{\"outlinewidth\":0,\"ticks\":\"\"},\"colorscale\":[[0.0,\"#0d0887\"],[0.1111111111111111,\"#46039f\"],[0.2222222222222222,\"#7201a8\"],[0.3333333333333333,\"#9c179e\"],[0.4444444444444444,\"#bd3786\"],[0.5555555555555556,\"#d8576b\"],[0.6666666666666666,\"#ed7953\"],[0.7777777777777778,\"#fb9f3a\"],[0.8888888888888888,\"#fdca26\"],[1.0,\"#f0f921\"]],\"type\":\"histogram2dcontour\"}],\"mesh3d\":[{\"colorbar\":{\"outlinewidth\":0,\"ticks\":\"\"},\"type\":\"mesh3d\"}],\"parcoords\":[{\"line\":{\"colorbar\":{\"outlinewidth\":0,\"ticks\":\"\"}},\"type\":\"parcoords\"}],\"pie\":[{\"automargin\":true,\"type\":\"pie\"}],\"scatter\":[{\"marker\":{\"colorbar\":{\"outlinewidth\":0,\"ticks\":\"\"}},\"type\":\"scatter\"}],\"scatter3d\":[{\"line\":{\"colorbar\":{\"outlinewidth\":0,\"ticks\":\"\"}},\"marker\":{\"colorbar\":{\"outlinewidth\":0,\"ticks\":\"\"}},\"type\":\"scatter3d\"}],\"scattercarpet\":[{\"marker\":{\"colorbar\":{\"outlinewidth\":0,\"ticks\":\"\"}},\"type\":\"scattercarpet\"}],\"scattergeo\":[{\"marker\":{\"colorbar\":{\"outlinewidth\":0,\"ticks\":\"\"}},\"type\":\"scattergeo\"}],\"scattergl\":[{\"marker\":{\"colorbar\":{\"outlinewidth\":0,\"ticks\":\"\"}},\"type\":\"scattergl\"}],\"scattermapbox\":[{\"marker\":{\"colorbar\":{\"outlinewidth\":0,\"ticks\":\"\"}},\"type\":\"scattermapbox\"}],\"scatterpolar\":[{\"marker\":{\"colorbar\":{\"outlinewidth\":0,\"ticks\":\"\"}},\"type\":\"scatterpolar\"}],\"scatterpolargl\":[{\"marker\":{\"colorbar\":{\"outlinewidth\":0,\"ticks\":\"\"}},\"type\":\"scatterpolargl\"}],\"scatterternary\":[{\"marker\":{\"colorbar\":{\"outlinewidth\":0,\"ticks\":\"\"}},\"type\":\"scatterternary\"}],\"surface\":[{\"colorbar\":{\"outlinewidth\":0,\"ticks\":\"\"},\"colorscale\":[[0.0,\"#0d0887\"],[0.1111111111111111,\"#46039f\"],[0.2222222222222222,\"#7201a8\"],[0.3333333333333333,\"#9c179e\"],[0.4444444444444444,\"#bd3786\"],[0.5555555555555556,\"#d8576b\"],[0.6666666666666666,\"#ed7953\"],[0.7777777777777778,\"#fb9f3a\"],[0.8888888888888888,\"#fdca26\"],[1.0,\"#f0f921\"]],\"type\":\"surface\"}],\"table\":[{\"cells\":{\"fill\":{\"color\":\"#EBF0F8\"},\"line\":{\"color\":\"white\"}},\"header\":{\"fill\":{\"color\":\"#C8D4E3\"},\"line\":{\"color\":\"white\"}},\"type\":\"table\"}]},\"layout\":{\"annotationdefaults\":{\"arrowcolor\":\"#2a3f5f\",\"arrowhead\":0,\"arrowwidth\":1},\"autotypenumbers\":\"strict\",\"coloraxis\":{\"colorbar\":{\"outlinewidth\":0,\"ticks\":\"\"}},\"colorscale\":{\"diverging\":[[0,\"#8e0152\"],[0.1,\"#c51b7d\"],[0.2,\"#de77ae\"],[0.3,\"#f1b6da\"],[0.4,\"#fde0ef\"],[0.5,\"#f7f7f7\"],[0.6,\"#e6f5d0\"],[0.7,\"#b8e186\"],[0.8,\"#7fbc41\"],[0.9,\"#4d9221\"],[1,\"#276419\"]],\"sequential\":[[0.0,\"#0d0887\"],[0.1111111111111111,\"#46039f\"],[0.2222222222222222,\"#7201a8\"],[0.3333333333333333,\"#9c179e\"],[0.4444444444444444,\"#bd3786\"],[0.5555555555555556,\"#d8576b\"],[0.6666666666666666,\"#ed7953\"],[0.7777777777777778,\"#fb9f3a\"],[0.8888888888888888,\"#fdca26\"],[1.0,\"#f0f921\"]],\"sequentialminus\":[[0.0,\"#0d0887\"],[0.1111111111111111,\"#46039f\"],[0.2222222222222222,\"#7201a8\"],[0.3333333333333333,\"#9c179e\"],[0.4444444444444444,\"#bd3786\"],[0.5555555555555556,\"#d8576b\"],[0.6666666666666666,\"#ed7953\"],[0.7777777777777778,\"#fb9f3a\"],[0.8888888888888888,\"#fdca26\"],[1.0,\"#f0f921\"]]},\"colorway\":[\"#636efa\",\"#EF553B\",\"#00cc96\",\"#ab63fa\",\"#FFA15A\",\"#19d3f3\",\"#FF6692\",\"#B6E880\",\"#FF97FF\",\"#FECB52\"],\"font\":{\"color\":\"#2a3f5f\"},\"geo\":{\"bgcolor\":\"white\",\"lakecolor\":\"white\",\"landcolor\":\"#E5ECF6\",\"showlakes\":true,\"showland\":true,\"subunitcolor\":\"white\"},\"hoverlabel\":{\"align\":\"left\"},\"hovermode\":\"closest\",\"mapbox\":{\"style\":\"light\"},\"paper_bgcolor\":\"white\",\"plot_bgcolor\":\"#E5ECF6\",\"polar\":{\"angularaxis\":{\"gridcolor\":\"white\",\"linecolor\":\"white\",\"ticks\":\"\"},\"bgcolor\":\"#E5ECF6\",\"radialaxis\":{\"gridcolor\":\"white\",\"linecolor\":\"white\",\"ticks\":\"\"}},\"scene\":{\"xaxis\":{\"backgroundcolor\":\"#E5ECF6\",\"gridcolor\":\"white\",\"gridwidth\":2,\"linecolor\":\"white\",\"showbackground\":true,\"ticks\":\"\",\"zerolinecolor\":\"white\"},\"yaxis\":{\"backgroundcolor\":\"#E5ECF6\",\"gridcolor\":\"white\",\"gridwidth\":2,\"linecolor\":\"white\",\"showbackground\":true,\"ticks\":\"\",\"zerolinecolor\":\"white\"},\"zaxis\":{\"backgroundcolor\":\"#E5ECF6\",\"gridcolor\":\"white\",\"gridwidth\":2,\"linecolor\":\"white\",\"showbackground\":true,\"ticks\":\"\",\"zerolinecolor\":\"white\"}},\"shapedefaults\":{\"line\":{\"color\":\"#2a3f5f\"}},\"ternary\":{\"aaxis\":{\"gridcolor\":\"white\",\"linecolor\":\"white\",\"ticks\":\"\"},\"baxis\":{\"gridcolor\":\"white\",\"linecolor\":\"white\",\"ticks\":\"\"},\"bgcolor\":\"#E5ECF6\",\"caxis\":{\"gridcolor\":\"white\",\"linecolor\":\"white\",\"ticks\":\"\"}},\"title\":{\"x\":0.05},\"xaxis\":{\"automargin\":true,\"gridcolor\":\"white\",\"linecolor\":\"white\",\"ticks\":\"\",\"title\":{\"standoff\":15},\"zerolinecolor\":\"white\",\"zerolinewidth\":2},\"yaxis\":{\"automargin\":true,\"gridcolor\":\"white\",\"linecolor\":\"white\",\"ticks\":\"\",\"title\":{\"standoff\":15},\"zerolinecolor\":\"white\",\"zerolinewidth\":2}}},\"xaxis\":{\"anchor\":\"y\",\"domain\":[0.0,1.0],\"title\":{\"text\":\"year\"}},\"yaxis\":{\"anchor\":\"x\",\"domain\":[0.0,1.0],\"title\":{\"text\":\"Count\"}}},                        {\"responsive\": true}                    ).then(function(){\n",
              "                            \n",
              "var gd = document.getElementById('c187fab6-d0da-45f8-8404-ca29b417d72e');\n",
              "var x = new MutationObserver(function (mutations, observer) {{\n",
              "        var display = window.getComputedStyle(gd).display;\n",
              "        if (!display || display === 'none') {{\n",
              "            console.log([gd, 'removed!']);\n",
              "            Plotly.purge(gd);\n",
              "            observer.disconnect();\n",
              "        }}\n",
              "}});\n",
              "\n",
              "// Listen for the removal of the full notebook cells\n",
              "var notebookContainer = gd.closest('#notebook-container');\n",
              "if (notebookContainer) {{\n",
              "    x.observe(notebookContainer, {childList: true});\n",
              "}}\n",
              "\n",
              "// Listen for the clearing of the current output cell\n",
              "var outputEl = gd.closest('.output');\n",
              "if (outputEl) {{\n",
              "    x.observe(outputEl, {childList: true});\n",
              "}}\n",
              "\n",
              "                        })                };                            </script>        </div>\n",
              "</body>\n",
              "</html>"
            ]
          },
          "metadata": {
            "tags": []
          }
        }
      ]
    },
    {
      "cell_type": "code",
      "metadata": {
        "id": "e8SuW28_3j1M",
        "colab": {
          "base_uri": "https://localhost:8080/"
        },
        "outputId": "ca85a40b-17fa-4ced-da42-920eeeb9c7a1"
      },
      "source": [
        "%%writefile AltairGraph.py\n",
        "\n",
        "import altair as alt\n",
        "import io\n",
        "import dash\n",
        "import dash_core_components as dcc\n",
        "import dash_html_components as html\n",
        "import plotly.graph_objs as go\n",
        "from jupyter_dash import JupyterDash\n",
        "import plotly.express as px\n",
        "from vega_datasets import data\n",
        "import folium\n",
        "import pandas as pd\n",
        "import pickle\n",
        "from urllib.request import urlopen\n",
        "import json\n",
        "with urlopen('https://raw.githubusercontent.com/plotly/datasets/master/geojson-counties-fips.json') as response:\n",
        "    counties = json.load(response)\n",
        "\n",
        "with open('FilterColumns.data', 'rb') as filehandle:\n",
        "    # read the data as binary data stream\n",
        "    FilterColumns = pickle.load(filehandle)\n",
        "\n",
        "df_aggregate = pd.read_csv(\"df_aggregate.csv\")\n",
        "total_voter_pop = pd.read_csv(\"total_voter_pop.csv\")\n",
        "biden_support_df = pd.read_csv(\"biden_support_df.csv\")\n",
        "mass_inc = pd.read_csv(\"mass_inc.csv\")\n",
        "policing = pd.read_csv(\"policing.csv\")\n",
        "weed = pd.read_csv(\"weed.csv\")\n",
        "election_votes = pd.read_csv(\"election_votes.csv\")\n",
        "plotly_fips = pd.read_csv(\"plotly_fips.csv\")\n",
        "#alt.data_transformers.disable_max_rows()\n",
        "\n",
        "# Don't need this with the cars dataset\n",
        "alt.data_transformers.enable('default', max_rows=150000)\n",
        "\n",
        "cars = data.cars()\n",
        "\n",
        "external_stylesheets = ['https://codepen.io/chriddyp/pen/bWLwgP.css']\n",
        "app = JupyterDash(__name__, external_stylesheets=external_stylesheets)\n",
        "app.css.append_css({'external_url':\n",
        "                    'https://cdn.rawgit.com/gschivley/8040fc3c7e11d2a4e7f0589ffc829a02/raw/fe763af6be3fc79eca341b04cd641124de6f6f0d/dash.css'\n",
        "                    })\n",
        "app.title = 'Test dash and altair'\n",
        "server = app.server\n",
        "\n",
        "#Build our dropdowns for each of the Filter Columns\n",
        "DropDowns = []\n",
        "inputs = []\n",
        "for ColumnName in FilterColumns.keys():\n",
        "    DropDowns.append(\n",
        "        html.Div([\n",
        "            html.Label(ColumnName),\n",
        "            dcc.Dropdown(\n",
        "                id=ColumnName,\n",
        "                options=[{'label': i, 'value':i} for i in FilterColumns[ColumnName]],\n",
        "                value='All'\n",
        "            )\n",
        "        ],\n",
        "        style={'width': '250px', 'marginRight': 'auto',\n",
        "              'marginLeft': 'auto', 'textAlign': 'center'},\n",
        "        className='column'))\n",
        "    inputs.append(dash.dependencies.Input(ColumnName, 'value'))\n",
        "\n",
        "#Build our main layout\n",
        "app.layout = html.Div(children=[html.Div(children=DropDowns, className='row'), html.Pre(id='plot', children=\"If this doesn't go away you have an error\")])\n",
        "\n",
        "@app.callback(\n",
        "    dash.dependencies.Output('plot', 'children'),\n",
        "    inputs\n",
        ")\n",
        "def pick_figure(Race, Sex, AgeGroup, CountyName):\n",
        "    #This is our key. Filter everything before passing it into the charts.\n",
        "    dfFiltered = df_aggregate[((df_aggregate['RaceName'] == Race) | (Race == 'All') ) & \n",
        "                              ((df_aggregate['Sex'] == Sex) | (Sex == 'All')) &\n",
        "                              ((df_aggregate['AgeGroup'] == AgeGroup) | (AgeGroup == 'All')) &\n",
        "                              ((df_aggregate['CountyName'] == CountyName) | (CountyName == 'All'))]\n",
        "    \n",
        "    total_voter_pop_filtered = total_voter_pop[((total_voter_pop['RaceName'] == Race) | (Race == 'All') ) & \n",
        "                              ((total_voter_pop['Sex'] == Sex) | (Sex == 'All')) &\n",
        "                              ((total_voter_pop['AgeGroup'] == AgeGroup) | (AgeGroup == 'All')) &\n",
        "                              ((total_voter_pop['CountyName'] == CountyName) | (CountyName == 'All'))]\n",
        "    \n",
        "    biden_support_filtered = biden_support_df[((biden_support_df['RaceName'] == Race) | (Race == 'All') ) & \n",
        "                              ((biden_support_df['Sex'] == Sex) | (Sex == 'All')) &\n",
        "                              ((biden_support_df['AgeGroup'] == AgeGroup) | (AgeGroup == 'All')) &\n",
        "                              ((biden_support_df['CountyName'] == CountyName) | (CountyName == 'All'))]\n",
        "    \n",
        "    mass_inc_filtered = mass_inc[((mass_inc['RaceName'] == Race) | (Race == 'All') ) & \n",
        "                              ((mass_inc['Sex'] == Sex) | (Sex == 'All')) &\n",
        "                              ((mass_inc['AgeGroup'] == AgeGroup) | (AgeGroup == 'All')) &\n",
        "                              ((mass_inc['CountyName'] == CountyName) | (CountyName == 'All'))]\n",
        "    \n",
        "    policing_filtered = policing[((policing['RaceName'] == Race) | (Race == 'All') ) & \n",
        "                              ((policing['Sex'] == Sex) | (Sex == 'All')) &\n",
        "                              ((policing['AgeGroup'] == AgeGroup) | (AgeGroup == 'All')) &\n",
        "                              ((policing['CountyName'] == CountyName) | (CountyName == 'All'))]\n",
        "    \n",
        "    weed_filtered = weed[((weed['RaceName'] == Race) | (Race == 'All') ) & \n",
        "                              ((weed['Sex'] == Sex) | (Sex == 'All')) &\n",
        "                              ((weed['AgeGroup'] == AgeGroup) | (AgeGroup == 'All')) &\n",
        "                              ((weed['CountyName'] == CountyName) | (CountyName == 'All'))]\n",
        "    \n",
        "    election_votes_filtered = election_votes[((election_votes['RaceName'] == Race) | (Race == 'All') ) & \n",
        "                              ((election_votes['Sex'] == Sex) | (Sex == 'All')) &\n",
        "                              ((election_votes['AgeGroup'] == AgeGroup) | (AgeGroup == 'All')) &\n",
        "                              ((election_votes['CountyName'] == CountyName) | (CountyName == 'All'))]\n",
        "    election_votes_filtered = election_votes_filtered.groupby(['year', 'electiontype']).sum().reset_index()\n",
        "    \n",
        "    plotly_fips_filtered = plotly_fips[((plotly_fips['RaceName'] == Race) | (Race == 'All') ) & \n",
        "                              ((plotly_fips['Sex'] == Sex) | (Sex == 'All')) &\n",
        "                              ((plotly_fips['AgeGroup'] == AgeGroup) | (AgeGroup == 'All')) &\n",
        "                              ((plotly_fips['CountyName'] == CountyName) | (CountyName == 'All'))]\n",
        "    \n",
        "    \n",
        "    \n",
        "\n",
        "    #We should also aggregate it. This will keep our record count low and avoid errors. We will obviously need to add columns that we need.\n",
        "    #dfFiltered = dfFiltered.groupby(by=['2020_Biden_Support', 'CountyName']).sum()\n",
        "    #dfFiltered = dfFiltered.reset_index()\n",
        "\n",
        "    #Encode the Altair Chart\n",
        "    base = alt.Chart(dfFiltered).mark_bar().encode(\n",
        "    x='Count:Q',\n",
        "    y = alt.Y('CommunicationType:N', title=None),\n",
        "    color='CommunicationType:N',\n",
        "    row='ElectionType:N').properties(title='Election by Communication Type')\n",
        "\n",
        "    # Save html as a StringIO object in memory\n",
        "    htmloutput = io.StringIO()\n",
        "    base.save(htmloutput, 'html')\n",
        "\n",
        "    chart1 = html.Iframe(\n",
        "        height='500',\n",
        "        width='1000',\n",
        "        #sandbox='allow-scripts',\n",
        "\n",
        "        # This is where we will pass the html\n",
        "        srcDoc = htmloutput.getvalue(),\n",
        "\n",
        "        # Get rid of the border box\n",
        "        style={'border-width': '0px'}\n",
        "    )\n",
        "\n",
        "    #Create a simple Plotly Express chart\n",
        "\n",
        "    chart2 = dcc.Graph(\n",
        "      id='example-graph',\n",
        "      figure=px.histogram(\n",
        "          biden_support_filtered, \n",
        "          x=\"2020_Biden_Support\", \n",
        "          y=\"# of Voters\", \n",
        "          barmode='group', histfunc='sum',\n",
        "          title=\"Biden 2020 Support\", \n",
        "          labels={'2020_Biden_Support':''}),\n",
        "      style={'width': '100vh', 'height': '50vh', 'float' : 'right','display': 'inline-block' }\n",
        "    )\n",
        "\n",
        "    #Add a folium map\n",
        "    #start_coords = (44.3148, -85.6024)\n",
        "    #folium_map = folium.Map(location=start_coords, tiles='cartodbpositron', zoom_start=6)\n",
        "    miMap = folium.Map(location=[44.3148, -85.6024], tiles='cartodbpositron', zoom_start=7)\n",
        "    m = folium.Choropleth(geo_data='Counties_(v17a).geojson',\n",
        "                 data=total_voter_pop_filtered, columns=['CountyName', 'fraction'], key_on='feature.properties.NAME',\n",
        "                 fill_color='YlGnBu', fill_opacity=1).add_to(miMap)\n",
        "\n",
        "    \n",
        "    chart3 = html.Iframe(\n",
        "        height='2000',\n",
        "        width='1000',\n",
        "\n",
        "        # This is where we will pass the html\n",
        "        srcDoc = miMap._repr_html_(),\n",
        "\n",
        "        # Get rid of the border box\n",
        "        style={'border-width': '0px', 'float': 'right'}\n",
        "    )\n",
        "    \n",
        "    chart4 = dcc.Graph(\n",
        "      id='mass-inc-graph',\n",
        "      figure=px.pie(\n",
        "          mass_inc_filtered, \n",
        "          values=\"Count\",\n",
        "          names=\"Mass_Incarceration\", \n",
        "          title=\"Mass Incarceration\", \n",
        "          labels={'Mass_Incarceration':'Support'}, \n",
        "          color='Mass_Incarceration',\n",
        "          color_discrete_map={'Yes':'lightgreen',\n",
        "                                 'No':'crimson',\n",
        "                                 'Other/Unknown':'cyan'}),\n",
        "      style={'width': '50vh', 'height': '50vh', 'float': 'right'}\n",
        "    )\n",
        "    \n",
        "    chart5 = dcc.Graph(\n",
        "      id='policing-graph',\n",
        "      figure=px.pie(\n",
        "          policing_filtered, \n",
        "          values=\"Count\",\n",
        "          names=\"PoliceAccountability\", \n",
        "          title=\"Police Accountability\", \n",
        "          labels={'PoliceAccountability':'Support'}, \n",
        "          color='PoliceAccountability',\n",
        "          color_discrete_map={'Yes':'lightgreen',\n",
        "                                 'No':'crimson',\n",
        "                                 'Other/Unknown':'cyan',\n",
        "                                 'Maybe':'goldenrod'}),\n",
        "      style={'width': '50vh', 'height': '50vh', 'float': 'right'}\n",
        "    )\n",
        "\n",
        "    chart6 = dcc.Graph(\n",
        "      id='weed-graph',\n",
        "      figure=px.pie(\n",
        "          weed_filtered, \n",
        "          values=\"Count\",\n",
        "          names=\"MarijuanaConviction\", \n",
        "          title=\"Marijuana Conviction\", \n",
        "          labels={'Marijuana Conviction':'Support'}, \n",
        "          color='MarijuanaConviction',\n",
        "          color_discrete_map={'Yes':'lightgreen',\n",
        "                                 'No':'crimson',\n",
        "                                 'Other/Unknown':'cyan'}),\n",
        "      style={'width': '50vh', 'height': '50vh', 'float': 'right'}\n",
        "    )\n",
        "\n",
        "    chart7 = dcc.Graph(\n",
        "      id='election-graph',\n",
        "      figure=px.line(\n",
        "          election_votes_filtered, \n",
        "          x='year', \n",
        "          y='Count', \n",
        "          color = 'electiontype'),\n",
        "      style={'width': '200vh', 'height': '100vh', 'float': 'right', 'display': 'inline-block'}\n",
        "    )\n",
        "\n",
        "    plotly_map = dcc.Graph(\n",
        "      id='map-graph',\n",
        "      figure=px.choropleth(plotly_fips_filtered, geojson=counties, locations='FIPS', color='fraction',\n",
        "                           color_continuous_scale=\"Viridis_r\",\n",
        "                           range_color=(0, 0.3),\n",
        "                           scope=\"usa\",\n",
        "                           labels={'fraction':'ACLU Voters by Registered Voters'}, \n",
        "                    hover_data=[\"CountyName\", 'fraction', 'Voter File VANID', 'All Registered Voters']\n",
        "                          ).update_geos(fitbounds=\"locations\", visible=False).update_layout(margin={\"r\":0,\"t\":0,\"l\":0,\"b\":0}),\n",
        "      style={'width': '200vh', 'height': '100vh', 'float': 'right'}\n",
        "    )\n",
        "\n",
        "    comm_graph = dcc.Graph(\n",
        "      id='comm-graph',\n",
        "      figure=px.histogram(df_aggregate, x=\"CommunicationType\", y=\"Count\", color=\"CommunicationType\", \n",
        "                          barmode=\"group\", histfunc='sum', facet_col=\"CampaignType\", facet_col_spacing=0.05, \n",
        "                          title=\"Campaign by Communication Type\").for_each_annotation(lambda a: a.update(text=a.text.split(\"=\")[1])),\n",
        "      style={'width': '150vh', 'height': '50vh', 'float': 'right'}\n",
        "    )\n",
        "\n",
        "    \n",
        "    # Return the html from StringIO object\n",
        "    return plotly_map, comm_graph, chart4, chart2, chart5, chart6, chart7\n",
        "    #return chart2\n",
        "\n",
        "if __name__ == '__main__':\n",
        "    app.run_server(debug=True)\n",
        "\n",
        "#app.run_server(mode=\"inline\")"
      ],
      "execution_count": 64,
      "outputs": [
        {
          "output_type": "stream",
          "text": [
            "Overwriting AltairGraph.py\n"
          ],
          "name": "stdout"
        }
      ]
    },
    {
      "cell_type": "code",
      "metadata": {
        "id": "cyVJcSHFjl9a"
      },
      "source": [
        "import os\n",
        "import json\n",
        "import time\n",
        "\n",
        "def GetPublicIP(NumberOfLoops):\n",
        "  #This code only works on a linux based OS, we'll skip running it if we're on an unknown OS\n",
        "  #if os.name in LinuxOSList:\n",
        "  NumberOfLoops = NumberOfLoops + 1\n",
        "  get_ipython().system_raw('./ngrok http 8050 &')\n",
        "  time.sleep(1)\n",
        "  result = os.popen(\"curl -s http://localhost:4040/api/tunnels\").read()\n",
        "  print(result)\n",
        "  resultDict = json.loads(result)\n",
        "  if 'tunnels' in resultDict.keys():\n",
        "    publicIP = resultDict['tunnels'][0]['public_url']\n",
        "    print(publicIP)\n",
        "    return publicIP\n",
        "  else:\n",
        "    print(\"Number of Loops: \" + NumberOfLoops)\n",
        "    if NumberOfLoops > 5:\n",
        "      return \"Unable to get public IP\"\n",
        "    return GetPublicIP(NumberOfLoops)"
      ],
      "execution_count": 37,
      "outputs": []
    },
    {
      "cell_type": "code",
      "metadata": {
        "id": "dhbrLIMI51ki",
        "colab": {
          "base_uri": "https://localhost:8080/"
        },
        "outputId": "1760dbb1-8c25-41ba-966b-c83ef98eb962"
      },
      "source": [
        "publicIP = GetPublicIP(5)\n",
        "### Run Dash app\n",
        "!python AltairGraph.py"
      ],
      "execution_count": 65,
      "outputs": [
        {
          "output_type": "stream",
          "text": [
            "{\"tunnels\":[{\"name\":\"command_line\",\"uri\":\"/api/tunnels/command_line\",\"public_url\":\"https://e499b0136631.ngrok.io\",\"proto\":\"https\",\"config\":{\"addr\":\"http://localhost:8050\",\"inspect\":true},\"metrics\":{\"conns\":{\"count\":0,\"gauge\":0,\"rate1\":0,\"rate5\":0,\"rate15\":0,\"p50\":0,\"p90\":0,\"p95\":0,\"p99\":0},\"http\":{\"count\":0,\"rate1\":0,\"rate5\":0,\"rate15\":0,\"p50\":0,\"p90\":0,\"p95\":0,\"p99\":0}}},{\"name\":\"command_line (http)\",\"uri\":\"/api/tunnels/command_line%20%28http%29\",\"public_url\":\"http://e499b0136631.ngrok.io\",\"proto\":\"http\",\"config\":{\"addr\":\"http://localhost:8050\",\"inspect\":true},\"metrics\":{\"conns\":{\"count\":0,\"gauge\":0,\"rate1\":0,\"rate5\":0,\"rate15\":0,\"p50\":0,\"p90\":0,\"p95\":0,\"p99\":0},\"http\":{\"count\":0,\"rate1\":0,\"rate5\":0,\"rate15\":0,\"p50\":0,\"p90\":0,\"p95\":0,\"p99\":0}}}],\"uri\":\"/api/tunnels\"}\n",
            "\n",
            "https://e499b0136631.ngrok.io\n",
            "Dash is running on http://127.0.0.1:8050/\n",
            "\n",
            " * Serving Flask app \"AltairGraph\" (lazy loading)\n",
            " * Environment: production\n",
            "\u001b[31m   WARNING: This is a development server. Do not use it in a production deployment.\u001b[0m\n",
            "\u001b[2m   Use a production WSGI server instead.\u001b[0m\n",
            " * Debug mode: on\n",
            "/usr/local/lib/python3.7/dist-packages/dash/resources.py:72: UserWarning: You have set your config to `serve_locally=True` but A local version of https://cdn.rawgit.com/gschivley/8040fc3c7e11d2a4e7f0589ffc829a02/raw/fe763af6be3fc79eca341b04cd641124de6f6f0d/dash.css is not available.\n",
            "If you added this file with `app.scripts.append_script` or `app.css.append_css`, use `external_scripts` or `external_stylesheets` instead.\n",
            "See https://dash.plot.com/external-resources\n",
            "  ).format(s[\"external_url\"])\n"
          ],
          "name": "stdout"
        }
      ]
    }
  ]
}