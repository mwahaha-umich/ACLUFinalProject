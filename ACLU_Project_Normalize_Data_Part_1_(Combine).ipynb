{
  "nbformat": 4,
  "nbformat_minor": 0,
  "metadata": {
    "colab": {
      "name": "ACLU Project Normalize Data Part 1 (Combine).ipynb",
      "provenance": [],
      "collapsed_sections": [],
      "authorship_tag": "ABX9TyMZZfEefAn66gAmqlBDk6RK",
      "include_colab_link": true
    },
    "kernelspec": {
      "name": "python3",
      "display_name": "Python 3"
    }
  },
  "cells": [
    {
      "cell_type": "markdown",
      "metadata": {
        "id": "view-in-github",
        "colab_type": "text"
      },
      "source": [
        "<a href=\"https://colab.research.google.com/github/mwahaha-umich/ACLUFinalProject/blob/main/ACLU_Project_Normalize_Data_Part_1_(Combine).ipynb\" target=\"_parent\"><img src=\"https://colab.research.google.com/assets/colab-badge.svg\" alt=\"Open In Colab\"/></a>"
      ]
    },
    {
      "cell_type": "markdown",
      "metadata": {
        "id": "jmjRG9q12NM0"
      },
      "source": [
        "The purpose of this Jupyter notebook is to combine and split the data from the various source files we were provided. The current format is extremely redundant, will cuase memory issues if handled directly in its entirety. By combining and splitting the data we will have a much easier time working with the dataset.\n",
        "\n",
        "This notebook splits the Combined input into the following files:\n",
        "\n",
        "\n",
        "*   dfMerged.csv - Includes all voting information (need to rename)\n",
        "*   dfVoters.csv - Includes information with regard to the voters\n",
        "*   dfOutreach.csv - Includes information based on which outreach effort(s) affected a particular voter.\n",
        "\n"
      ]
    },
    {
      "cell_type": "code",
      "metadata": {
        "colab": {
          "base_uri": "https://localhost:8080/"
        },
        "id": "OsdbKMXLtahY",
        "outputId": "533e61c6-44ad-419f-f6d6-837d39c46feb"
      },
      "source": [
        "from google.colab import drive\n",
        "drive.mount('/content/drive', force_remount=True)"
      ],
      "execution_count": null,
      "outputs": [
        {
          "output_type": "stream",
          "text": [
            "Mounted at /content/drive\n"
          ],
          "name": "stdout"
        }
      ]
    },
    {
      "cell_type": "code",
      "metadata": {
        "id": "tAp6S8A4tgjs"
      },
      "source": [
        "import os\n",
        "from os import listdir\n",
        "from os.path import isfile, join\n",
        "\n",
        "GoogleDriveBase = \"/content/drive/My Drive/\"\n",
        "WorkingDirectory = \"Projects/ACLU/\"\n",
        "BasePickeDrive = GoogleDriveBase + WorkingDirectory + \"Pickle/\"\n",
        "WorkingFiles = GoogleDriveBase + WorkingDirectory + \"WorkingFiles/\"\n",
        "ListOfAllRequiredFiles = [WorkingDirectory + 'LetPeopleVote Data/LPVCall120210621-8755504337.xls', \n",
        "                          WorkingDirectory + 'LetPeopleVote Data/LPVMail120210621-11078584334.xls',\n",
        "                          WorkingDirectory + 'LetPeopleVote Data/LPVMail220210621-13283358728.xls']\n",
        "for PathToFile in ListOfAllRequiredFiles:\n",
        "  path, file = os.path.split(PathToFile)\n",
        "\n",
        "  #Break the folders out into a list\n",
        "  folders = path.split(os.sep)\n",
        "\n",
        "  RunningPath = GoogleDriveBase\n",
        "  for folder in folders:\n",
        "    RunningPath = RunningPath + folder + \"/\"\n",
        "    try:\n",
        "      FilesAndFolders = [f for f in listdir(RunningPath) ]\n",
        "    except:\n",
        "      print(\"The following path does not exist. Please create it before continuing.\")\n",
        "      print(RunningPath)\n",
        "\n",
        "  if(os.path.exists(GoogleDriveBase + PathToFile) == False):\n",
        "      print(\"The following file does not exist. Please create it before continuing.\")\n",
        "      print(GoogleDriveBase + PathToFile)"
      ],
      "execution_count": null,
      "outputs": []
    },
    {
      "cell_type": "code",
      "metadata": {
        "colab": {
          "base_uri": "https://localhost:8080/"
        },
        "id": "FCNEYtHltidD",
        "outputId": "56290b38-7918-42ae-d5ca-7a3143d20da0"
      },
      "source": [
        "import numpy\n",
        "import sys\n",
        "from nltk.tokenize import RegexpTokenizer\n",
        "from nltk.corpus import stopwords\n",
        "from keras.models import Sequential\n",
        "from keras.layers import Dense, Dropout, LSTM\n",
        "from keras.utils import np_utils\n",
        "from keras.callbacks import ModelCheckpoint\n",
        "from keras.models import load_model\n",
        "import csv\n",
        "import string\n",
        "import pandas as pd\n",
        "import gc\n",
        "import re\n",
        "import string"
      ],
      "execution_count": null,
      "outputs": [
        {
          "output_type": "stream",
          "text": [
            "[nltk_data] Downloading package stopwords to /root/nltk_data...\n",
            "[nltk_data]   Unzipping corpora/stopwords.zip.\n"
          ],
          "name": "stdout"
        }
      ]
    },
    {
      "cell_type": "code",
      "metadata": {
        "id": "5xPOq2ihL6KO"
      },
      "source": [
        "AllFilesInTheSubfolder = []\n",
        "for subfolder in os.walk(GoogleDriveBase + WorkingDirectory):\n",
        "  #Skip the pickle folder\n",
        "  if \"Pickle\" in subfolder[0] or \"WorkingFiles\" in subfolder[0]:\n",
        "      continue\n",
        "  for file in subfolder[2]:\n",
        "    FileWithPath = subfolder[0] +\"/\"+ file\n",
        "    match = re.search(\"(.*)(text|mail|phone|call|postcards)\", file.lower())\n",
        "    if match == None:\n",
        "      raise ValueError(\"Could not parse: \" + file + \"\\n Please take a look at the type of communication and ensure that it's on the list. \\nThis should only happen when we add new files whose name is inconsistant with the older files.\")\n",
        "    CommunicationType = match.group(2).replace(\"_\", \" \").strip()\n",
        "    #We have some inconsistant communication type names. So, I'm doing a little cleanup here.\n",
        "    if CommunicationType == \"call\":\n",
        "      CommunicationType = \"phone\"\n",
        "    if CommunicationType == \"postcards\":\n",
        "      CommunicationType = \"mail\"\n",
        "    FileWithDetails = (FileWithPath, match.group(1).replace(\"_\", \" \").strip(), match.group(2).replace(\"_\", \" \").strip(), file)\n",
        "    AllFilesInTheSubfolder.append(FileWithDetails)\n",
        "    #print(FileWithDetails)"
      ],
      "execution_count": null,
      "outputs": []
    },
    {
      "cell_type": "code",
      "metadata": {
        "colab": {
          "base_uri": "https://localhost:8080/"
        },
        "id": "6ya-Cd8uOtG5",
        "outputId": "c64edeb3-cbf4-49e6-a9d8-4f4dbc4fbd0d"
      },
      "source": [
        "#Load all the files into dataframes\n",
        "columns = []\n",
        "dataframesbytype = {}\n",
        "\n",
        "for file in AllFilesInTheSubfolder:\n",
        "  df = pd.read_csv(file[0], sep='\\t',header=(0))\n",
        "  df[\"ElectionType\"] = file[1]\n",
        "  df[\"CommunicationType\"] = file[2]\n",
        "  df[\"File\"] = file[3]\n",
        "  columns.extend(df.columns)\n",
        "  if file[1] not in dataframesbytype:\n",
        "    dataframesbytype[file[1]] = []\n",
        "  dataframesbytype[file[1]].append(df)\n",
        "columns = set(columns)\n",
        "print(columns)"
      ],
      "execution_count": null,
      "outputs": [
        {
          "output_type": "stream",
          "text": [
            "/usr/local/lib/python3.7/dist-packages/IPython/core/interactiveshell.py:2718: DtypeWarning: Columns (20,28,30,35,58,59,60,61,62,63,65,69,71,73,75,77,79,82,85,87,88,89,91,92,93,95,96,97,98,99,100,101,104,106,108,109,111,113,114,115,116,117,118,119,120,121,122,123,125,126,127,129,130,131) have mixed types.Specify dtype option on import or set low_memory=False.\n",
            "  interactivity=interactivity, compiler=compiler, result=result)\n",
            "/usr/local/lib/python3.7/dist-packages/IPython/core/interactiveshell.py:2718: DtypeWarning: Columns (28,30,47,51,54,58,59,60,61,62,63,65,68,69,70,71,73,74,75,77,79,82,83,85,87,88,89,91,92,93,94,95,96,97,98,99,100,101,103,104,105,106,108,109,110,111,113,114,115,116,117,118,119,120,121,122,123,125,126,127,129,130,131) have mixed types.Specify dtype option on import or set low_memory=False.\n",
            "  interactivity=interactivity, compiler=compiler, result=result)\n",
            "/usr/local/lib/python3.7/dist-packages/IPython/core/interactiveshell.py:2718: DtypeWarning: Columns (20,28,30,35,58,59,60,61,62,63,65,69,71,73,75,77,79,82,83,85,87,88,89,91,93,95,96,97,98,99,100,101,104,108,109,111,113,114,115,116,117,118,119,120,121,122,123,125,126,127,128,129,130) have mixed types.Specify dtype option on import or set low_memory=False.\n",
            "  interactivity=interactivity, compiler=compiler, result=result)\n",
            "/usr/local/lib/python3.7/dist-packages/IPython/core/interactiveshell.py:2718: DtypeWarning: Columns (20,65,73,75,77,79,82,83,85,89,93,125,126,127) have mixed types.Specify dtype option on import or set low_memory=False.\n",
            "  interactivity=interactivity, compiler=compiler, result=result)\n",
            "/usr/local/lib/python3.7/dist-packages/IPython/core/interactiveshell.py:2718: DtypeWarning: Columns (69,75,77,79,82,83,85,87,89,91,93,103,123,127,129) have mixed types.Specify dtype option on import or set low_memory=False.\n",
            "  interactivity=interactivity, compiler=compiler, result=result)\n",
            "/usr/local/lib/python3.7/dist-packages/IPython/core/interactiveshell.py:2718: DtypeWarning: Columns (20,28,30,35,58,59,60,61,62,63,65,69,71,73,75,77,79,82,83,85,87,88,89,91,92,93,95,96,97,98,99,100,101,104,108,109,110,111,113,114,115,116,117,118,119,120,121,122,123,125,126,127,129,130,131) have mixed types.Specify dtype option on import or set low_memory=False.\n",
            "  interactivity=interactivity, compiler=compiler, result=result)\n",
            "/usr/local/lib/python3.7/dist-packages/IPython/core/interactiveshell.py:2718: DtypeWarning: Columns (20,28,30,35,58,59,60,61,62,63,69,75,79,82,83,87,89,93,96,97,98,99,100,101,114,115,116,117,118,119,120,121,122,123,125,126,127,129,130) have mixed types.Specify dtype option on import or set low_memory=False.\n",
            "  interactivity=interactivity, compiler=compiler, result=result)\n",
            "/usr/local/lib/python3.7/dist-packages/IPython/core/interactiveshell.py:2718: DtypeWarning: Columns (20,63,65,73,75,77,79,82,83,85,89,91,93,125,126,127,129,130) have mixed types.Specify dtype option on import or set low_memory=False.\n",
            "  interactivity=interactivity, compiler=compiler, result=result)\n",
            "/usr/local/lib/python3.7/dist-packages/IPython/core/interactiveshell.py:2718: DtypeWarning: Columns (28,30,35,39,58,59,60,61,62,63,65,69,71,75,77,79,82,83,85,87,88,89,91,92,93,95,96,97,98,99,100,101,103,104,105,106,108,109,111,113,114,115,116,117,118,119,120,121,122,123,125,126,127,129,130) have mixed types.Specify dtype option on import or set low_memory=False.\n",
            "  interactivity=interactivity, compiler=compiler, result=result)\n",
            "/usr/local/lib/python3.7/dist-packages/IPython/core/interactiveshell.py:2718: DtypeWarning: Columns (20,28,62,63,75,79,82,83,85,89,93,96,97,98,99,100,101,114,115,116,117,118,119,120,121,122,123,125,126,127,128,129,130) have mixed types.Specify dtype option on import or set low_memory=False.\n",
            "  interactivity=interactivity, compiler=compiler, result=result)\n",
            "/usr/local/lib/python3.7/dist-packages/IPython/core/interactiveshell.py:2718: DtypeWarning: Columns (20,80,128) have mixed types.Specify dtype option on import or set low_memory=False.\n",
            "  interactivity=interactivity, compiler=compiler, result=result)\n",
            "/usr/local/lib/python3.7/dist-packages/IPython/core/interactiveshell.py:2718: DtypeWarning: Columns (20,28,30,58,59,60,61,62,63,65,69,71,73,75,77,79,82,83,85,87,88,89,91,92,93,95,96,97,98,99,100,101,104,108,109,111,113,114,115,116,117,118,119,120,121,122,123,127,129,130,131) have mixed types.Specify dtype option on import or set low_memory=False.\n",
            "  interactivity=interactivity, compiler=compiler, result=result)\n",
            "/usr/local/lib/python3.7/dist-packages/IPython/core/interactiveshell.py:2718: DtypeWarning: Columns (28,30,35,39,58,59,60,61,62,63,65,69,71,73,75,77,79,82,83,85,87,88,89,91,92,93,95,96,97,98,99,100,101,103,104,106,108,109,111,113,114,115,116,117,118,119,120,121,122,123,125,126,127,129,130) have mixed types.Specify dtype option on import or set low_memory=False.\n",
            "  interactivity=interactivity, compiler=compiler, result=result)\n",
            "/usr/local/lib/python3.7/dist-packages/IPython/core/interactiveshell.py:2718: DtypeWarning: Columns (65,73,75,77,79,82,83,85,89,93,123,125,126,127) have mixed types.Specify dtype option on import or set low_memory=False.\n",
            "  interactivity=interactivity, compiler=compiler, result=result)\n",
            "/usr/local/lib/python3.7/dist-packages/IPython/core/interactiveshell.py:2718: DtypeWarning: Columns (20,28,58,59,60,61,62,65,69,71,73,75,77,79,82,83,85,87,89,91,93,95,96,97,98,99,100,101,114,115,116,117,118,119,120,121,122,123,125,126,127,129) have mixed types.Specify dtype option on import or set low_memory=False.\n",
            "  interactivity=interactivity, compiler=compiler, result=result)\n",
            "/usr/local/lib/python3.7/dist-packages/IPython/core/interactiveshell.py:2718: DtypeWarning: Columns (20,36,80,84,90) have mixed types.Specify dtype option on import or set low_memory=False.\n",
            "  interactivity=interactivity, compiler=compiler, result=result)\n",
            "/usr/local/lib/python3.7/dist-packages/IPython/core/interactiveshell.py:2718: DtypeWarning: Columns (20,36,76,78,80,84,90,94) have mixed types.Specify dtype option on import or set low_memory=False.\n",
            "  interactivity=interactivity, compiler=compiler, result=result)\n",
            "/usr/local/lib/python3.7/dist-packages/IPython/core/interactiveshell.py:2718: DtypeWarning: Columns (20,28,36,60,61,62,63,64,70,76,80,83,84,86,88,90,92,94,97,98,99,100,101,102,115,116,117,118,119,120,121,122,123,124,128) have mixed types.Specify dtype option on import or set low_memory=False.\n",
            "  interactivity=interactivity, compiler=compiler, result=result)\n",
            "/usr/local/lib/python3.7/dist-packages/IPython/core/interactiveshell.py:2718: DtypeWarning: Columns (20,36,66,74,76,78,80,83,84,90,94,107) have mixed types.Specify dtype option on import or set low_memory=False.\n",
            "  interactivity=interactivity, compiler=compiler, result=result)\n",
            "/usr/local/lib/python3.7/dist-packages/IPython/core/interactiveshell.py:2718: DtypeWarning: Columns (20,28,30,35,58,59,60,61,62,63,65,69,73,75,77,79,82,83,85,87,89,91,93,96,97,98,99,100,101,114,115,116,117,118,119,120,121,122,123) have mixed types.Specify dtype option on import or set low_memory=False.\n",
            "  interactivity=interactivity, compiler=compiler, result=result)\n",
            "/usr/local/lib/python3.7/dist-packages/IPython/core/interactiveshell.py:2718: DtypeWarning: Columns (20,28,35,62,63,65,69,73,75,77,79,82,83,85,87,89,91,93,101,106,121,122,123,130) have mixed types.Specify dtype option on import or set low_memory=False.\n",
            "  interactivity=interactivity, compiler=compiler, result=result)\n",
            "/usr/local/lib/python3.7/dist-packages/IPython/core/interactiveshell.py:2718: DtypeWarning: Columns (20,23,35,62,69,75,79,82,83,85,87,89,91,93,101,106,122,123,127) have mixed types.Specify dtype option on import or set low_memory=False.\n",
            "  interactivity=interactivity, compiler=compiler, result=result)\n",
            "/usr/local/lib/python3.7/dist-packages/IPython/core/interactiveshell.py:2718: DtypeWarning: Columns (20,36,64,66,70,74,76,78,80,83,84,88,90,94,131) have mixed types.Specify dtype option on import or set low_memory=False.\n",
            "  interactivity=interactivity, compiler=compiler, result=result)\n",
            "/usr/local/lib/python3.7/dist-packages/IPython/core/interactiveshell.py:2718: DtypeWarning: Columns (20,35,65,73,75,77,79,82,83,89,93) have mixed types.Specify dtype option on import or set low_memory=False.\n",
            "  interactivity=interactivity, compiler=compiler, result=result)\n",
            "/usr/local/lib/python3.7/dist-packages/IPython/core/interactiveshell.py:2718: DtypeWarning: Columns (20,28,30,35,58,59,60,61,62,63,69,75,77,78,79,82,83,85,87,89,91,93,96,97,98,99,100,101,104,106,114,115,116,117,118,119,120,121,122,123,125,126,129) have mixed types.Specify dtype option on import or set low_memory=False.\n",
            "  interactivity=interactivity, compiler=compiler, result=result)\n"
          ],
          "name": "stderr"
        },
        {
          "output_type": "stream",
          "text": [
            "{'Zip5', 'mCity', 'Primary18Party', 'Primary01', 'Primary19Party', 'mZip5', 'AptNo', 'Home Phone', 'Primary11Party', 'DOB', 'Primary06', 'StreetNo', 'Primary10', 'Primary09', 'Primary20Party', 'Primary16Party', 'PreferredEmail', 'Special12', 'PoliceAccountability', 'Special09', 'CountyName', 'Special18', 'Primary04', 'Special13', 'Primary11', 'StreetNoHalf', 'CommunicationType', 'Voting_Nov_Gen ', 'PresPrimary16Party', 'Zip4.1', 'Primary10Party', 'HD', 'StreetPrefix', 'Sex', 'Special17', 'mAddress', 'VBM_Application', 'Special16', 'Primary17', 'Special02', 'Ballot_Application', 'DWID', 'Special08', 'General98', 'AptType', 'mZip4', 'Primary98', 'Suffix', 'FirstName', 'State.1', '2020_Biden_Support', 'Address', 'General16', 'SD', 'mState', 'Special00', 'General19', 'VotedStatus', 'Special10', 'Primary18', 'LastName', 'General06', 'Preferred Phone', 'Zip5.1', 'General09', 'Municipal13', 'Primary12', 'Special07', 'Party', 'MaritalStatus', 'General00', 'MarijuanaConviction', 'General15', 'Primary15Party', 'PresPrimary08Party', 'Cell Phone', 'PresPrimary16', 'Special98', 'General20', 'PresPrimary20Party', 'CD', 'Mass_Incarceration', 'Special04', 'Special19', 'Special01', 'Special11', 'Voter File VANID', 'Voting_Aug_Prim', 'Primary08', 'Special06', 'Primary17Party', 'Primary14Party', 'StreetType', 'EthnicCatalistName', 'Zip4', 'PresPrimary20', 'State', 'General08', 'General04', 'Special99', 'Special03', 'General18', 'File', 'City.1', 'StateFileID', 'PresPrimary12', 'General02', 'Primary19', 'Primary16', 'PresPrimary08', 'General14', 'DateReg', 'City', 'RaceName', 'General17', 'Primary15', 'PersonalEmail', 'General10', 'MiddleName', 'Primary08Party', 'Primary12Party', 'Age', 'Primary14', 'Special15', 'PresPrimary12Party', 'Primary20', 'StreetSuffix', 'StreetName', 'Absentee_Voting', 'Primary09Party', 'Special20', 'ElectionType', 'General11', 'General12', 'Special05', 'Primary02', 'Primary00'}\n"
          ],
          "name": "stdout"
        }
      ]
    },
    {
      "cell_type": "code",
      "metadata": {
        "id": "8Z5e7ljlFgzE"
      },
      "source": [
        "#Combine Dataframes of the same type\n",
        "dataframesbytypejoined = {}\n",
        "for dfListKey in dataframesbytype.keys():\n",
        "  dataframesbytypejoined[dfListKey] = pd.concat(dataframesbytype[dfListKey])"
      ],
      "execution_count": null,
      "outputs": []
    },
    {
      "cell_type": "code",
      "metadata": {
        "colab": {
          "base_uri": "https://localhost:8080/"
        },
        "id": "K3xL6pFzIC_7",
        "outputId": "762a5511-8f6c-4b80-d7ec-9737ad77cea6"
      },
      "source": [
        "#Free up memory\n",
        "\n",
        "del dataframesbytype\n",
        "gc.collect()"
      ],
      "execution_count": null,
      "outputs": [
        {
          "output_type": "execute_result",
          "data": {
            "text/plain": [
              "50"
            ]
          },
          "metadata": {
            "tags": []
          },
          "execution_count": 7
        }
      ]
    },
    {
      "cell_type": "markdown",
      "metadata": {
        "id": "qiCnwHgQz88x"
      },
      "source": [
        "In the following section we will be pulling out all unique voter information.\n",
        "\n",
        "Please Note: As this data includes real world PII we will be making an effort to never show the data from this dataframe."
      ]
    },
    {
      "cell_type": "code",
      "metadata": {
        "colab": {
          "base_uri": "https://localhost:8080/",
          "height": 411
        },
        "id": "VQ3cj_2PN3Kc",
        "outputId": "14625ca2-bdff-4c62-952c-1267e5afeac1"
      },
      "source": [
        "#It looks like \"Voter File VANID\" is a unique key for each user, so I'm going to pull out any other person information and stick that into another dataframe. This will reduce memory footprint, which will be necessary for the pivot\n",
        "#that's coming up.\n",
        "dataframesbytypejoinedwithoutidvalues = {}\n",
        "\n",
        "id_columns = [\"Voter File VANID\", \"FirstName\", \"MiddleName\", \"LastName\", \"Address\", \"DWID\", 'Zip5', 'Age', 'Primary19', 'MaritalStatus', 'mCity', 'Mass_Incarceration', 'StreetType', 'StreetSuffix',\n",
        "  'mAddress', 'mState', 'mZip5', 'mZip4', 'Sex', 'City', 'State', 'Zip4', 'Suffix', 'CD', 'SD', 'HD', 'PreferredEmail', 'Preferred Phone', 'Cell Phone', 'CountyName', 'DOB', 'DateReg', 'Home Phone', \n",
        "  'EthnicCatalistName', 'Party', 'PersonalEmail', 'RaceName', 'StreetNo', 'StreetNoHalf', 'StreetPrefix', 'StreetName', 'AptType', 'AptNo', 'City.1', 'State.1', 'Zip5.1', 'Zip4.1', \n",
        "  '2020_Biden_Support', 'Voting_Aug_Prim', 'PoliceAccountability', 'VBM_Application', 'VotedStatus', 'MarijuanaConviction', '2020_Biden_Support', 'Absentee_Voting', 'Voting_Nov_Gen']\n",
        "primary_key = [\"Voter File VANID\"]\n",
        "dfVoters = None\n",
        "for dfListKey in dataframesbytypejoined.keys():\n",
        "  df = dataframesbytypejoined[dfListKey]\n",
        "  ColumnsToRemove = list(set(id_columns) - set(primary_key))\n",
        "  if dfVoters is None:\n",
        "    dfVoters = df[id_columns]\n",
        "    dataframesbytypejoinedwithoutidvalues[dfListKey] = df.drop(columns=ColumnsToRemove)\n",
        "    continue\n",
        "  dfVoters.append(df[id_columns])\n",
        "  dataframesbytypejoinedwithoutidvalues[dfListKey] = df.drop(columns=ColumnsToRemove)\n",
        "dfVoters = dfVoters.drop_duplicates()\n",
        "dfVoters = dfVoters.sort_values(by=['FirstName', 'LastName'])"
      ],
      "execution_count": null,
      "outputs": [
        {
          "output_type": "execute_result",
          "data": {
            "text/html": [
              "<div>\n",
              "<style scoped>\n",
              "    .dataframe tbody tr th:only-of-type {\n",
              "        vertical-align: middle;\n",
              "    }\n",
              "\n",
              "    .dataframe tbody tr th {\n",
              "        vertical-align: top;\n",
              "    }\n",
              "\n",
              "    .dataframe thead th {\n",
              "        text-align: right;\n",
              "    }\n",
              "</style>\n",
              "<table border=\"1\" class=\"dataframe\">\n",
              "  <thead>\n",
              "    <tr style=\"text-align: right;\">\n",
              "      <th></th>\n",
              "      <th>Voter File VANID</th>\n",
              "      <th>FirstName</th>\n",
              "      <th>MiddleName</th>\n",
              "      <th>LastName</th>\n",
              "      <th>Address</th>\n",
              "      <th>DWID</th>\n",
              "      <th>Zip5</th>\n",
              "      <th>Age</th>\n",
              "      <th>Primary19</th>\n",
              "      <th>MaritalStatus</th>\n",
              "      <th>mCity</th>\n",
              "      <th>Mass_Incarceration</th>\n",
              "      <th>StreetType</th>\n",
              "      <th>StreetSuffix</th>\n",
              "      <th>mAddress</th>\n",
              "      <th>mState</th>\n",
              "      <th>mZip5</th>\n",
              "      <th>mZip4</th>\n",
              "      <th>Sex</th>\n",
              "      <th>City</th>\n",
              "      <th>State</th>\n",
              "      <th>Zip4</th>\n",
              "      <th>Suffix</th>\n",
              "      <th>CD</th>\n",
              "      <th>SD</th>\n",
              "      <th>HD</th>\n",
              "      <th>PreferredEmail</th>\n",
              "      <th>Preferred Phone</th>\n",
              "      <th>Cell Phone</th>\n",
              "      <th>CountyName</th>\n",
              "      <th>DOB</th>\n",
              "      <th>DateReg</th>\n",
              "      <th>Home Phone</th>\n",
              "      <th>EthnicCatalistName</th>\n",
              "      <th>Party</th>\n",
              "      <th>PersonalEmail</th>\n",
              "      <th>RaceName</th>\n",
              "      <th>StreetNo</th>\n",
              "      <th>StreetNoHalf</th>\n",
              "      <th>StreetPrefix</th>\n",
              "      <th>StreetName</th>\n",
              "      <th>AptType</th>\n",
              "      <th>AptNo</th>\n",
              "      <th>City.1</th>\n",
              "      <th>State.1</th>\n",
              "      <th>Zip5.1</th>\n",
              "      <th>Zip4.1</th>\n",
              "    </tr>\n",
              "  </thead>\n",
              "  <tbody>\n",
              "    <tr>\n",
              "      <th>43680</th>\n",
              "      <td>2724858</td>\n",
              "      <td>A</td>\n",
              "      <td>NaN</td>\n",
              "      <td>Abel</td>\n",
              "      <td>2420 E Provincial House Dr</td>\n",
              "      <td>20054367</td>\n",
              "      <td>48910</td>\n",
              "      <td>61.0</td>\n",
              "      <td>NaN</td>\n",
              "      <td>S</td>\n",
              "      <td>Lansing</td>\n",
              "      <td>NaN</td>\n",
              "      <td>Dr</td>\n",
              "      <td>NaN</td>\n",
              "      <td>2420 E Provincial House Dr</td>\n",
              "      <td>MI</td>\n",
              "      <td>48910.0</td>\n",
              "      <td>4880.0</td>\n",
              "      <td>M</td>\n",
              "      <td>Lansing</td>\n",
              "      <td>MI</td>\n",
              "      <td>4880.0</td>\n",
              "      <td>NaN</td>\n",
              "      <td>8.0</td>\n",
              "      <td>23.0</td>\n",
              "      <td>68.0</td>\n",
              "      <td>NaN</td>\n",
              "      <td>=\"9198050512\"</td>\n",
              "      <td>=\"9198050512\"</td>\n",
              "      <td>Ingham</td>\n",
              "      <td>01/01/1960</td>\n",
              "      <td>04/12/1995</td>\n",
              "      <td>NaN</td>\n",
              "      <td>NaN</td>\n",
              "      <td>U</td>\n",
              "      <td>NaN</td>\n",
              "      <td>Caucasian</td>\n",
              "      <td>2420.0</td>\n",
              "      <td>NaN</td>\n",
              "      <td>E</td>\n",
              "      <td>Provincial House</td>\n",
              "      <td>NaN</td>\n",
              "      <td>NaN</td>\n",
              "      <td>Lansing</td>\n",
              "      <td>MI</td>\n",
              "      <td>=\"48910\"</td>\n",
              "      <td>=\"4880\"</td>\n",
              "    </tr>\n",
              "    <tr>\n",
              "      <th>69072</th>\n",
              "      <td>4238109</td>\n",
              "      <td>A</td>\n",
              "      <td>J</td>\n",
              "      <td>Adams</td>\n",
              "      <td>509 Soule Blvd</td>\n",
              "      <td>21603224</td>\n",
              "      <td>48103</td>\n",
              "      <td>69.0</td>\n",
              "      <td>NaN</td>\n",
              "      <td>M</td>\n",
              "      <td>Ann Arbor</td>\n",
              "      <td>NaN</td>\n",
              "      <td>Blvd</td>\n",
              "      <td>NaN</td>\n",
              "      <td>509 Soule Blvd</td>\n",
              "      <td>MI</td>\n",
              "      <td>48103.0</td>\n",
              "      <td>4682.0</td>\n",
              "      <td>M</td>\n",
              "      <td>Ann Arbor</td>\n",
              "      <td>MI</td>\n",
              "      <td>4682.0</td>\n",
              "      <td>NaN</td>\n",
              "      <td>12.0</td>\n",
              "      <td>18.0</td>\n",
              "      <td>53.0</td>\n",
              "      <td>NaN</td>\n",
              "      <td>=\"7349459531\"</td>\n",
              "      <td>=\"7349459531\"</td>\n",
              "      <td>Washtenaw</td>\n",
              "      <td>09/10/1951</td>\n",
              "      <td>10/12/1982</td>\n",
              "      <td>=\"7346655529\"</td>\n",
              "      <td>Uncoded</td>\n",
              "      <td>U</td>\n",
              "      <td>NaN</td>\n",
              "      <td>Caucasian</td>\n",
              "      <td>509.0</td>\n",
              "      <td>NaN</td>\n",
              "      <td>NaN</td>\n",
              "      <td>Soule</td>\n",
              "      <td>NaN</td>\n",
              "      <td>NaN</td>\n",
              "      <td>Ann Arbor</td>\n",
              "      <td>MI</td>\n",
              "      <td>=\"48103\"</td>\n",
              "      <td>=\"4682\"</td>\n",
              "    </tr>\n",
              "    <tr>\n",
              "      <th>202934</th>\n",
              "      <td>17182356</td>\n",
              "      <td>A</td>\n",
              "      <td>Jay</td>\n",
              "      <td>Anthony</td>\n",
              "      <td>1522 10th Ave Apt 8</td>\n",
              "      <td>926117401</td>\n",
              "      <td>48060</td>\n",
              "      <td>39.0</td>\n",
              "      <td>NaN</td>\n",
              "      <td>NaN</td>\n",
              "      <td>Port Huron</td>\n",
              "      <td>NaN</td>\n",
              "      <td>Ave</td>\n",
              "      <td>NaN</td>\n",
              "      <td>1522 10th Ave Apt 8</td>\n",
              "      <td>MI</td>\n",
              "      <td>48060.0</td>\n",
              "      <td>3366.0</td>\n",
              "      <td>M</td>\n",
              "      <td>Port Huron</td>\n",
              "      <td>MI</td>\n",
              "      <td>3366.0</td>\n",
              "      <td>NaN</td>\n",
              "      <td>10.0</td>\n",
              "      <td>25.0</td>\n",
              "      <td>83.0</td>\n",
              "      <td>NaN</td>\n",
              "      <td>=\"8106628784\"</td>\n",
              "      <td>=\"8106628784\"</td>\n",
              "      <td>St. Clair</td>\n",
              "      <td>01/01/1982</td>\n",
              "      <td>05/22/2015</td>\n",
              "      <td>NaN</td>\n",
              "      <td>NaN</td>\n",
              "      <td>U</td>\n",
              "      <td>NaN</td>\n",
              "      <td>Caucasian</td>\n",
              "      <td>1522.0</td>\n",
              "      <td>NaN</td>\n",
              "      <td>NaN</td>\n",
              "      <td>10th</td>\n",
              "      <td>Apt</td>\n",
              "      <td>8</td>\n",
              "      <td>Port Huron</td>\n",
              "      <td>MI</td>\n",
              "      <td>=\"48060\"</td>\n",
              "      <td>=\"3366\"</td>\n",
              "    </tr>\n",
              "    <tr>\n",
              "      <th>99402</th>\n",
              "      <td>18856761</td>\n",
              "      <td>A</td>\n",
              "      <td>Spencer</td>\n",
              "      <td>Barefield</td>\n",
              "      <td>19550 Argyle Cres</td>\n",
              "      <td>17462192</td>\n",
              "      <td>48203</td>\n",
              "      <td>68.0</td>\n",
              "      <td>NaN</td>\n",
              "      <td>NaN</td>\n",
              "      <td>Detroit</td>\n",
              "      <td>NaN</td>\n",
              "      <td>Cres</td>\n",
              "      <td>NaN</td>\n",
              "      <td>19550 Argyle Cres</td>\n",
              "      <td>MI</td>\n",
              "      <td>48203.0</td>\n",
              "      <td>1400.0</td>\n",
              "      <td>M</td>\n",
              "      <td>Detroit</td>\n",
              "      <td>MI</td>\n",
              "      <td>1400.0</td>\n",
              "      <td>NaN</td>\n",
              "      <td>14.0</td>\n",
              "      <td>4.0</td>\n",
              "      <td>3.0</td>\n",
              "      <td>NaN</td>\n",
              "      <td>NaN</td>\n",
              "      <td>NaN</td>\n",
              "      <td>Wayne</td>\n",
              "      <td>01/01/1953</td>\n",
              "      <td>10/09/2001</td>\n",
              "      <td>NaN</td>\n",
              "      <td>Uncoded</td>\n",
              "      <td>NaN</td>\n",
              "      <td>NaN</td>\n",
              "      <td>Black</td>\n",
              "      <td>19550.0</td>\n",
              "      <td>NaN</td>\n",
              "      <td>NaN</td>\n",
              "      <td>Argyle</td>\n",
              "      <td>NaN</td>\n",
              "      <td>NaN</td>\n",
              "      <td>Detroit</td>\n",
              "      <td>MI</td>\n",
              "      <td>=\"48203\"</td>\n",
              "      <td>=\"1400\"</td>\n",
              "    </tr>\n",
              "    <tr>\n",
              "      <th>162186</th>\n",
              "      <td>13750168</td>\n",
              "      <td>A</td>\n",
              "      <td>J</td>\n",
              "      <td>Campbell</td>\n",
              "      <td>13590 Garfield</td>\n",
              "      <td>401521472</td>\n",
              "      <td>48239</td>\n",
              "      <td>60.0</td>\n",
              "      <td>NaN</td>\n",
              "      <td>S</td>\n",
              "      <td>Redford</td>\n",
              "      <td>NaN</td>\n",
              "      <td>NaN</td>\n",
              "      <td>NaN</td>\n",
              "      <td>13590 Garfield</td>\n",
              "      <td>MI</td>\n",
              "      <td>48239.0</td>\n",
              "      <td>4513.0</td>\n",
              "      <td>M</td>\n",
              "      <td>Redford</td>\n",
              "      <td>MI</td>\n",
              "      <td>4513.0</td>\n",
              "      <td>NaN</td>\n",
              "      <td>13.0</td>\n",
              "      <td>5.0</td>\n",
              "      <td>10.0</td>\n",
              "      <td>NaN</td>\n",
              "      <td>=\"3134245741\"</td>\n",
              "      <td>=\"3134245741\"</td>\n",
              "      <td>Wayne</td>\n",
              "      <td>01/01/1961</td>\n",
              "      <td>04/07/2009</td>\n",
              "      <td>=\"3135377650\"</td>\n",
              "      <td>NaN</td>\n",
              "      <td>U</td>\n",
              "      <td>NaN</td>\n",
              "      <td>Caucasian</td>\n",
              "      <td>13590.0</td>\n",
              "      <td>NaN</td>\n",
              "      <td>NaN</td>\n",
              "      <td>Garfield</td>\n",
              "      <td>NaN</td>\n",
              "      <td>NaN</td>\n",
              "      <td>Redford</td>\n",
              "      <td>MI</td>\n",
              "      <td>=\"48239\"</td>\n",
              "      <td>=\"4513\"</td>\n",
              "    </tr>\n",
              "  </tbody>\n",
              "</table>\n",
              "</div>"
            ],
            "text/plain": [
              "        Voter File VANID FirstName MiddleName  ... State.1    Zip5.1   Zip4.1\n",
              "43680            2724858         A        NaN  ...      MI  =\"48910\"  =\"4880\"\n",
              "69072            4238109         A          J  ...      MI  =\"48103\"  =\"4682\"\n",
              "202934          17182356         A        Jay  ...      MI  =\"48060\"  =\"3366\"\n",
              "99402           18856761         A    Spencer  ...      MI  =\"48203\"  =\"1400\"\n",
              "162186          13750168         A          J  ...      MI  =\"48239\"  =\"4513\"\n",
              "\n",
              "[5 rows x 47 columns]"
            ]
          },
          "metadata": {
            "tags": []
          },
          "execution_count": 8
        }
      ]
    },
    {
      "cell_type": "code",
      "metadata": {
        "colab": {
          "base_uri": "https://localhost:8080/"
        },
        "id": "fhvMQ0l1pQId",
        "outputId": "2c76dbec-a45f-4553-b394-c32d46fe26d6"
      },
      "source": [
        "dfVoters.reset_index(inplace=True)\n",
        "dfVoters.to_csv(WorkingFiles + \"dfVoters.csv\", encoding='utf-8')\n",
        "\n",
        "del dfVoters\n",
        "gc.collect()"
      ],
      "execution_count": null,
      "outputs": [
        {
          "output_type": "execute_result",
          "data": {
            "text/plain": [
              "<function gc.collect>"
            ]
          },
          "metadata": {
            "tags": []
          },
          "execution_count": 11
        }
      ]
    },
    {
      "cell_type": "code",
      "metadata": {
        "colab": {
          "base_uri": "https://localhost:8080/"
        },
        "id": "m2m5ZpEUvBPt",
        "outputId": "4966155c-6c81-49b4-9438-a3b352589f49"
      },
      "source": [
        "del dataframesbytypejoined\n",
        "gc.collect()"
      ],
      "execution_count": null,
      "outputs": [
        {
          "output_type": "execute_result",
          "data": {
            "text/plain": [
              "50"
            ]
          },
          "metadata": {
            "tags": []
          },
          "execution_count": 9
        }
      ]
    },
    {
      "cell_type": "code",
      "metadata": {
        "id": "VQAnfb0TZbwA",
        "colab": {
          "base_uri": "https://localhost:8080/"
        },
        "outputId": "ef094311-1e0d-4b9c-9da3-d6e0325b6004"
      },
      "source": [
        "dfMerged = pd.concat(dataframesbytypejoinedwithoutidvalues.values())\n",
        "\n",
        "del dataframesbytypejoinedwithoutidvalues\n",
        "gc.collect()"
      ],
      "execution_count": null,
      "outputs": [
        {
          "output_type": "execute_result",
          "data": {
            "text/plain": [
              "0"
            ]
          },
          "metadata": {
            "tags": []
          },
          "execution_count": 13
        }
      ]
    },
    {
      "cell_type": "code",
      "metadata": {
        "id": "9i6RSIPlmAky"
      },
      "source": [
        "#Pull out the file information, this indicates which outreach efforts they were included in.\n",
        "dfOutreach = dfMerged[[\"Voter File VANID\", \"ElectionType\", \"CommunicationType\", \"File\"]]\n",
        "dfOutreach.reset_index(inplace=True)\n",
        "dfOutreach.to_csv(WorkingFiles + \"dfOutreach.csv\", encoding='utf-8')\n",
        "\n",
        "del dfOutreach\n",
        "gc.collect()\n",
        "\n",
        "dfMerged = dfMerged.drop(columns=[\"ElectionType\", \"CommunicationType\", \"File\"])"
      ],
      "execution_count": null,
      "outputs": []
    },
    {
      "cell_type": "code",
      "metadata": {
        "id": "COvfuZlkh7NE",
        "colab": {
          "base_uri": "https://localhost:8080/"
        },
        "outputId": "039136c6-f097-46e4-9b6e-07c63b0bad0b"
      },
      "source": [
        "print(dfMerged.columns)"
      ],
      "execution_count": null,
      "outputs": [
        {
          "output_type": "stream",
          "text": [
            "Index(['Voter File VANID', 'StateFileID', 'General20', 'General19',\n",
            "       'General18', 'General17', 'General16', 'General15', 'General14',\n",
            "       'General12', 'General11', 'General10', 'General09', 'General08',\n",
            "       'General06', 'General04', 'General02', 'General00', 'General98',\n",
            "       'Municipal13', 'PresPrimary20', 'PresPrimary20Party', 'PresPrimary16',\n",
            "       'PresPrimary16Party', 'PresPrimary12', 'PresPrimary12Party',\n",
            "       'PresPrimary08', 'PresPrimary08Party', 'Primary20', 'Primary20Party',\n",
            "       'Primary19Party', 'Primary18', 'Primary18Party', 'Primary17',\n",
            "       'Primary17Party', 'Primary16', 'Primary16Party', 'Primary15',\n",
            "       'Primary15Party', 'Primary14', 'Primary14Party', 'Primary12',\n",
            "       'Primary12Party', 'Primary11', 'Primary11Party', 'Primary10',\n",
            "       'Primary10Party', 'Primary09', 'Primary09Party', 'Primary08',\n",
            "       'Primary08Party', 'Primary06', 'Primary04', 'Primary02', 'Primary01',\n",
            "       'Primary00', 'Primary98', 'Special20', 'Special19', 'Special18',\n",
            "       'Special17', 'Special16', 'Special15', 'Special13', 'Special12',\n",
            "       'Special11', 'Special10', 'Special09', 'Special08', 'Special07',\n",
            "       'Special06', 'Special05', 'Special04', 'Special03', 'Special02',\n",
            "       'Special01', 'Special00', 'Special99', 'Special98',\n",
            "       '2020_Biden_Support', 'MarijuanaConviction', 'PoliceAccountability',\n",
            "       'Absentee_Voting', 'Ballot_Application', 'VBM_Application',\n",
            "       'Voting_Aug_Prim', 'Voting_Nov_Gen ', 'VotedStatus'],\n",
            "      dtype='object')\n"
          ],
          "name": "stdout"
        }
      ]
    },
    {
      "cell_type": "code",
      "metadata": {
        "id": "VqjplMN45GTs"
      },
      "source": [
        "\n",
        "dfMerged.reset_index(inplace=True)\n"
      ],
      "execution_count": null,
      "outputs": []
    },
    {
      "cell_type": "markdown",
      "metadata": {
        "id": "Gzw0qLJbao0O"
      },
      "source": [
        "Finally, we will save the data to disk for use by the next Jupyter notebook.\n",
        "\n",
        "[Merge Data](https://colab.research.google.com/drive/1epgGr9YFq1l3BMvDLApkWXnZ9TjCcJCo?usp=sharing)"
      ]
    },
    {
      "cell_type": "code",
      "metadata": {
        "id": "mxcryyg6w3Ka"
      },
      "source": [
        "\n",
        "dfMerged.to_csv(WorkingFiles + \"dfMerged.csv\", encoding='utf-8')\n"
      ],
      "execution_count": null,
      "outputs": []
    }
  ]
}