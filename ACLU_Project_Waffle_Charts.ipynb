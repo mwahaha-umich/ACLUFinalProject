{
  "nbformat": 4,
  "nbformat_minor": 0,
  "metadata": {
    "colab": {
      "name": "ACLU_Project_Waffle_Charts.ipynb",
      "provenance": [],
      "authorship_tag": "ABX9TyOWCoiOeNp4tr+J/HvfAwBg",
      "include_colab_link": true
    },
    "kernelspec": {
      "name": "python3",
      "display_name": "Python 3"
    },
    "language_info": {
      "name": "python"
    }
  },
  "cells": [
    {
      "cell_type": "markdown",
      "metadata": {
        "id": "view-in-github",
        "colab_type": "text"
      },
      "source": [
        "<a href=\"https://colab.research.google.com/github/mwahaha-umich/ACLUFinalProject/blob/main/ACLU_Project_Waffle_Charts.ipynb\" target=\"_parent\"><img src=\"https://colab.research.google.com/assets/colab-badge.svg\" alt=\"Open In Colab\"/></a>"
      ]
    },
    {
      "cell_type": "code",
      "metadata": {
        "id": "PCnBgXokhnm9",
        "colab": {
          "base_uri": "https://localhost:8080/"
        },
        "outputId": "d7a2a4ca-c3e2-4a6b-b07d-6dbf8b458787"
      },
      "source": [
        "from google.colab import drive\n",
        "drive.mount('/content/drive', force_remount=True)"
      ],
      "execution_count": null,
      "outputs": [
        {
          "output_type": "stream",
          "text": [
            "Mounted at /content/drive\n"
          ],
          "name": "stdout"
        }
      ]
    },
    {
      "cell_type": "code",
      "metadata": {
        "id": "b9KmXWoshpZs"
      },
      "source": [
        "import os\n",
        "from os import listdir\n",
        "from os.path import isfile, join\n",
        "from pathlib import Path\n",
        "import requests\n",
        "\n",
        "if 'google.colab' in str(get_ipython()):\n",
        "  #We keep changing the different paths, so I'm going to check if various configurations exist.\n",
        "  if (os.path.isdir(\"/content/drive/MyDrive/Shared with me/content/drive/My Drive/Shared with me/ACLU/\")):\n",
        "    GoogleDriveBase = \"/content/drive/MyDrive/Shared with me/content/drive/My Drive/Shared with me/\" #Anupriya\n",
        "    WorkingDirectory = GoogleDriveBase + 'ACLU/' #Anupriya\n",
        "  elif (os.path.isdir(\"/content/drive/MyDrive/Projects/ACLU\")):\n",
        "    GoogleDriveBase = \"/content/drive/MyDrive/\" #Mackenzie\n",
        "    WorkingDirectory = GoogleDriveBase + \"Projects/ACLU/\" #Mackenzie\n",
        "  else:  \n",
        "    if (os.path.isdir(\"/content/drive/My Drive/Projects/ACLU/\")):\n",
        "      GoogleDriveBase = \"/content/drive/My Drive/\" #Kyle\n",
        "      WorkingDirectory = GoogleDriveBase + \"Projects/ACLU/\" #Kyle\n",
        "else: # We're not running in Google Colab, which means we're probably running locally. \n",
        "  #Put code here for local copies of the files\n",
        "  GoogleDriveBase = \"\" \n",
        "  WorkingDirectory = GoogleDriveBase + \"\" \n",
        "\n",
        "\n",
        "WorkingFiles = WorkingDirectory + 'WorkingFiles/'\n",
        "BasePickeDrive = GoogleDriveBase + WorkingDirectory + \"Pickle/\"\n",
        "\n",
        "\n",
        "#Make the necessary folders for the script to run.\n",
        "ListOfAllRequiredDirectories = [WorkingDirectory + 'Pickle', \n",
        "                          WorkingDirectory + 'WorkingFiles',\n",
        "                          WorkingDirectory + 'AdditionalData',\n",
        "                          WorkingDirectory + 'ACLUData']\n",
        "\n",
        "for folder in ListOfAllRequiredDirectories:\n",
        "  RunningPath = GoogleDriveBase + folder + \"/\"\n",
        "  Path(RunningPath).mkdir(parents=True, exist_ok=True)"
      ],
      "execution_count": null,
      "outputs": []
    },
    {
      "cell_type": "code",
      "metadata": {
        "colab": {
          "base_uri": "https://localhost:8080/"
        },
        "id": "SxoeEEr_5mlI",
        "outputId": "3242bfbd-20b8-4dd3-d71e-a9fc3500860d"
      },
      "source": [
        "import pandas as pd\n",
        "import numpy as np\n",
        "import matplotlib.pyplot as plt\n",
        "!pip install pywaffle\n",
        "from pywaffle import Waffle"
      ],
      "execution_count": null,
      "outputs": [
        {
          "output_type": "stream",
          "text": [
            "Collecting pywaffle\n",
            "  Downloading pywaffle-0.6.3-py2.py3-none-any.whl (526 kB)\n",
            "\u001b[?25l\r\u001b[K     |▋                               | 10 kB 24.1 MB/s eta 0:00:01\r\u001b[K     |█▎                              | 20 kB 27.2 MB/s eta 0:00:01\r\u001b[K     |█▉                              | 30 kB 30.9 MB/s eta 0:00:01\r\u001b[K     |██▌                             | 40 kB 32.7 MB/s eta 0:00:01\r\u001b[K     |███                             | 51 kB 33.4 MB/s eta 0:00:01\r\u001b[K     |███▊                            | 61 kB 34.0 MB/s eta 0:00:01\r\u001b[K     |████▍                           | 71 kB 33.8 MB/s eta 0:00:01\r\u001b[K     |█████                           | 81 kB 34.4 MB/s eta 0:00:01\r\u001b[K     |█████▋                          | 92 kB 35.2 MB/s eta 0:00:01\r\u001b[K     |██████▏                         | 102 kB 35.8 MB/s eta 0:00:01\r\u001b[K     |██████▉                         | 112 kB 35.8 MB/s eta 0:00:01\r\u001b[K     |███████▌                        | 122 kB 35.8 MB/s eta 0:00:01\r\u001b[K     |████████                        | 133 kB 35.8 MB/s eta 0:00:01\r\u001b[K     |████████▊                       | 143 kB 35.8 MB/s eta 0:00:01\r\u001b[K     |█████████▎                      | 153 kB 35.8 MB/s eta 0:00:01\r\u001b[K     |██████████                      | 163 kB 35.8 MB/s eta 0:00:01\r\u001b[K     |██████████▋                     | 174 kB 35.8 MB/s eta 0:00:01\r\u001b[K     |███████████▏                    | 184 kB 35.8 MB/s eta 0:00:01\r\u001b[K     |███████████▉                    | 194 kB 35.8 MB/s eta 0:00:01\r\u001b[K     |████████████▍                   | 204 kB 35.8 MB/s eta 0:00:01\r\u001b[K     |█████████████                   | 215 kB 35.8 MB/s eta 0:00:01\r\u001b[K     |█████████████▊                  | 225 kB 35.8 MB/s eta 0:00:01\r\u001b[K     |██████████████▎                 | 235 kB 35.8 MB/s eta 0:00:01\r\u001b[K     |███████████████                 | 245 kB 35.8 MB/s eta 0:00:01\r\u001b[K     |███████████████▌                | 256 kB 35.8 MB/s eta 0:00:01\r\u001b[K     |████████████████▏               | 266 kB 35.8 MB/s eta 0:00:01\r\u001b[K     |████████████████▉               | 276 kB 35.8 MB/s eta 0:00:01\r\u001b[K     |█████████████████▍              | 286 kB 35.8 MB/s eta 0:00:01\r\u001b[K     |██████████████████              | 296 kB 35.8 MB/s eta 0:00:01\r\u001b[K     |██████████████████▋             | 307 kB 35.8 MB/s eta 0:00:01\r\u001b[K     |███████████████████▎            | 317 kB 35.8 MB/s eta 0:00:01\r\u001b[K     |████████████████████            | 327 kB 35.8 MB/s eta 0:00:01\r\u001b[K     |████████████████████▌           | 337 kB 35.8 MB/s eta 0:00:01\r\u001b[K     |█████████████████████▏          | 348 kB 35.8 MB/s eta 0:00:01\r\u001b[K     |█████████████████████▊          | 358 kB 35.8 MB/s eta 0:00:01\r\u001b[K     |██████████████████████▍         | 368 kB 35.8 MB/s eta 0:00:01\r\u001b[K     |███████████████████████         | 378 kB 35.8 MB/s eta 0:00:01\r\u001b[K     |███████████████████████▋        | 389 kB 35.8 MB/s eta 0:00:01\r\u001b[K     |████████████████████████▎       | 399 kB 35.8 MB/s eta 0:00:01\r\u001b[K     |████████████████████████▉       | 409 kB 35.8 MB/s eta 0:00:01\r\u001b[K     |█████████████████████████▌      | 419 kB 35.8 MB/s eta 0:00:01\r\u001b[K     |██████████████████████████▏     | 430 kB 35.8 MB/s eta 0:00:01\r\u001b[K     |██████████████████████████▊     | 440 kB 35.8 MB/s eta 0:00:01\r\u001b[K     |███████████████████████████▍    | 450 kB 35.8 MB/s eta 0:00:01\r\u001b[K     |████████████████████████████    | 460 kB 35.8 MB/s eta 0:00:01\r\u001b[K     |████████████████████████████▋   | 471 kB 35.8 MB/s eta 0:00:01\r\u001b[K     |█████████████████████████████▎  | 481 kB 35.8 MB/s eta 0:00:01\r\u001b[K     |█████████████████████████████▉  | 491 kB 35.8 MB/s eta 0:00:01\r\u001b[K     |██████████████████████████████▌ | 501 kB 35.8 MB/s eta 0:00:01\r\u001b[K     |███████████████████████████████ | 512 kB 35.8 MB/s eta 0:00:01\r\u001b[K     |███████████████████████████████▊| 522 kB 35.8 MB/s eta 0:00:01\r\u001b[K     |████████████████████████████████| 526 kB 35.8 MB/s \n",
            "\u001b[?25hRequirement already satisfied: matplotlib in /usr/local/lib/python3.7/dist-packages (from pywaffle) (3.2.2)\n",
            "Requirement already satisfied: pyparsing!=2.0.4,!=2.1.2,!=2.1.6,>=2.0.1 in /usr/local/lib/python3.7/dist-packages (from matplotlib->pywaffle) (2.4.7)\n",
            "Requirement already satisfied: python-dateutil>=2.1 in /usr/local/lib/python3.7/dist-packages (from matplotlib->pywaffle) (2.8.2)\n",
            "Requirement already satisfied: numpy>=1.11 in /usr/local/lib/python3.7/dist-packages (from matplotlib->pywaffle) (1.19.5)\n",
            "Requirement already satisfied: kiwisolver>=1.0.1 in /usr/local/lib/python3.7/dist-packages (from matplotlib->pywaffle) (1.3.1)\n",
            "Requirement already satisfied: cycler>=0.10 in /usr/local/lib/python3.7/dist-packages (from matplotlib->pywaffle) (0.10.0)\n",
            "Requirement already satisfied: six in /usr/local/lib/python3.7/dist-packages (from cycler>=0.10->matplotlib->pywaffle) (1.15.0)\n",
            "Installing collected packages: pywaffle\n",
            "Successfully installed pywaffle-0.6.3\n"
          ],
          "name": "stdout"
        }
      ]
    },
    {
      "cell_type": "code",
      "metadata": {
        "colab": {
          "base_uri": "https://localhost:8080/",
          "height": 204
        },
        "id": "5t0sbOEQddE7",
        "outputId": "3b1b6023-6d47-4957-d20e-e70f20501992"
      },
      "source": [
        "dfWaffle = pd.read_csv(WorkingFiles + \"waffle_df.csv\")\n",
        "dfWaffle['CampaignType'] = dfWaffle['CampaignType'].replace({'oakland': 'ocp', \n",
        "                                                           'oakland prosecutor': 'ocp', \n",
        "                                                           'oakland county prosecutor race': 'ocp'})\n",
        "dfWaffle['CommunicationType'] = dfWaffle['CommunicationType'].replace({'phone': 'call'})\n",
        "\n",
        "dfWaffle.head()\n",
        "campaigns = dfWaffle[['CampaignType','CommunicationType','NoVote','Primary','General','VoteBoth']]\n",
        "campaigns.head()"
      ],
      "execution_count": null,
      "outputs": [
        {
          "output_type": "execute_result",
          "data": {
            "text/html": [
              "<div>\n",
              "<style scoped>\n",
              "    .dataframe tbody tr th:only-of-type {\n",
              "        vertical-align: middle;\n",
              "    }\n",
              "\n",
              "    .dataframe tbody tr th {\n",
              "        vertical-align: top;\n",
              "    }\n",
              "\n",
              "    .dataframe thead th {\n",
              "        text-align: right;\n",
              "    }\n",
              "</style>\n",
              "<table border=\"1\" class=\"dataframe\">\n",
              "  <thead>\n",
              "    <tr style=\"text-align: right;\">\n",
              "      <th></th>\n",
              "      <th>CampaignType</th>\n",
              "      <th>CommunicationType</th>\n",
              "      <th>NoVote</th>\n",
              "      <th>Primary</th>\n",
              "      <th>General</th>\n",
              "      <th>VoteBoth</th>\n",
              "    </tr>\n",
              "  </thead>\n",
              "  <tbody>\n",
              "    <tr>\n",
              "      <th>0</th>\n",
              "      <td>scomi</td>\n",
              "      <td>text</td>\n",
              "      <td>40</td>\n",
              "      <td>9</td>\n",
              "      <td>65</td>\n",
              "      <td>82</td>\n",
              "    </tr>\n",
              "    <tr>\n",
              "      <th>1</th>\n",
              "      <td>scomi</td>\n",
              "      <td>text</td>\n",
              "      <td>6</td>\n",
              "      <td>0</td>\n",
              "      <td>13</td>\n",
              "      <td>17</td>\n",
              "    </tr>\n",
              "    <tr>\n",
              "      <th>2</th>\n",
              "      <td>scomi</td>\n",
              "      <td>text</td>\n",
              "      <td>1</td>\n",
              "      <td>0</td>\n",
              "      <td>1</td>\n",
              "      <td>5</td>\n",
              "    </tr>\n",
              "    <tr>\n",
              "      <th>3</th>\n",
              "      <td>scomi</td>\n",
              "      <td>text</td>\n",
              "      <td>0</td>\n",
              "      <td>0</td>\n",
              "      <td>1</td>\n",
              "      <td>0</td>\n",
              "    </tr>\n",
              "    <tr>\n",
              "      <th>4</th>\n",
              "      <td>scomi</td>\n",
              "      <td>text</td>\n",
              "      <td>1</td>\n",
              "      <td>0</td>\n",
              "      <td>2</td>\n",
              "      <td>6</td>\n",
              "    </tr>\n",
              "  </tbody>\n",
              "</table>\n",
              "</div>"
            ],
            "text/plain": [
              "  CampaignType CommunicationType  NoVote  Primary  General  VoteBoth\n",
              "0        scomi              text      40        9       65        82\n",
              "1        scomi              text       6        0       13        17\n",
              "2        scomi              text       1        0        1         5\n",
              "3        scomi              text       0        0        1         0\n",
              "4        scomi              text       1        0        2         6"
            ]
          },
          "metadata": {},
          "execution_count": 129
        }
      ]
    },
    {
      "cell_type": "code",
      "metadata": {
        "id": "JPQVM_7Tmx-X",
        "colab": {
          "base_uri": "https://localhost:8080/",
          "height": 204
        },
        "outputId": "dadafeff-0fbc-4615-fc7e-b8c7df0fabff"
      },
      "source": [
        "waffle_counts = campaigns.groupby(['CampaignType', 'CommunicationType']).sum()\n",
        "waffle_counts['Total'] = waffle_counts.sum(axis=1)\n",
        "waffle_counts = waffle_counts.reset_index()\n",
        "waffle_counts.head()"
      ],
      "execution_count": null,
      "outputs": [
        {
          "output_type": "execute_result",
          "data": {
            "text/html": [
              "<div>\n",
              "<style scoped>\n",
              "    .dataframe tbody tr th:only-of-type {\n",
              "        vertical-align: middle;\n",
              "    }\n",
              "\n",
              "    .dataframe tbody tr th {\n",
              "        vertical-align: top;\n",
              "    }\n",
              "\n",
              "    .dataframe thead th {\n",
              "        text-align: right;\n",
              "    }\n",
              "</style>\n",
              "<table border=\"1\" class=\"dataframe\">\n",
              "  <thead>\n",
              "    <tr style=\"text-align: right;\">\n",
              "      <th></th>\n",
              "      <th>CampaignType</th>\n",
              "      <th>CommunicationType</th>\n",
              "      <th>NoVote</th>\n",
              "      <th>Primary</th>\n",
              "      <th>General</th>\n",
              "      <th>VoteBoth</th>\n",
              "      <th>Total</th>\n",
              "    </tr>\n",
              "  </thead>\n",
              "  <tbody>\n",
              "    <tr>\n",
              "      <th>0</th>\n",
              "      <td>lpv</td>\n",
              "      <td>call</td>\n",
              "      <td>64266</td>\n",
              "      <td>7204</td>\n",
              "      <td>126402</td>\n",
              "      <td>103167</td>\n",
              "      <td>301039</td>\n",
              "    </tr>\n",
              "    <tr>\n",
              "      <th>1</th>\n",
              "      <td>lpv</td>\n",
              "      <td>mail</td>\n",
              "      <td>97055</td>\n",
              "      <td>6336</td>\n",
              "      <td>129980</td>\n",
              "      <td>116270</td>\n",
              "      <td>349641</td>\n",
              "    </tr>\n",
              "    <tr>\n",
              "      <th>2</th>\n",
              "      <td>lpv</td>\n",
              "      <td>postcards</td>\n",
              "      <td>4627</td>\n",
              "      <td>65</td>\n",
              "      <td>6762</td>\n",
              "      <td>3553</td>\n",
              "      <td>15007</td>\n",
              "    </tr>\n",
              "    <tr>\n",
              "      <th>3</th>\n",
              "      <td>lpv</td>\n",
              "      <td>text</td>\n",
              "      <td>524694</td>\n",
              "      <td>21204</td>\n",
              "      <td>593347</td>\n",
              "      <td>500427</td>\n",
              "      <td>1639672</td>\n",
              "    </tr>\n",
              "    <tr>\n",
              "      <th>4</th>\n",
              "      <td>ocp</td>\n",
              "      <td>call</td>\n",
              "      <td>1036</td>\n",
              "      <td>355</td>\n",
              "      <td>7741</td>\n",
              "      <td>64580</td>\n",
              "      <td>73712</td>\n",
              "    </tr>\n",
              "  </tbody>\n",
              "</table>\n",
              "</div>"
            ],
            "text/plain": [
              "  CampaignType CommunicationType  NoVote  Primary  General  VoteBoth    Total\n",
              "0          lpv              call   64266     7204   126402    103167   301039\n",
              "1          lpv              mail   97055     6336   129980    116270   349641\n",
              "2          lpv         postcards    4627       65     6762      3553    15007\n",
              "3          lpv              text  524694    21204   593347    500427  1639672\n",
              "4          ocp              call    1036      355     7741     64580    73712"
            ]
          },
          "metadata": {},
          "execution_count": 130
        }
      ]
    },
    {
      "cell_type": "code",
      "metadata": {
        "colab": {
          "base_uri": "https://localhost:8080/",
          "height": 297
        },
        "id": "euruIY1N8OZT",
        "outputId": "0b3bca99-53ed-4dbc-c679-f7275fce9066"
      },
      "source": [
        "waffle_counts['NoVote'] = round((waffle_counts['NoVote'] / waffle_counts['Total'])*100)\n",
        "waffle_counts['Primary'] = round((waffle_counts['Primary'] / waffle_counts['Total'])*100)\n",
        "waffle_counts['General'] = round((waffle_counts['General'] / waffle_counts['Total'])*100)\n",
        "waffle_counts['VoteBoth'] = round((waffle_counts['VoteBoth'] / waffle_counts['Total'])*100)\n",
        "waffle_counts"
      ],
      "execution_count": null,
      "outputs": [
        {
          "output_type": "execute_result",
          "data": {
            "text/html": [
              "<div>\n",
              "<style scoped>\n",
              "    .dataframe tbody tr th:only-of-type {\n",
              "        vertical-align: middle;\n",
              "    }\n",
              "\n",
              "    .dataframe tbody tr th {\n",
              "        vertical-align: top;\n",
              "    }\n",
              "\n",
              "    .dataframe thead th {\n",
              "        text-align: right;\n",
              "    }\n",
              "</style>\n",
              "<table border=\"1\" class=\"dataframe\">\n",
              "  <thead>\n",
              "    <tr style=\"text-align: right;\">\n",
              "      <th></th>\n",
              "      <th>CampaignType</th>\n",
              "      <th>CommunicationType</th>\n",
              "      <th>NoVote</th>\n",
              "      <th>Primary</th>\n",
              "      <th>General</th>\n",
              "      <th>VoteBoth</th>\n",
              "      <th>Total</th>\n",
              "    </tr>\n",
              "  </thead>\n",
              "  <tbody>\n",
              "    <tr>\n",
              "      <th>0</th>\n",
              "      <td>lpv</td>\n",
              "      <td>call</td>\n",
              "      <td>21.0</td>\n",
              "      <td>2.0</td>\n",
              "      <td>42.0</td>\n",
              "      <td>34.0</td>\n",
              "      <td>301039</td>\n",
              "    </tr>\n",
              "    <tr>\n",
              "      <th>1</th>\n",
              "      <td>lpv</td>\n",
              "      <td>mail</td>\n",
              "      <td>28.0</td>\n",
              "      <td>2.0</td>\n",
              "      <td>37.0</td>\n",
              "      <td>33.0</td>\n",
              "      <td>349641</td>\n",
              "    </tr>\n",
              "    <tr>\n",
              "      <th>2</th>\n",
              "      <td>lpv</td>\n",
              "      <td>postcards</td>\n",
              "      <td>31.0</td>\n",
              "      <td>0.0</td>\n",
              "      <td>45.0</td>\n",
              "      <td>24.0</td>\n",
              "      <td>15007</td>\n",
              "    </tr>\n",
              "    <tr>\n",
              "      <th>3</th>\n",
              "      <td>lpv</td>\n",
              "      <td>text</td>\n",
              "      <td>32.0</td>\n",
              "      <td>1.0</td>\n",
              "      <td>36.0</td>\n",
              "      <td>31.0</td>\n",
              "      <td>1639672</td>\n",
              "    </tr>\n",
              "    <tr>\n",
              "      <th>4</th>\n",
              "      <td>ocp</td>\n",
              "      <td>call</td>\n",
              "      <td>1.0</td>\n",
              "      <td>0.0</td>\n",
              "      <td>11.0</td>\n",
              "      <td>88.0</td>\n",
              "      <td>73712</td>\n",
              "    </tr>\n",
              "    <tr>\n",
              "      <th>5</th>\n",
              "      <td>ocp</td>\n",
              "      <td>mail</td>\n",
              "      <td>3.0</td>\n",
              "      <td>1.0</td>\n",
              "      <td>10.0</td>\n",
              "      <td>87.0</td>\n",
              "      <td>292939</td>\n",
              "    </tr>\n",
              "    <tr>\n",
              "      <th>6</th>\n",
              "      <td>ocp</td>\n",
              "      <td>text</td>\n",
              "      <td>22.0</td>\n",
              "      <td>1.0</td>\n",
              "      <td>31.0</td>\n",
              "      <td>46.0</td>\n",
              "      <td>374967</td>\n",
              "    </tr>\n",
              "    <tr>\n",
              "      <th>7</th>\n",
              "      <td>scomi</td>\n",
              "      <td>text</td>\n",
              "      <td>13.0</td>\n",
              "      <td>2.0</td>\n",
              "      <td>34.0</td>\n",
              "      <td>50.0</td>\n",
              "      <td>149854</td>\n",
              "    </tr>\n",
              "  </tbody>\n",
              "</table>\n",
              "</div>"
            ],
            "text/plain": [
              "  CampaignType CommunicationType  NoVote  Primary  General  VoteBoth    Total\n",
              "0          lpv              call    21.0      2.0     42.0      34.0   301039\n",
              "1          lpv              mail    28.0      2.0     37.0      33.0   349641\n",
              "2          lpv         postcards    31.0      0.0     45.0      24.0    15007\n",
              "3          lpv              text    32.0      1.0     36.0      31.0  1639672\n",
              "4          ocp              call     1.0      0.0     11.0      88.0    73712\n",
              "5          ocp              mail     3.0      1.0     10.0      87.0   292939\n",
              "6          ocp              text    22.0      1.0     31.0      46.0   374967\n",
              "7        scomi              text    13.0      2.0     34.0      50.0   149854"
            ]
          },
          "metadata": {},
          "execution_count": 131
        }
      ]
    },
    {
      "cell_type": "code",
      "metadata": {
        "colab": {
          "base_uri": "https://localhost:8080/",
          "height": 204
        },
        "id": "2LY4FQv39N_b",
        "outputId": "e7f32e4d-4e6d-4690-bb4e-f021d1a7e096"
      },
      "source": [
        "lpv = waffle_counts[waffle_counts['CampaignType']=='lpv']\n",
        "lpv = lpv.set_index('CommunicationType')\n",
        "lpv"
      ],
      "execution_count": null,
      "outputs": [
        {
          "output_type": "execute_result",
          "data": {
            "text/html": [
              "<div>\n",
              "<style scoped>\n",
              "    .dataframe tbody tr th:only-of-type {\n",
              "        vertical-align: middle;\n",
              "    }\n",
              "\n",
              "    .dataframe tbody tr th {\n",
              "        vertical-align: top;\n",
              "    }\n",
              "\n",
              "    .dataframe thead th {\n",
              "        text-align: right;\n",
              "    }\n",
              "</style>\n",
              "<table border=\"1\" class=\"dataframe\">\n",
              "  <thead>\n",
              "    <tr style=\"text-align: right;\">\n",
              "      <th></th>\n",
              "      <th>CampaignType</th>\n",
              "      <th>NoVote</th>\n",
              "      <th>Primary</th>\n",
              "      <th>General</th>\n",
              "      <th>VoteBoth</th>\n",
              "      <th>Total</th>\n",
              "    </tr>\n",
              "    <tr>\n",
              "      <th>CommunicationType</th>\n",
              "      <th></th>\n",
              "      <th></th>\n",
              "      <th></th>\n",
              "      <th></th>\n",
              "      <th></th>\n",
              "      <th></th>\n",
              "    </tr>\n",
              "  </thead>\n",
              "  <tbody>\n",
              "    <tr>\n",
              "      <th>call</th>\n",
              "      <td>lpv</td>\n",
              "      <td>21.0</td>\n",
              "      <td>2.0</td>\n",
              "      <td>42.0</td>\n",
              "      <td>34.0</td>\n",
              "      <td>301039</td>\n",
              "    </tr>\n",
              "    <tr>\n",
              "      <th>mail</th>\n",
              "      <td>lpv</td>\n",
              "      <td>28.0</td>\n",
              "      <td>2.0</td>\n",
              "      <td>37.0</td>\n",
              "      <td>33.0</td>\n",
              "      <td>349641</td>\n",
              "    </tr>\n",
              "    <tr>\n",
              "      <th>postcards</th>\n",
              "      <td>lpv</td>\n",
              "      <td>31.0</td>\n",
              "      <td>0.0</td>\n",
              "      <td>45.0</td>\n",
              "      <td>24.0</td>\n",
              "      <td>15007</td>\n",
              "    </tr>\n",
              "    <tr>\n",
              "      <th>text</th>\n",
              "      <td>lpv</td>\n",
              "      <td>32.0</td>\n",
              "      <td>1.0</td>\n",
              "      <td>36.0</td>\n",
              "      <td>31.0</td>\n",
              "      <td>1639672</td>\n",
              "    </tr>\n",
              "  </tbody>\n",
              "</table>\n",
              "</div>"
            ],
            "text/plain": [
              "                  CampaignType  NoVote  Primary  General  VoteBoth    Total\n",
              "CommunicationType                                                          \n",
              "call                       lpv    21.0      2.0     42.0      34.0   301039\n",
              "mail                       lpv    28.0      2.0     37.0      33.0   349641\n",
              "postcards                  lpv    31.0      0.0     45.0      24.0    15007\n",
              "text                       lpv    32.0      1.0     36.0      31.0  1639672"
            ]
          },
          "metadata": {},
          "execution_count": 132
        }
      ]
    },
    {
      "cell_type": "code",
      "metadata": {
        "colab": {
          "base_uri": "https://localhost:8080/",
          "height": 297
        },
        "id": "OQk_T5w4z8W1",
        "outputId": "ba17a0d4-074d-4852-f687-c70d97b312fa"
      },
      "source": [
        "data = {'Voted November20': lpv.loc['call']['General'] + lpv.loc['call']['VoteBoth'], \"Didn't Vote\": lpv.loc['call']['NoVote'] + lpv.loc['call']['Primary']}\n",
        "fig = plt.figure(\n",
        "    FigureClass=Waffle, \n",
        "    rows=10, \n",
        "    values=data, \n",
        "    colors=(\"#a7d7b5\", \"#fcaa17\"),\n",
        "    title={'label': 'LPV Vote Percentage Amongst Those Contacted By Phone', 'loc': 'left'},\n",
        "    labels=[\"{0} ({1}%)\".format(k, v) for k, v in data.items()],\n",
        "    legend={'loc': 'upper left', 'bbox_to_anchor': (1, 1)}\n",
        ")\n",
        "# fig.gca().set_facecolor('#EEEEEE')\n",
        "# fig.set_facecolor('#EEEEEE')\n",
        "#colors=(\"#a7d7b5\", \"#fcaa17\", \"#a3dbe3\", \"#fabeaf\"),\n",
        "plt.show()"
      ],
      "execution_count": null,
      "outputs": [
        {
          "output_type": "display_data",
          "data": {
            "image/png": "[encoded data removed]",
            "text/plain": [
              "<Waffle size 432x288 with 1 Axes>"
            ]
          },
          "metadata": {
            "needs_background": "light"
          }
        }
      ]
    },
    {
      "cell_type": "code",
      "metadata": {
        "id": "jxBdFmKzprG5"
      },
      "source": [
        "import plotly.graph_objects as go\n",
        "fig = go.Figure(go.Heatmap(x=xlabels, y = ylabels, z=z,\n",
        "                           customdata=customdata, xgap=3, ygap=3,\n",
        "                           colorscale=colorscale, showscale=False,\n",
        "                           hovertemplate=\"(%{y}, %{x}): %{customdata})<extra></extra>\"))\n",
        "fig.update_layout(width=600, height=450, yaxis_autorange='reversed')"
      ],
      "execution_count": null,
      "outputs": []
    },
    {
      "cell_type": "code",
      "metadata": {
        "id": "LGFAOf8Vddqv",
        "colab": {
          "base_uri": "https://localhost:8080/",
          "height": 297
        },
        "outputId": "3e6ca739-402b-41bb-b737-1c377401ffbb"
      },
      "source": [
        "data = {'Voted November20': lpv.loc['mail']['General'] + lpv.loc['mail']['VoteBoth'], \"Didn't Vote\": lpv.loc['mail']['NoVote'] + lpv.loc['mail']['Primary']}\n",
        "fig = plt.figure(\n",
        "    FigureClass=Waffle, \n",
        "    rows=10, \n",
        "    values=data, \n",
        "    colors=(\"#a7d7b5\", \"#fcaa17\"),\n",
        "    title={'label': 'LPV Vote Percentage Amongst Those Contacted By Mail', 'loc': 'left'},\n",
        "    labels=[\"{0} ({1}%)\".format(k, v) for k, v in data.items()],\n",
        "    legend={'loc': 'upper left', 'bbox_to_anchor': (1, 1)}\n",
        ")\n",
        "plt.show()"
      ],
      "execution_count": null,
      "outputs": [
        {
          "output_type": "display_data",
          "data": {
            "image/png": "[encoded data removed]",
            "text/plain": [
              "<Waffle size 432x288 with 1 Axes>"
            ]
          },
          "metadata": {
            "needs_background": "light"
          }
        }
      ]
    },
    {
      "cell_type": "code",
      "metadata": {
        "colab": {
          "base_uri": "https://localhost:8080/",
          "height": 297
        },
        "id": "5wIh-QHDAUqH",
        "outputId": "e9b1a9d8-fb4a-49e8-b1a8-ca08a9547a0a"
      },
      "source": [
        "data = {'Voted November20': lpv.loc['postcards']['General'] + lpv.loc['postcards']['VoteBoth'], \"Didn't Vote\": lpv.loc['postcards']['NoVote'] + lpv.loc['postcards']['Primary']}\n",
        "fig = plt.figure(\n",
        "    FigureClass=Waffle, \n",
        "    rows=10, \n",
        "    values=data, \n",
        "    colors=(\"#a7d7b5\", \"#fcaa17\"),\n",
        "    title={'label': 'LPV Vote Percentage Amongst Those Contacted By Postcard', 'loc': 'left'},\n",
        "    labels=[\"{0} ({1}%)\".format(k, v) for k, v in data.items()],\n",
        "    legend={'loc': 'upper left', 'bbox_to_anchor': (1, 1)}\n",
        ")\n",
        "plt.show()"
      ],
      "execution_count": null,
      "outputs": [
        {
          "output_type": "display_data",
          "data": {
            "image/png": "[encoded data removed]",
            "text/plain": [
              "<Waffle size 432x288 with 1 Axes>"
            ]
          },
          "metadata": {
            "needs_background": "light"
          }
        }
      ]
    },
    {
      "cell_type": "code",
      "metadata": {
        "colab": {
          "base_uri": "https://localhost:8080/",
          "height": 297
        },
        "id": "VY32JOXQCAWE",
        "outputId": "4ef53c06-db89-4b1f-c224-ee5ec910c91e"
      },
      "source": [
        "data = {'Voted November20': lpv.loc['text']['General'] + lpv.loc['text']['VoteBoth'], \"Didn't Vote\": lpv.loc['text']['NoVote'] + lpv.loc['text']['Primary']}\n",
        "fig = plt.figure(\n",
        "    FigureClass=Waffle, \n",
        "    rows=10, \n",
        "    values=data, \n",
        "    colors=(\"#a7d7b5\", \"#fcaa17\"),\n",
        "    title={'label': 'LPV Vote Percentage Amongst Those Contacted By Text', 'loc': 'left'},\n",
        "    labels=[\"{0} ({1}%)\".format(k, v) for k, v in data.items()],\n",
        "    legend={'loc': 'upper left', 'bbox_to_anchor': (1, 1)}\n",
        ")\n",
        "plt.show()"
      ],
      "execution_count": null,
      "outputs": [
        {
          "output_type": "display_data",
          "data": {
            "image/png": "[encoded data removed]",
            "text/plain": [
              "<Waffle size 432x288 with 1 Axes>"
            ]
          },
          "metadata": {
            "needs_background": "light"
          }
        }
      ]
    },
    {
      "cell_type": "code",
      "metadata": {
        "colab": {
          "base_uri": "https://localhost:8080/",
          "height": 111
        },
        "id": "WTqp84QgCLEZ",
        "outputId": "d4a8035c-541f-4d49-db51-b4604e5e91e5"
      },
      "source": [
        "scomi = waffle_counts[waffle_counts['CampaignType']=='scomi']\n",
        "scomi = scomi.set_index('CommunicationType')\n",
        "scomi"
      ],
      "execution_count": null,
      "outputs": [
        {
          "output_type": "execute_result",
          "data": {
            "text/html": [
              "<div>\n",
              "<style scoped>\n",
              "    .dataframe tbody tr th:only-of-type {\n",
              "        vertical-align: middle;\n",
              "    }\n",
              "\n",
              "    .dataframe tbody tr th {\n",
              "        vertical-align: top;\n",
              "    }\n",
              "\n",
              "    .dataframe thead th {\n",
              "        text-align: right;\n",
              "    }\n",
              "</style>\n",
              "<table border=\"1\" class=\"dataframe\">\n",
              "  <thead>\n",
              "    <tr style=\"text-align: right;\">\n",
              "      <th></th>\n",
              "      <th>CampaignType</th>\n",
              "      <th>NoVote</th>\n",
              "      <th>Primary</th>\n",
              "      <th>General</th>\n",
              "      <th>VoteBoth</th>\n",
              "      <th>Total</th>\n",
              "    </tr>\n",
              "    <tr>\n",
              "      <th>CommunicationType</th>\n",
              "      <th></th>\n",
              "      <th></th>\n",
              "      <th></th>\n",
              "      <th></th>\n",
              "      <th></th>\n",
              "      <th></th>\n",
              "    </tr>\n",
              "  </thead>\n",
              "  <tbody>\n",
              "    <tr>\n",
              "      <th>text</th>\n",
              "      <td>scomi</td>\n",
              "      <td>13.0</td>\n",
              "      <td>2.0</td>\n",
              "      <td>34.0</td>\n",
              "      <td>50.0</td>\n",
              "      <td>149854</td>\n",
              "    </tr>\n",
              "  </tbody>\n",
              "</table>\n",
              "</div>"
            ],
            "text/plain": [
              "                  CampaignType  NoVote  Primary  General  VoteBoth   Total\n",
              "CommunicationType                                                         \n",
              "text                     scomi    13.0      2.0     34.0      50.0  149854"
            ]
          },
          "metadata": {},
          "execution_count": 137
        }
      ]
    },
    {
      "cell_type": "code",
      "metadata": {
        "colab": {
          "base_uri": "https://localhost:8080/",
          "height": 297
        },
        "id": "hUGOIlq9CUzq",
        "outputId": "f70807a4-8117-4af1-b722-69515ce87404"
      },
      "source": [
        "data = {'Voted November20': scomi.loc['text']['General'] + scomi.loc['text']['VoteBoth'], \"Didn't Vote\": scomi.loc['text']['NoVote'] + scomi.loc['text']['Primary']}\n",
        "fig = plt.figure(\n",
        "    FigureClass=Waffle, \n",
        "    rows=10, \n",
        "    values=data, \n",
        "    colors=(\"#a7d7b5\", \"#fcaa17\"),\n",
        "    title={'label': 'SCOMI Vote Percentage Amongst Those Contacted By Text', 'loc': 'left'},\n",
        "    labels=[\"{0} ({1}%)\".format(k, v) for k, v in data.items()],\n",
        "    legend={'loc': 'upper left', 'bbox_to_anchor': (1, 1)}\n",
        ")\n",
        "plt.show()"
      ],
      "execution_count": null,
      "outputs": [
        {
          "output_type": "display_data",
          "data": {
            "image/png": "[encoded data removed]",
            "text/plain": [
              "<Waffle size 432x288 with 1 Axes>"
            ]
          },
          "metadata": {
            "needs_background": "light"
          }
        }
      ]
    },
    {
      "cell_type": "code",
      "metadata": {
        "colab": {
          "base_uri": "https://localhost:8080/",
          "height": 173
        },
        "id": "I2ojFbOKCclP",
        "outputId": "e27ec1ae-bb0e-400d-aa0a-c19802ea568c"
      },
      "source": [
        "ocp = waffle_counts[waffle_counts['CampaignType']=='ocp']\n",
        "ocp = ocp.set_index('CommunicationType')\n",
        "ocp"
      ],
      "execution_count": null,
      "outputs": [
        {
          "output_type": "execute_result",
          "data": {
            "text/html": [
              "<div>\n",
              "<style scoped>\n",
              "    .dataframe tbody tr th:only-of-type {\n",
              "        vertical-align: middle;\n",
              "    }\n",
              "\n",
              "    .dataframe tbody tr th {\n",
              "        vertical-align: top;\n",
              "    }\n",
              "\n",
              "    .dataframe thead th {\n",
              "        text-align: right;\n",
              "    }\n",
              "</style>\n",
              "<table border=\"1\" class=\"dataframe\">\n",
              "  <thead>\n",
              "    <tr style=\"text-align: right;\">\n",
              "      <th></th>\n",
              "      <th>CampaignType</th>\n",
              "      <th>NoVote</th>\n",
              "      <th>Primary</th>\n",
              "      <th>General</th>\n",
              "      <th>VoteBoth</th>\n",
              "      <th>Total</th>\n",
              "    </tr>\n",
              "    <tr>\n",
              "      <th>CommunicationType</th>\n",
              "      <th></th>\n",
              "      <th></th>\n",
              "      <th></th>\n",
              "      <th></th>\n",
              "      <th></th>\n",
              "      <th></th>\n",
              "    </tr>\n",
              "  </thead>\n",
              "  <tbody>\n",
              "    <tr>\n",
              "      <th>call</th>\n",
              "      <td>ocp</td>\n",
              "      <td>1.0</td>\n",
              "      <td>0.0</td>\n",
              "      <td>11.0</td>\n",
              "      <td>88.0</td>\n",
              "      <td>73712</td>\n",
              "    </tr>\n",
              "    <tr>\n",
              "      <th>mail</th>\n",
              "      <td>ocp</td>\n",
              "      <td>3.0</td>\n",
              "      <td>1.0</td>\n",
              "      <td>10.0</td>\n",
              "      <td>87.0</td>\n",
              "      <td>292939</td>\n",
              "    </tr>\n",
              "    <tr>\n",
              "      <th>text</th>\n",
              "      <td>ocp</td>\n",
              "      <td>22.0</td>\n",
              "      <td>1.0</td>\n",
              "      <td>31.0</td>\n",
              "      <td>46.0</td>\n",
              "      <td>374967</td>\n",
              "    </tr>\n",
              "  </tbody>\n",
              "</table>\n",
              "</div>"
            ],
            "text/plain": [
              "                  CampaignType  NoVote  Primary  General  VoteBoth   Total\n",
              "CommunicationType                                                         \n",
              "call                       ocp     1.0      0.0     11.0      88.0   73712\n",
              "mail                       ocp     3.0      1.0     10.0      87.0  292939\n",
              "text                       ocp    22.0      1.0     31.0      46.0  374967"
            ]
          },
          "metadata": {},
          "execution_count": 139
        }
      ]
    },
    {
      "cell_type": "code",
      "metadata": {
        "colab": {
          "base_uri": "https://localhost:8080/",
          "height": 297
        },
        "id": "DoJRKHs6Cnon",
        "outputId": "e5d8cab5-b40c-477c-8c78-7fc999a0fcc6"
      },
      "source": [
        "data = {'Voted Both': ocp.loc['call']['VoteBoth'], 'Voted August20': ocp.loc['call']['Primary'], \n",
        "        'Voted November20': ocp.loc['call']['General'], \"Didn't Vote\": ocp.loc['call']['NoVote']}\n",
        "fig = plt.figure(\n",
        "    FigureClass=Waffle, \n",
        "    rows=10, \n",
        "    values=data, \n",
        "    colors=(\"#a7d7b5\", \"#fcaa17\", \"#a3dbe3\", \"#fabeaf\"),\n",
        "    title={'label': 'OCP Vote Percentage Amongst Those Contacted By Phone', 'loc': 'left'},\n",
        "    labels=[\"{0} ({1}%)\".format(k, v) for k, v in data.items()],\n",
        "    legend={'loc': 'upper left', 'bbox_to_anchor': (1, 1)}\n",
        ")\n",
        "plt.show()"
      ],
      "execution_count": null,
      "outputs": [
        {
          "output_type": "display_data",
          "data": {
            "image/png": "[encoded data removed]",
            "text/plain": [
              "<Waffle size 432x288 with 1 Axes>"
            ]
          },
          "metadata": {
            "needs_background": "light"
          }
        }
      ]
    },
    {
      "cell_type": "code",
      "metadata": {
        "colab": {
          "base_uri": "https://localhost:8080/",
          "height": 297
        },
        "id": "483JidmPDFvR",
        "outputId": "171ce4df-a05b-4187-d438-686c9274683d"
      },
      "source": [
        "data = {'Voted Both': ocp.loc['mail']['VoteBoth'], \n",
        "        \"Didn't Vote\": ocp.loc['mail']['NoVote'], 'Voted November20': ocp.loc['mail']['General'], 'Voted August20': ocp.loc['mail']['Primary']}\n",
        "fig = plt.figure(\n",
        "    FigureClass=Waffle, \n",
        "    rows=10, \n",
        "    values=data, \n",
        "    colors=(\"#a7d7b5\", \"#fcaa17\", \"#a3dbe3\", \"#fabeaf\"),\n",
        "    title={'label': 'OCP Vote Percentage Amongst Those Contacted By Mail', 'loc': 'left'},\n",
        "    labels=[\"{0} ({1}%)\".format(k, v) for k, v in data.items()],\n",
        "    legend={'loc': 'upper left', 'bbox_to_anchor': (1, 1)}\n",
        ")\n",
        "plt.show()"
      ],
      "execution_count": null,
      "outputs": [
        {
          "output_type": "display_data",
          "data": {
            "image/png": "[encoded data removed]",
            "text/plain": [
              "<Waffle size 432x288 with 1 Axes>"
            ]
          },
          "metadata": {
            "needs_background": "light"
          }
        }
      ]
    },
    {
      "cell_type": "code",
      "metadata": {
        "colab": {
          "base_uri": "https://localhost:8080/",
          "height": 297
        },
        "id": "AO1PmyrXDPDK",
        "outputId": "c9e285c4-c810-4a2f-ae5a-ca8f4279cc34"
      },
      "source": [
        "data = {'Voted Both': ocp.loc['text']['VoteBoth'], 'Voted November20': ocp.loc['text']['General'], \n",
        "        \"Didn't Vote\": ocp.loc['text']['NoVote'], 'Voted August20': ocp.loc['text']['Primary']}\n",
        "fig = plt.figure(\n",
        "    FigureClass=Waffle, \n",
        "    rows=10, \n",
        "    values=data, \n",
        "    colors=(\"#a7d7b5\", \"#fcaa17\", \"#a3dbe3\", \"#fabeaf\"),\n",
        "    title={'label': 'OCP Vote Percentage Amongst Those Contacted By Text', 'loc': 'left'},\n",
        "    labels=[\"{0} ({1}%)\".format(k, v) for k, v in data.items()],\n",
        "    legend={'loc': 'upper left', 'bbox_to_anchor': (1, 1)}\n",
        ")\n",
        "plt.show()"
      ],
      "execution_count": null,
      "outputs": [
        {
          "output_type": "display_data",
          "data": {
            "image/png": "[encoded data removed]",
            "text/plain": [
              "<Waffle size 432x288 with 1 Axes>"
            ]
          },
          "metadata": {
            "needs_background": "light"
          }
        }
      ]
    }
  ]
}