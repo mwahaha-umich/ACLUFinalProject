{
  "nbformat": 4,
  "nbformat_minor": 0,
  "metadata": {
    "colab": {
      "name": "Copy of Kyle Large Dataset Test.ipynb",
      "provenance": [],
      "collapsed_sections": [],
      "include_colab_link": true
    },
    "kernelspec": {
      "name": "python3",
      "display_name": "Python 3"
    }
  },
  "cells": [
    {
      "cell_type": "markdown",
      "metadata": {
        "id": "view-in-github",
        "colab_type": "text"
      },
      "source": [
        "<a href=\"https://colab.research.google.com/github/mwahaha-umich/ACLUFinalProject/blob/main/Copy_of_Kyle_Large_Dataset_Test.ipynb\" target=\"_parent\"><img src=\"https://colab.research.google.com/assets/colab-badge.svg\" alt=\"Open In Colab\"/></a>"
      ]
    },
    {
      "cell_type": "markdown",
      "metadata": {
        "id": "_OsDNZ7p2d4G"
      },
      "source": [
        "This Jupyter notebook is intended to assist with accessing plotly from outside of a Google Colab environment (Should technically work for any cloud environment that allows you to install NGROK). The problem with running plotly within Google Colab is that the ports that are opened by Plotly are not exposed to the outside world. In order to expose them we are going to create a network tunnel, that's where NGROK comes in.\n",
        "\n",
        "A few things of note:\n",
        "*  If you are using Google Drive for any information for this plot, you will want to copy that data \"locally\" before the graph will fuction externally. This is because we are starting up a new thread that will not carry over the Google Driver permissions you may have granted to the current thread.\n"
      ]
    },
    {
      "cell_type": "markdown",
      "metadata": {
        "id": "YsJ15MGHqFYs"
      },
      "source": [
        "# Download and install NGROK"
      ]
    },
    {
      "cell_type": "markdown",
      "metadata": {
        "id": "555J29d5lyw6"
      },
      "source": [
        "First thing we need to do is download and install NGROK.\n",
        "\n",
        "Important thing to note, if you ever get \"OSError: [Errno 98] Address already in use\" that means there is an instance of dash still running, the simplest solution is to restart the runtime."
      ]
    },
    {
      "cell_type": "code",
      "metadata": {
        "id": "T_zjjG7Qy5LS",
        "colab": {
          "base_uri": "https://localhost:8080/"
        },
        "outputId": "eb9c5410-1b05-4d4d-b4fc-a6e458714cb9"
      },
      "source": [
        "# How to run a Dash app in Google Colab\n",
        "\n",
        "## Requirements\n",
        "\n",
        "### Install ngrok\n",
        "!wget https://bin.equinox.io/c/4VmDzA7iaHb/ngrok-stable-linux-amd64.zip\n",
        "!unzip -o ngrok-stable-linux-amd64.zip\n",
        "\n",
        "\n",
        "get_ipython().system_raw('./ngrok http 8050 &')\n",
        "\n",
        "### Install Dash\n",
        "!pip install dash  # The core dash backend\n",
        "!pip install jupyter_dash\n",
        "\n",
        "#Do not install any of these. When you install Dash, it includes these. If you call the install it installs a previous version of these and will generate an error.\n",
        "#!pip install dash-html-components  # HTML components\n",
        "#!pip install dash-core-components  # Supercharged components\n",
        "#!pip install dash-table  # Interactive DataTable component (new!)"
      ],
      "execution_count": 1,
      "outputs": [
        {
          "output_type": "stream",
          "text": [
            "--2021-07-23 12:19:56--  https://bin.equinox.io/c/4VmDzA7iaHb/ngrok-stable-linux-amd64.zip\n",
            "Resolving bin.equinox.io (bin.equinox.io)... 52.45.159.115, 3.212.203.64, 3.210.213.176, ...\n",
            "Connecting to bin.equinox.io (bin.equinox.io)|52.45.159.115|:443... connected.\n",
            "HTTP request sent, awaiting response... 200 OK\n",
            "Length: 13832437 (13M) [application/octet-stream]\n",
            "Saving to: ‘ngrok-stable-linux-amd64.zip’\n",
            "\n",
            "ngrok-stable-linux- 100%[===================>]  13.19M  5.96MB/s    in 2.2s    \n",
            "\n",
            "2021-07-23 12:19:59 (5.96 MB/s) - ‘ngrok-stable-linux-amd64.zip’ saved [13832437/13832437]\n",
            "\n",
            "Archive:  ngrok-stable-linux-amd64.zip\n",
            "  inflating: ngrok                   \n",
            "Collecting dash\n",
            "  Downloading dash-1.21.0.tar.gz (1.1 MB)\n",
            "\u001b[K     |████████████████████████████████| 1.1 MB 5.4 MB/s \n",
            "\u001b[?25hRequirement already satisfied: Flask>=1.0.4 in /usr/local/lib/python3.7/dist-packages (from dash) (1.1.4)\n",
            "Collecting flask-compress\n",
            "  Downloading Flask_Compress-1.10.1-py3-none-any.whl (7.9 kB)\n",
            "Requirement already satisfied: plotly in /usr/local/lib/python3.7/dist-packages (from dash) (4.4.1)\n",
            "Collecting dash-core-components==1.17.1\n",
            "  Downloading dash_core_components-1.17.1.tar.gz (3.7 MB)\n",
            "\u001b[K     |████████████████████████████████| 3.7 MB 39.5 MB/s \n",
            "\u001b[?25hCollecting dash-html-components==1.1.4\n",
            "  Downloading dash_html_components-1.1.4.tar.gz (83 kB)\n",
            "\u001b[K     |████████████████████████████████| 83 kB 2.1 MB/s \n",
            "\u001b[?25hCollecting dash-table==4.12.0\n",
            "  Downloading dash_table-4.12.0.tar.gz (1.8 MB)\n",
            "\u001b[K     |████████████████████████████████| 1.8 MB 55.5 MB/s \n",
            "\u001b[?25hRequirement already satisfied: future in /usr/local/lib/python3.7/dist-packages (from dash) (0.16.0)\n",
            "Requirement already satisfied: Jinja2<3.0,>=2.10.1 in /usr/local/lib/python3.7/dist-packages (from Flask>=1.0.4->dash) (2.11.3)\n",
            "Requirement already satisfied: itsdangerous<2.0,>=0.24 in /usr/local/lib/python3.7/dist-packages (from Flask>=1.0.4->dash) (1.1.0)\n",
            "Requirement already satisfied: click<8.0,>=5.1 in /usr/local/lib/python3.7/dist-packages (from Flask>=1.0.4->dash) (7.1.2)\n",
            "Requirement already satisfied: Werkzeug<2.0,>=0.15 in /usr/local/lib/python3.7/dist-packages (from Flask>=1.0.4->dash) (1.0.1)\n",
            "Requirement already satisfied: MarkupSafe>=0.23 in /usr/local/lib/python3.7/dist-packages (from Jinja2<3.0,>=2.10.1->Flask>=1.0.4->dash) (2.0.1)\n",
            "Collecting brotli\n",
            "  Downloading Brotli-1.0.9-cp37-cp37m-manylinux1_x86_64.whl (357 kB)\n",
            "\u001b[K     |████████████████████████████████| 357 kB 61.5 MB/s \n",
            "\u001b[?25hRequirement already satisfied: six in /usr/local/lib/python3.7/dist-packages (from plotly->dash) (1.15.0)\n",
            "Requirement already satisfied: retrying>=1.3.3 in /usr/local/lib/python3.7/dist-packages (from plotly->dash) (1.3.3)\n",
            "Building wheels for collected packages: dash, dash-core-components, dash-html-components, dash-table\n",
            "  Building wheel for dash (setup.py) ... \u001b[?25l\u001b[?25hdone\n",
            "  Created wheel for dash: filename=dash-1.21.0-py3-none-any.whl size=1100489 sha256=f2397ddb693d516cd32b3a91c7e25d5a2d8fb2aab8d08569e8fe16a5ea7e568d\n",
            "  Stored in directory: /root/.cache/pip/wheels/59/a4/f1/a7140afcad8dbaa3b1b12ef80843d29403d6ecca1c2f397948\n",
            "  Building wheel for dash-core-components (setup.py) ... \u001b[?25l\u001b[?25hdone\n",
            "  Created wheel for dash-core-components: filename=dash_core_components-1.17.1-py3-none-any.whl size=3738995 sha256=72887e79d0b083b667218cc6b1a09234de11512f6020b22475ab359854dcb49f\n",
            "  Stored in directory: /root/.cache/pip/wheels/ca/5b/fb/a135a7bf8e21223e4104aa5526a5173a20b64fe7fcd055b999\n",
            "  Building wheel for dash-html-components (setup.py) ... \u001b[?25l\u001b[?25hdone\n",
            "  Created wheel for dash-html-components: filename=dash_html_components-1.1.4-py3-none-any.whl size=319771 sha256=217ff4106822691c7a20eb0a287e9569b545416063a3e114bf3ef95f67993a8b\n",
            "  Stored in directory: /root/.cache/pip/wheels/51/d7/5f/5730b784b5333941740a0dfc57b10395c3507b35ddac112ac0\n",
            "  Building wheel for dash-table (setup.py) ... \u001b[?25l\u001b[?25hdone\n",
            "  Created wheel for dash-table: filename=dash_table-4.12.0-py3-none-any.whl size=1837674 sha256=070a97c15e8b22e8970ca0b3c1da96c248aecb170402fbfa3b6f2602b5365c25\n",
            "  Stored in directory: /root/.cache/pip/wheels/5f/d4/8b/639186e25b7234dac44ba004cfb58ea5b39fe492085bda2a88\n",
            "Successfully built dash dash-core-components dash-html-components dash-table\n",
            "Installing collected packages: brotli, flask-compress, dash-table, dash-html-components, dash-core-components, dash\n",
            "Successfully installed brotli-1.0.9 dash-1.21.0 dash-core-components-1.17.1 dash-html-components-1.1.4 dash-table-4.12.0 flask-compress-1.10.1\n",
            "Collecting jupyter_dash\n",
            "  Downloading jupyter_dash-0.4.0-py3-none-any.whl (20 kB)\n",
            "Requirement already satisfied: retrying in /usr/local/lib/python3.7/dist-packages (from jupyter_dash) (1.3.3)\n",
            "Requirement already satisfied: requests in /usr/local/lib/python3.7/dist-packages (from jupyter_dash) (2.23.0)\n",
            "Requirement already satisfied: ipykernel in /usr/local/lib/python3.7/dist-packages (from jupyter_dash) (4.10.1)\n",
            "Collecting ansi2html\n",
            "  Downloading ansi2html-1.6.0-py3-none-any.whl (14 kB)\n",
            "Requirement already satisfied: flask in /usr/local/lib/python3.7/dist-packages (from jupyter_dash) (1.1.4)\n",
            "Requirement already satisfied: ipython in /usr/local/lib/python3.7/dist-packages (from jupyter_dash) (5.5.0)\n",
            "Requirement already satisfied: dash in /usr/local/lib/python3.7/dist-packages (from jupyter_dash) (1.21.0)\n",
            "Requirement already satisfied: plotly in /usr/local/lib/python3.7/dist-packages (from dash->jupyter_dash) (4.4.1)\n",
            "Requirement already satisfied: dash-html-components==1.1.4 in /usr/local/lib/python3.7/dist-packages (from dash->jupyter_dash) (1.1.4)\n",
            "Requirement already satisfied: dash-core-components==1.17.1 in /usr/local/lib/python3.7/dist-packages (from dash->jupyter_dash) (1.17.1)\n",
            "Requirement already satisfied: dash-table==4.12.0 in /usr/local/lib/python3.7/dist-packages (from dash->jupyter_dash) (4.12.0)\n",
            "Requirement already satisfied: future in /usr/local/lib/python3.7/dist-packages (from dash->jupyter_dash) (0.16.0)\n",
            "Requirement already satisfied: flask-compress in /usr/local/lib/python3.7/dist-packages (from dash->jupyter_dash) (1.10.1)\n",
            "Requirement already satisfied: Werkzeug<2.0,>=0.15 in /usr/local/lib/python3.7/dist-packages (from flask->jupyter_dash) (1.0.1)\n",
            "Requirement already satisfied: itsdangerous<2.0,>=0.24 in /usr/local/lib/python3.7/dist-packages (from flask->jupyter_dash) (1.1.0)\n",
            "Requirement already satisfied: Jinja2<3.0,>=2.10.1 in /usr/local/lib/python3.7/dist-packages (from flask->jupyter_dash) (2.11.3)\n",
            "Requirement already satisfied: click<8.0,>=5.1 in /usr/local/lib/python3.7/dist-packages (from flask->jupyter_dash) (7.1.2)\n",
            "Requirement already satisfied: MarkupSafe>=0.23 in /usr/local/lib/python3.7/dist-packages (from Jinja2<3.0,>=2.10.1->flask->jupyter_dash) (2.0.1)\n",
            "Requirement already satisfied: brotli in /usr/local/lib/python3.7/dist-packages (from flask-compress->dash->jupyter_dash) (1.0.9)\n",
            "Requirement already satisfied: jupyter-client in /usr/local/lib/python3.7/dist-packages (from ipykernel->jupyter_dash) (5.3.5)\n",
            "Requirement already satisfied: tornado>=4.0 in /usr/local/lib/python3.7/dist-packages (from ipykernel->jupyter_dash) (5.1.1)\n",
            "Requirement already satisfied: traitlets>=4.1.0 in /usr/local/lib/python3.7/dist-packages (from ipykernel->jupyter_dash) (5.0.5)\n",
            "Requirement already satisfied: decorator in /usr/local/lib/python3.7/dist-packages (from ipython->jupyter_dash) (4.4.2)\n",
            "Requirement already satisfied: simplegeneric>0.8 in /usr/local/lib/python3.7/dist-packages (from ipython->jupyter_dash) (0.8.1)\n",
            "Requirement already satisfied: prompt-toolkit<2.0.0,>=1.0.4 in /usr/local/lib/python3.7/dist-packages (from ipython->jupyter_dash) (1.0.18)\n",
            "Requirement already satisfied: pygments in /usr/local/lib/python3.7/dist-packages (from ipython->jupyter_dash) (2.6.1)\n",
            "Requirement already satisfied: pexpect in /usr/local/lib/python3.7/dist-packages (from ipython->jupyter_dash) (4.8.0)\n",
            "Requirement already satisfied: setuptools>=18.5 in /usr/local/lib/python3.7/dist-packages (from ipython->jupyter_dash) (57.2.0)\n",
            "Requirement already satisfied: pickleshare in /usr/local/lib/python3.7/dist-packages (from ipython->jupyter_dash) (0.7.5)\n",
            "Requirement already satisfied: wcwidth in /usr/local/lib/python3.7/dist-packages (from prompt-toolkit<2.0.0,>=1.0.4->ipython->jupyter_dash) (0.2.5)\n",
            "Requirement already satisfied: six>=1.9.0 in /usr/local/lib/python3.7/dist-packages (from prompt-toolkit<2.0.0,>=1.0.4->ipython->jupyter_dash) (1.15.0)\n",
            "Requirement already satisfied: ipython-genutils in /usr/local/lib/python3.7/dist-packages (from traitlets>=4.1.0->ipykernel->jupyter_dash) (0.2.0)\n",
            "Requirement already satisfied: jupyter-core>=4.6.0 in /usr/local/lib/python3.7/dist-packages (from jupyter-client->ipykernel->jupyter_dash) (4.7.1)\n",
            "Requirement already satisfied: pyzmq>=13 in /usr/local/lib/python3.7/dist-packages (from jupyter-client->ipykernel->jupyter_dash) (22.1.0)\n",
            "Requirement already satisfied: python-dateutil>=2.1 in /usr/local/lib/python3.7/dist-packages (from jupyter-client->ipykernel->jupyter_dash) (2.8.1)\n",
            "Requirement already satisfied: ptyprocess>=0.5 in /usr/local/lib/python3.7/dist-packages (from pexpect->ipython->jupyter_dash) (0.7.0)\n",
            "Requirement already satisfied: idna<3,>=2.5 in /usr/local/lib/python3.7/dist-packages (from requests->jupyter_dash) (2.10)\n",
            "Requirement already satisfied: urllib3!=1.25.0,!=1.25.1,<1.26,>=1.21.1 in /usr/local/lib/python3.7/dist-packages (from requests->jupyter_dash) (1.24.3)\n",
            "Requirement already satisfied: chardet<4,>=3.0.2 in /usr/local/lib/python3.7/dist-packages (from requests->jupyter_dash) (3.0.4)\n",
            "Requirement already satisfied: certifi>=2017.4.17 in /usr/local/lib/python3.7/dist-packages (from requests->jupyter_dash) (2021.5.30)\n",
            "Installing collected packages: ansi2html, jupyter-dash\n",
            "Successfully installed ansi2html-1.6.0 jupyter-dash-0.4.0\n"
          ],
          "name": "stdout"
        }
      ]
    },
    {
      "cell_type": "markdown",
      "metadata": {
        "id": "4CeOHkwcn4bF"
      },
      "source": [
        "Now that we have NGROK configured, we need a way to figure out what the URL will be to access NGROK. To do this we are going to have to execute some Linux commands to pull the established tunnels.\n",
        "\n",
        "Additional Details:\n",
        "\n",
        "Durring testing we discovered that occassionally the Curl command would come back with nothing. we suspect this is due to the async nature of the command pulling the list of tunnels before any of them have been established. So, we have built in a wait and a couple loops to ensure that we can get a proper URL.\n",
        "\n",
        "Additionally, every time you restart the app you will need to generate a new tunnel. So make sure this method gets called before you execute your python file to start the server."
      ]
    },
    {
      "cell_type": "code",
      "metadata": {
        "id": "bnX_1k4nrDUk"
      },
      "source": [
        "import os\n",
        "import json\n",
        "import time\n",
        "\n",
        "\n",
        "def GetPublicIP(NumberOfLoops):\n",
        "  #This code only works on a linux based OS, we'll skip running it if we're on an unknown OS\n",
        "  if os.name in LinuxOSList:\n",
        "    NumberOfLoops = NumberOfLoops + 1\n",
        "    get_ipython().system_raw('./ngrok http 8050 &')\n",
        "    time.sleep(1)\n",
        "    result = os.popen(\"curl -s http://localhost:4040/api/tunnels\").read()\n",
        "    resultDict = json.loads(result)\n",
        "    if 'tunnels' in resultDict.keys():\n",
        "      publicIP = resultDict['tunnels'][0]['public_url']\n",
        "      print(publicIP)\n",
        "      return publicIP\n",
        "    else:\n",
        "      print(\"Number of Loops: \" + NumberOfLoops)\n",
        "      if NumberOfLoops > 5:\n",
        "        return \"Unable to get public IP\"\n",
        "      return GetPublicIP(NumberOfLoops)\n"
      ],
      "execution_count": 2,
      "outputs": []
    },
    {
      "cell_type": "markdown",
      "metadata": {
        "id": "f3R9TFANqNV4"
      },
      "source": [
        "# Connect to Google Drive"
      ]
    },
    {
      "cell_type": "code",
      "metadata": {
        "id": "U5_4a226qq-R",
        "colab": {
          "base_uri": "https://localhost:8080/"
        },
        "outputId": "405bcd1e-82ae-45d7-dd38-3b948c6cea6b"
      },
      "source": [
        "from google.colab import drive\n",
        "drive.mount('/content/drive')"
      ],
      "execution_count": 3,
      "outputs": [
        {
          "output_type": "stream",
          "text": [
            "Mounted at /content/drive\n"
          ],
          "name": "stdout"
        }
      ]
    },
    {
      "cell_type": "code",
      "metadata": {
        "id": "U6M71YgSor3s"
      },
      "source": [
        "import os\n",
        "from os import listdir\n",
        "from os.path import isfile, join\n",
        "from pathlib import Path\n",
        "import requests\n",
        "\n",
        "if 'google.colab' in str(get_ipython()):\n",
        "  #We keep changing the different paths, so I'm going to check if various configurations exist.\n",
        "  if (os.path.isdir(\"/content/drive/MyDrive/Shared with me/content/drive/My Drive/Shared with me/ACLU/\")):\n",
        "    GoogleDriveBase = \"/content/drive/MyDrive/Shared with me/content/drive/My Drive/Shared with me/\" #Anupriya\n",
        "    WorkingDirectory = GoogleDriveBase + 'ACLU/' #Anupriya\n",
        "  else:  \n",
        "    if (os.path.isdir(\"/content/drive/My Drive/Projects/ACLU/\")):\n",
        "      GoogleDriveBase = \"/content/drive/My Drive/\" #Kyle\n",
        "      WorkingDirectory = GoogleDriveBase + \"Projects/ACLU/\" #Kyle\n",
        "else: # We're not running in Google Colab, which means we're probably running locally. \n",
        "  #Put code here for local copies of the files\n",
        "  GoogleDriveBase = \"\" \n",
        "  WorkingDirectory = GoogleDriveBase + \"\" \n",
        "\n",
        "\n",
        "WorkingFiles = WorkingDirectory + 'WorkingFiles/'\n",
        "BasePickeDrive = GoogleDriveBase + WorkingDirectory + \"Pickle/\"\n",
        "\n",
        "\n",
        "#Make the necessary folders for the script to run.\n",
        "ListOfAllRequiredDirectories = [WorkingDirectory + 'Pickle', \n",
        "                          WorkingDirectory + 'WorkingFiles',\n",
        "                          WorkingDirectory + 'AdditionalData',\n",
        "                          WorkingDirectory + 'ACLUData']\n",
        "\n",
        "for folder in ListOfAllRequiredDirectories:\n",
        "  RunningPath = GoogleDriveBase + folder + \"/\"\n",
        "  Path(RunningPath).mkdir(parents=True, exist_ok=True)"
      ],
      "execution_count": 4,
      "outputs": []
    },
    {
      "cell_type": "markdown",
      "metadata": {
        "id": "yyTMa_IYsyDD"
      },
      "source": [
        "If you would like to run the previous example externally, just copy and paste your code into a new block like below. "
      ]
    },
    {
      "cell_type": "code",
      "metadata": {
        "id": "QjWE1lGZ6srP",
        "colab": {
          "base_uri": "https://localhost:8080/"
        },
        "outputId": "2c4369c9-2292-431d-ae76-e22a9285578a"
      },
      "source": [
        "import pandas as pd\n",
        "\n",
        "df = pd.read_csv(WorkingFiles + \"dfVoters.csv\")"
      ],
      "execution_count": 5,
      "outputs": [
        {
          "output_type": "stream",
          "text": [
            "/usr/local/lib/python3.7/dist-packages/IPython/core/interactiveshell.py:2718: DtypeWarning: Columns (13,28,53) have mixed types.Specify dtype option on import or set low_memory=False.\n",
            "  interactivity=interactivity, compiler=compiler, result=result)\n"
          ],
          "name": "stderr"
        }
      ]
    },
    {
      "cell_type": "code",
      "metadata": {
        "colab": {
          "base_uri": "https://localhost:8080/"
        },
        "id": "6yU1Paxvrg_X",
        "outputId": "ef915ace-07d1-444d-d52c-e4cbf9870797"
      },
      "source": [
        "dfVoters_sub = df[['Voter File VANID', 'FirstName', 'MiddleName',\n",
        "       'LastName', 'DWID', 'Zip5', 'Age', \n",
        "       'MaritalStatus', 'Sex', 'City','State', 'Zip4', 'Suffix', 'CD', 'SD', 'HD', 'CountyName', 'DOB', 'DateReg',\n",
        "       'EthnicCatalistName', 'Party', 'RaceName', 'Primary19', '2020_Biden_Support', 'Voting_Aug_Prim',\n",
        "       'PoliceAccountability','VBM_Application', 'MarijuanaConviction','Absentee_Voting', 'Mass_Incarceration']]\n",
        "\n",
        "bins= [18,29,44,64, 123]\n",
        "labels = ['18-29','30-44','45-64','65+']\n",
        "dfVoters_sub['AgeGroup'] = pd.cut(dfVoters_sub['Age'], bins=bins, labels=labels, right=True)"
      ],
      "execution_count": 6,
      "outputs": [
        {
          "output_type": "stream",
          "text": [
            "/usr/local/lib/python3.7/dist-packages/ipykernel_launcher.py:9: SettingWithCopyWarning: \n",
            "A value is trying to be set on a copy of a slice from a DataFrame.\n",
            "Try using .loc[row_indexer,col_indexer] = value instead\n",
            "\n",
            "See the caveats in the documentation: https://pandas.pydata.org/pandas-docs/stable/user_guide/indexing.html#returning-a-view-versus-a-copy\n",
            "  if __name__ == '__main__':\n"
          ],
          "name": "stderr"
        }
      ]
    },
    {
      "cell_type": "code",
      "metadata": {
        "id": "uiTYjXYQ2sCT",
        "colab": {
          "base_uri": "https://localhost:8080/",
          "height": 204
        },
        "outputId": "b7d7e357-a6f4-4382-dae1-d4c48053d6e8"
      },
      "source": [
        "dfOutreach = pd.read_csv(WorkingFiles + \"dfOutreach.csv\")\n",
        "dfOutreach = dfOutreach[['Voter File VANID', 'ElectionType','CommunicationType', 'File']]\n",
        "outreach_voters = pd.merge(dfOutreach, dfVoters_sub, how='left', on='Voter File VANID')\n",
        "outreach_dem_df = outreach_voters[['Voter File VANID', 'ElectionType', 'CommunicationType',\n",
        "                                   'CountyName', 'AgeGroup', 'RaceName', 'Sex']]\n",
        "outreach_dem_df.head()"
      ],
      "execution_count": 7,
      "outputs": [
        {
          "output_type": "execute_result",
          "data": {
            "text/html": [
              "<div>\n",
              "<style scoped>\n",
              "    .dataframe tbody tr th:only-of-type {\n",
              "        vertical-align: middle;\n",
              "    }\n",
              "\n",
              "    .dataframe tbody tr th {\n",
              "        vertical-align: top;\n",
              "    }\n",
              "\n",
              "    .dataframe thead th {\n",
              "        text-align: right;\n",
              "    }\n",
              "</style>\n",
              "<table border=\"1\" class=\"dataframe\">\n",
              "  <thead>\n",
              "    <tr style=\"text-align: right;\">\n",
              "      <th></th>\n",
              "      <th>Voter File VANID</th>\n",
              "      <th>ElectionType</th>\n",
              "      <th>CommunicationType</th>\n",
              "      <th>CountyName</th>\n",
              "      <th>AgeGroup</th>\n",
              "      <th>RaceName</th>\n",
              "      <th>Sex</th>\n",
              "    </tr>\n",
              "  </thead>\n",
              "  <tbody>\n",
              "    <tr>\n",
              "      <th>0</th>\n",
              "      <td>82502</td>\n",
              "      <td>scomi</td>\n",
              "      <td>text</td>\n",
              "      <td>Wayne</td>\n",
              "      <td>65+</td>\n",
              "      <td>Caucasian</td>\n",
              "      <td>F</td>\n",
              "    </tr>\n",
              "    <tr>\n",
              "      <th>1</th>\n",
              "      <td>85510</td>\n",
              "      <td>scomi</td>\n",
              "      <td>text</td>\n",
              "      <td>Wayne</td>\n",
              "      <td>45-64</td>\n",
              "      <td>Black</td>\n",
              "      <td>M</td>\n",
              "    </tr>\n",
              "    <tr>\n",
              "      <th>2</th>\n",
              "      <td>71010</td>\n",
              "      <td>scomi</td>\n",
              "      <td>text</td>\n",
              "      <td>Wayne</td>\n",
              "      <td>65+</td>\n",
              "      <td>Caucasian</td>\n",
              "      <td>F</td>\n",
              "    </tr>\n",
              "    <tr>\n",
              "      <th>3</th>\n",
              "      <td>44565</td>\n",
              "      <td>scomi</td>\n",
              "      <td>text</td>\n",
              "      <td>Wayne</td>\n",
              "      <td>65+</td>\n",
              "      <td>Caucasian</td>\n",
              "      <td>M</td>\n",
              "    </tr>\n",
              "    <tr>\n",
              "      <th>4</th>\n",
              "      <td>128077</td>\n",
              "      <td>scomi</td>\n",
              "      <td>text</td>\n",
              "      <td>Wayne</td>\n",
              "      <td>65+</td>\n",
              "      <td>Caucasian</td>\n",
              "      <td>M</td>\n",
              "    </tr>\n",
              "  </tbody>\n",
              "</table>\n",
              "</div>"
            ],
            "text/plain": [
              "   Voter File VANID ElectionType CommunicationType  ... AgeGroup   RaceName Sex\n",
              "0             82502        scomi              text  ...      65+  Caucasian   F\n",
              "1             85510        scomi              text  ...    45-64      Black   M\n",
              "2             71010        scomi              text  ...      65+  Caucasian   F\n",
              "3             44565        scomi              text  ...      65+  Caucasian   M\n",
              "4            128077        scomi              text  ...      65+  Caucasian   M\n",
              "\n",
              "[5 rows x 7 columns]"
            ]
          },
          "metadata": {
            "tags": []
          },
          "execution_count": 7
        }
      ]
    },
    {
      "cell_type": "code",
      "metadata": {
        "colab": {
          "base_uri": "https://localhost:8080/",
          "height": 103
        },
        "id": "6HpcSmMYXRwW",
        "outputId": "6e66d6d3-cfcf-4964-9b55-b9aee0f7340a"
      },
      "source": [
        "start_coords = (46.9540700, 142.7360300)\n",
        "folium_map = folium.Map(location=start_coords, zoom_start=14)\n",
        "folium_map._repr_html_()\n"
      ],
      "execution_count": 16,
      "outputs": [
        {
          "output_type": "execute_result",
          "data": {
            "application/vnd.google.colaboratory.intrinsic+json": {
              "type": "string"
            },
            "text/plain": [
              "'<div style=\"width:100%;\"><div style=\"position:relative;width:100%;height:0;padding-bottom:60%;\"><span style=\"color:#565656\">Make this Notebook Trusted to load map: File -> Trust Notebook</span><iframe src=\"about:blank\" style=\"position:absolute;width:100%;height:100%;left:0;top:0;border:none !important;\" data-html=%3C%21DOCTYPE%20html%3E%0A%3Chead%3E%20%20%20%20%0A%20%20%20%20%3Cmeta%20http-equiv%3D%22content-type%22%20content%3D%22text/html%3B%20charset%3DUTF-8%22%20/%3E%0A%20%20%20%20%3Cscript%3EL_PREFER_CANVAS%3Dfalse%3B%20L_NO_TOUCH%3Dfalse%3B%20L_DISABLE_3D%3Dfalse%3B%3C/script%3E%0A%20%20%20%20%3Cscript%20src%3D%22https%3A//cdn.jsdelivr.net/npm/leaflet%401.4.0/dist/leaflet.js%22%3E%3C/script%3E%0A%20%20%20%20%3Cscript%20src%3D%22https%3A//code.jquery.com/jquery-1.12.4.min.js%22%3E%3C/script%3E%0A%20%20%20%20%3Cscript%20src%3D%22https%3A//maxcdn.bootstrapcdn.com/bootstrap/3.2.0/js/bootstrap.min.js%22%3E%3C/script%3E%0A%20%20%20%20%3Cscript%20src%3D%22https%3A//cdnjs.cloudflare.com/ajax/libs/Leaflet.awesome-markers/2.0.2/leaflet.awesome-markers.js%22%3E%3C/script%3E%0A%20%20%20%20%3Clink%20rel%3D%22stylesheet%22%20href%3D%22https%3A//cdn.jsdelivr.net/npm/leaflet%401.4.0/dist/leaflet.css%22/%3E%0A%20%20%20%20%3Clink%20rel%3D%22stylesheet%22%20href%3D%22https%3A//maxcdn.bootstrapcdn.com/bootstrap/3.2.0/css/bootstrap.min.css%22/%3E%0A%20%20%20%20%3Clink%20rel%3D%22stylesheet%22%20href%3D%22https%3A//maxcdn.bootstrapcdn.com/bootstrap/3.2.0/css/bootstrap-theme.min.css%22/%3E%0A%20%20%20%20%3Clink%20rel%3D%22stylesheet%22%20href%3D%22https%3A//maxcdn.bootstrapcdn.com/font-awesome/4.6.3/css/font-awesome.min.css%22/%3E%0A%20%20%20%20%3Clink%20rel%3D%22stylesheet%22%20href%3D%22https%3A//cdnjs.cloudflare.com/ajax/libs/Leaflet.awesome-markers/2.0.2/leaflet.awesome-markers.css%22/%3E%0A%20%20%20%20%3Clink%20rel%3D%22stylesheet%22%20href%3D%22https%3A//rawcdn.githack.com/python-visualization/folium/master/folium/templates/leaflet.awesome.rotate.css%22/%3E%0A%20%20%20%20%3Cstyle%3Ehtml%2C%20body%20%7Bwidth%3A%20100%25%3Bheight%3A%20100%25%3Bmargin%3A%200%3Bpadding%3A%200%3B%7D%3C/style%3E%0A%20%20%20%20%3Cstyle%3E%23map%20%7Bposition%3Aabsolute%3Btop%3A0%3Bbottom%3A0%3Bright%3A0%3Bleft%3A0%3B%7D%3C/style%3E%0A%20%20%20%20%0A%20%20%20%20%3Cmeta%20name%3D%22viewport%22%20content%3D%22width%3Ddevice-width%2C%0A%20%20%20%20%20%20%20%20initial-scale%3D1.0%2C%20maximum-scale%3D1.0%2C%20user-scalable%3Dno%22%20/%3E%0A%20%20%20%20%3Cstyle%3E%23map_76f7433f33094f95b559b28921310120%20%7B%0A%20%20%20%20%20%20%20%20position%3A%20relative%3B%0A%20%20%20%20%20%20%20%20width%3A%20100.0%25%3B%0A%20%20%20%20%20%20%20%20height%3A%20100.0%25%3B%0A%20%20%20%20%20%20%20%20left%3A%200.0%25%3B%0A%20%20%20%20%20%20%20%20top%3A%200.0%25%3B%0A%20%20%20%20%20%20%20%20%7D%0A%20%20%20%20%3C/style%3E%0A%3C/head%3E%0A%3Cbody%3E%20%20%20%20%0A%20%20%20%20%0A%20%20%20%20%3Cdiv%20class%3D%22folium-map%22%20id%3D%22map_76f7433f33094f95b559b28921310120%22%20%3E%3C/div%3E%0A%3C/body%3E%0A%3Cscript%3E%20%20%20%20%0A%20%20%20%20%0A%20%20%20%20%0A%20%20%20%20%20%20%20%20var%20bounds%20%3D%20null%3B%0A%20%20%20%20%0A%0A%20%20%20%20var%20map_76f7433f33094f95b559b28921310120%20%3D%20L.map%28%0A%20%20%20%20%20%20%20%20%27map_76f7433f33094f95b559b28921310120%27%2C%20%7B%0A%20%20%20%20%20%20%20%20center%3A%20%5B46.95407%2C%20142.73603%5D%2C%0A%20%20%20%20%20%20%20%20zoom%3A%2014%2C%0A%20%20%20%20%20%20%20%20maxBounds%3A%20bounds%2C%0A%20%20%20%20%20%20%20%20layers%3A%20%5B%5D%2C%0A%20%20%20%20%20%20%20%20worldCopyJump%3A%20false%2C%0A%20%20%20%20%20%20%20%20crs%3A%20L.CRS.EPSG3857%2C%0A%20%20%20%20%20%20%20%20zoomControl%3A%20true%2C%0A%20%20%20%20%20%20%20%20%7D%29%3B%0A%0A%0A%20%20%20%20%0A%20%20%20%20var%20tile_layer_01e2e9dfb51647f5b39eb50cb5610310%20%3D%20L.tileLayer%28%0A%20%20%20%20%20%20%20%20%27https%3A//%7Bs%7D.tile.openstreetmap.org/%7Bz%7D/%7Bx%7D/%7By%7D.png%27%2C%0A%20%20%20%20%20%20%20%20%7B%0A%20%20%20%20%20%20%20%20%22attribution%22%3A%20null%2C%0A%20%20%20%20%20%20%20%20%22detectRetina%22%3A%20false%2C%0A%20%20%20%20%20%20%20%20%22maxNativeZoom%22%3A%2018%2C%0A%20%20%20%20%20%20%20%20%22maxZoom%22%3A%2018%2C%0A%20%20%20%20%20%20%20%20%22minZoom%22%3A%200%2C%0A%20%20%20%20%20%20%20%20%22noWrap%22%3A%20false%2C%0A%20%20%20%20%20%20%20%20%22opacity%22%3A%201%2C%0A%20%20%20%20%20%20%20%20%22subdomains%22%3A%20%22abc%22%2C%0A%20%20%20%20%20%20%20%20%22tms%22%3A%20false%0A%7D%29.addTo%28map_76f7433f33094f95b559b28921310120%29%3B%0A%3C/script%3E onload=\"this.contentDocument.open();this.contentDocument.write(    decodeURIComponent(this.getAttribute(\\'data-html\\')));this.contentDocument.close();\" allowfullscreen webkitallowfullscreen mozallowfullscreen></iframe></div></div>'"
            ]
          },
          "metadata": {
            "tags": []
          },
          "execution_count": 16
        }
      ]
    },
    {
      "cell_type": "markdown",
      "metadata": {
        "id": "mAAKu5Ddhl4k"
      },
      "source": [
        "# Build our Dashboard"
      ]
    },
    {
      "cell_type": "code",
      "metadata": {
        "colab": {
          "base_uri": "https://localhost:8080/"
        },
        "id": "t-k8QwO1vTCS",
        "outputId": "96e41263-9d64-4952-b367-16db8f676eb0"
      },
      "source": [
        "#Set up all our filter columns\n",
        "FilterColumnNames = [\"RaceName\", \"Sex\", \"AgeGroup\", \"CountyName\"]\n",
        "FilterColumns = {}\n",
        "import math\n",
        "import numpy as np\n",
        "\n",
        "for column in FilterColumnNames:\n",
        "  FilterColumns[column] = list(outreach_dem_df[column].astype(\"str\").replace(np.nan, 'nan', regex=True).unique())\n",
        "  FilterColumns[column].append(\"All\")\n",
        "  print(FilterColumns[column])\n",
        "\n",
        "ImportantColumnNames = FilterColumnNames.copy()\n",
        "ImportantColumnNames.append(['CommunicationType', 'ElectionType'])\n",
        "\n",
        "outreach_dem_df_nan = outreach_dem_df.copy()\n",
        "outreach_dem_df_nan[\"AgeGroup\"] = outreach_dem_df_nan[\"AgeGroup\"].astype(\"str\")\n",
        "outreach_dem_df_nan.head()\n",
        "\n",
        "outreach_dem_df_nan = outreach_dem_df_nan.replace(np.nan, 'nan', regex=True)\n",
        "outreach_dem_df_nan = outreach_dem_df_nan.replace(np.nan, 'nan', regex=True)\n",
        "\n",
        "\n",
        "df_aggregate = outreach_dem_df_nan.groupby([\"RaceName\", \"Sex\", \"AgeGroup\", \"CountyName\", \n",
        "                                        'CommunicationType', 'ElectionType']).count().reset_index()\n",
        "df_aggregate = df_aggregate.rename(columns={\"Voter File VANID\": \"Count\"})"
      ],
      "execution_count": 9,
      "outputs": [
        {
          "output_type": "stream",
          "text": [
            "['Caucasian', 'Black', 'Unknown', 'Hispanic', 'Asian', 'Native American', 'nan', 'All']\n",
            "['F', 'M', 'U', 'nan', 'All']\n",
            "['65+', '45-64', '18-29', '30-44', 'nan', 'All']\n",
            "['Wayne', 'Macomb', 'Oakland', 'Genesee', 'Washtenaw', 'Crawford', 'Berrien', 'Benzie', 'Jackson', 'Presque Isle', 'Marquette', 'Houghton', 'Ingham', 'Kent', 'Oscoda', 'Saginaw', 'Bay', 'Isabella', 'Lapeer', 'Clare', 'Eaton', 'Mason', 'Menominee', 'Dickinson', 'Clinton', 'Calhoun', 'St. Clair', 'Iosco', 'Ottawa', 'Chippewa', 'Monroe', 'Iron', 'Arenac', 'Wexford', 'Emmet', 'Gladwin', 'Allegan', 'Kalamazoo', 'Missaukee', 'Otsego', 'Mackinac', 'Delta', 'Hillsdale', 'Newaygo', 'Livingston', 'Branch', 'Lenawee', 'Osceola', 'Cheboygan', 'Sanilac', 'Roscommon', 'Van Buren', 'Shiawassee', 'Schoolcraft', 'Tuscola', 'Montcalm', 'Grand Traverse', 'Muskegon', 'Ogemaw', 'Leelanau', 'Alcona', 'St. Joseph', 'Midland', 'Mecosta', 'Charlevoix', 'Manistee', 'Huron', 'Cass', 'Alpena', 'Barry', 'Ionia', 'Gratiot', 'Montmorency', 'Antrim', 'Oceana', 'Gogebic', 'Ontonagon', 'Kalkaska', 'Lake', 'Baraga', 'Alger', 'Keweenaw', 'Luce', 'nan', 'All']\n"
          ],
          "name": "stdout"
        }
      ]
    },
    {
      "cell_type": "code",
      "metadata": {
        "colab": {
          "base_uri": "https://localhost:8080/",
          "height": 221
        },
        "id": "pkwPZPIN84UG",
        "outputId": "bba8aba1-e760-4aa6-cc50-48bd95857a3c"
      },
      "source": [
        "#Pre aggregate the data as much as possible. Even if this only reduces your data by half it will provide a massive improvement to performance\n",
        "print(str(len(df)) + \" records reduce to \" + str(len(df_aggregate)))\n",
        "df_aggregate.head()"
      ],
      "execution_count": 10,
      "outputs": [
        {
          "output_type": "stream",
          "text": [
            "149854 records reduce to 3627\n"
          ],
          "name": "stdout"
        },
        {
          "output_type": "execute_result",
          "data": {
            "text/html": [
              "<div>\n",
              "<style scoped>\n",
              "    .dataframe tbody tr th:only-of-type {\n",
              "        vertical-align: middle;\n",
              "    }\n",
              "\n",
              "    .dataframe tbody tr th {\n",
              "        vertical-align: top;\n",
              "    }\n",
              "\n",
              "    .dataframe thead th {\n",
              "        text-align: right;\n",
              "    }\n",
              "</style>\n",
              "<table border=\"1\" class=\"dataframe\">\n",
              "  <thead>\n",
              "    <tr style=\"text-align: right;\">\n",
              "      <th></th>\n",
              "      <th>RaceName</th>\n",
              "      <th>Sex</th>\n",
              "      <th>AgeGroup</th>\n",
              "      <th>CountyName</th>\n",
              "      <th>CommunicationType</th>\n",
              "      <th>ElectionType</th>\n",
              "      <th>Count</th>\n",
              "    </tr>\n",
              "  </thead>\n",
              "  <tbody>\n",
              "    <tr>\n",
              "      <th>0</th>\n",
              "      <td>Asian</td>\n",
              "      <td>F</td>\n",
              "      <td>18-29</td>\n",
              "      <td>Calhoun</td>\n",
              "      <td>mail</td>\n",
              "      <td>lpv</td>\n",
              "      <td>1</td>\n",
              "    </tr>\n",
              "    <tr>\n",
              "      <th>1</th>\n",
              "      <td>Asian</td>\n",
              "      <td>F</td>\n",
              "      <td>18-29</td>\n",
              "      <td>Calhoun</td>\n",
              "      <td>text</td>\n",
              "      <td>lpv</td>\n",
              "      <td>7</td>\n",
              "    </tr>\n",
              "    <tr>\n",
              "      <th>2</th>\n",
              "      <td>Asian</td>\n",
              "      <td>F</td>\n",
              "      <td>18-29</td>\n",
              "      <td>Calhoun</td>\n",
              "      <td>text</td>\n",
              "      <td>scomi</td>\n",
              "      <td>2</td>\n",
              "    </tr>\n",
              "    <tr>\n",
              "      <th>3</th>\n",
              "      <td>Asian</td>\n",
              "      <td>F</td>\n",
              "      <td>18-29</td>\n",
              "      <td>Genesee</td>\n",
              "      <td>text</td>\n",
              "      <td>scomi</td>\n",
              "      <td>2</td>\n",
              "    </tr>\n",
              "    <tr>\n",
              "      <th>4</th>\n",
              "      <td>Asian</td>\n",
              "      <td>F</td>\n",
              "      <td>18-29</td>\n",
              "      <td>Ingham</td>\n",
              "      <td>mail</td>\n",
              "      <td>lpv</td>\n",
              "      <td>6</td>\n",
              "    </tr>\n",
              "  </tbody>\n",
              "</table>\n",
              "</div>"
            ],
            "text/plain": [
              "  RaceName Sex AgeGroup CountyName CommunicationType ElectionType  Count\n",
              "0    Asian   F    18-29    Calhoun              mail          lpv      1\n",
              "1    Asian   F    18-29    Calhoun              text          lpv      7\n",
              "2    Asian   F    18-29    Calhoun              text        scomi      2\n",
              "3    Asian   F    18-29    Genesee              text        scomi      2\n",
              "4    Asian   F    18-29     Ingham              mail          lpv      6"
            ]
          },
          "metadata": {
            "tags": []
          },
          "execution_count": 10
        }
      ]
    },
    {
      "cell_type": "code",
      "metadata": {
        "colab": {
          "base_uri": "https://localhost:8080/",
          "height": 773
        },
        "id": "HRdKXrNCpaMM",
        "outputId": "703a20d5-e86c-4681-bebc-c679e101894b"
      },
      "source": [
        "import altair as alt\n",
        "import io\n",
        "import dash\n",
        "import dash_core_components as dcc\n",
        "import dash_html_components as html\n",
        "import plotly.graph_objs as go\n",
        "from jupyter_dash import JupyterDash\n",
        "import plotly.express as px\n",
        "from vega_datasets import data\n",
        "import folium\n",
        "#alt.data_transformers.disable_max_rows()\n",
        "\n",
        "# Don't need this with the cars dataset\n",
        "alt.data_transformers.enable('default', max_rows=150000)\n",
        "\n",
        "cars = data.cars()\n",
        "\n",
        "external_stylesheets = ['https://codepen.io/chriddyp/pen/bWLwgP.css']\n",
        "app = JupyterDash(__name__, external_stylesheets=external_stylesheets)\n",
        "app.css.append_css({'external_url':\n",
        "                    'https://cdn.rawgit.com/gschivley/8040fc3c7e11d2a4e7f0589ffc829a02/raw/fe763af6be3fc79eca341b04cd641124de6f6f0d/dash.css'\n",
        "                    })\n",
        "app.title = 'Test dash and altair'\n",
        "server = app.server\n",
        "\n",
        "#Build our dropdowns for each of the Filter Columns\n",
        "DropDowns = []\n",
        "inputs = []\n",
        "for ColumnName in FilterColumnNames:\n",
        "    DropDowns.append(\n",
        "        html.Div([\n",
        "            html.Label(ColumnName),\n",
        "            dcc.Dropdown(\n",
        "                id=ColumnName,\n",
        "                options=[{'label': i, 'value':i} for i in FilterColumns[ColumnName]],\n",
        "                value='All'\n",
        "            )\n",
        "        ],\n",
        "        style={'width': '250px', 'marginRight': 'auto',\n",
        "              'marginLeft': 'auto', 'textAlign': 'center'},\n",
        "        className='column'))\n",
        "    inputs.append(dash.dependencies.Input(ColumnName, 'value'))\n",
        "\n",
        "#Build our main layout\n",
        "app.layout = html.Div(children=[html.Div(children=DropDowns, className='row'), html.Pre(id='plot', children=\"If this doesn't go away you have an error\")])\n",
        "\n",
        "@app.callback(\n",
        "    dash.dependencies.Output('plot', 'children'),\n",
        "    inputs\n",
        ")\n",
        "def pick_figure(Race, Sex, AgeGroup, CountyName):\n",
        "    #This is our key. Filter everything before passing it into the charts.\n",
        "    dfFiltered = df_aggregate[((df_aggregate['RaceName'] == Race) | (Race == 'All') ) & \n",
        "                              ((df_aggregate['Sex'] == Sex) | (Sex == 'All')) &\n",
        "                              ((df_aggregate['AgeGroup'] == AgeGroup) | (AgeGroup == 'All')) &\n",
        "                              ((df_aggregate['CountyName'] == CountyName) | (CountyName == 'All'))]\n",
        "\n",
        "    #We should also aggregate it. This will keep our record count low and avoid errors. We will obviously need to add columns that we need.\n",
        "    #dfFiltered = dfFiltered.groupby(by=['2020_Biden_Support', 'CountyName']).sum()\n",
        "    #dfFiltered = dfFiltered.reset_index()\n",
        "\n",
        "    #Encode the Altair Chart\n",
        "    base = alt.Chart(dfFiltered).mark_bar().encode(\n",
        "    x='Count:Q',\n",
        "    y = alt.Y('CommunicationType:N', title=None),\n",
        "    color='CommunicationType:N',\n",
        "    row='ElectionType:N').properties(title='Election by Communication Type')\n",
        "\n",
        "    # Save html as a StringIO object in memory\n",
        "    htmloutput = io.StringIO()\n",
        "    base.save(htmloutput, 'html')\n",
        "\n",
        "    chart1 = html.Iframe(\n",
        "        height='500',\n",
        "        width='1000',\n",
        "        #sandbox='allow-scripts',\n",
        "\n",
        "        # This is where we will pass the html\n",
        "        srcDoc = htmloutput.getvalue(),\n",
        "\n",
        "        # Get rid of the border box\n",
        "        style={'border-width': '0px'}\n",
        "    )\n",
        "\n",
        "    #Create a simple Plotly Express chart\n",
        "\n",
        "    chart2 = dcc.Graph(\n",
        "      id='example-graph',\n",
        "      figure=px.histogram(\n",
        "          dfFiltered, \n",
        "          x=\"CommunicationType\", \n",
        "          y=\"Count\", \n",
        "          histfunc='sum'),\n",
        "      style={'width': '100vh', 'height': '50vh'}\n",
        "    )\n",
        "\n",
        "    #Add a folium map\n",
        "    start_coords = (46.9540700, 142.7360300)\n",
        "    folium_map = folium.Map(location=start_coords, zoom_start=14)\n",
        "    chart3 = html.Iframe(\n",
        "        height='500',\n",
        "        width='1000',\n",
        "\n",
        "        # This is where we will pass the html\n",
        "        srcDoc = folium_map._repr_html_(),\n",
        "\n",
        "        # Get rid of the border box\n",
        "        style={'border-width': '0px'}\n",
        "    )\n",
        "    # Return the html from StringIO object\n",
        "    return chart2, chart1, chart3\n",
        "    #return chart2\n",
        "\n",
        "#We can only have 1 instance of Dash running at a time.\n",
        "app.run_server(mode=\"inline\")"
      ],
      "execution_count": 28,
      "outputs": [
        {
          "output_type": "stream",
          "text": [
            "/usr/local/lib/python3.7/dist-packages/dash/resources.py:72: UserWarning:\n",
            "\n",
            "You have set your config to `serve_locally=True` but A local version of https://cdn.rawgit.com/gschivley/8040fc3c7e11d2a4e7f0589ffc829a02/raw/fe763af6be3fc79eca341b04cd641124de6f6f0d/dash.css is not available.\n",
            "If you added this file with `app.scripts.append_script` or `app.css.append_css`, use `external_scripts` or `external_stylesheets` instead.\n",
            "See https://dash.plot.com/external-resources\n",
            "\n"
          ],
          "name": "stderr"
        },
        {
          "output_type": "display_data",
          "data": {
            "application/javascript": [
              "(async (port, path, width, height, cache, element) => {\n",
              "    if (!google.colab.kernel.accessAllowed && !cache) {\n",
              "      return;\n",
              "    }\n",
              "    element.appendChild(document.createTextNode(''));\n",
              "    const url = await google.colab.kernel.proxyPort(port, {cache});\n",
              "    const iframe = document.createElement('iframe');\n",
              "    iframe.src = new URL(path, url).toString();\n",
              "    iframe.height = height;\n",
              "    iframe.width = width;\n",
              "    iframe.style.border = 0;\n",
              "    element.appendChild(iframe);\n",
              "  })(8050, \"/\", \"100%\", 650, false, window.element)"
            ],
            "text/plain": [
              "<IPython.core.display.Javascript object>"
            ]
          },
          "metadata": {
            "tags": []
          }
        }
      ]
    },
    {
      "cell_type": "code",
      "metadata": {
        "id": "eJpe62UVvPz7"
      },
      "source": [
        ""
      ],
      "execution_count": null,
      "outputs": []
    }
  ]
}