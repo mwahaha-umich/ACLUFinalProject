{
  "nbformat": 4,
  "nbformat_minor": 0,
  "metadata": {
    "colab": {
      "name": "ACLU Project Part2Transform Data.ipynb",
      "provenance": [],
      "collapsed_sections": [],
      "include_colab_link": true
    },
    "kernelspec": {
      "name": "python3",
      "display_name": "Python 3"
    }
  },
  "cells": [
    {
      "cell_type": "markdown",
      "metadata": {
        "id": "view-in-github",
        "colab_type": "text"
      },
      "source": [
        "<a href=\"https://colab.research.google.com/github/mwahaha-umich/ACLUFinalProject/blob/main/ACLU_Project_Part2Transform_Data.ipynb\" target=\"_parent\"><img src=\"https://colab.research.google.com/assets/colab-badge.svg\" alt=\"Open In Colab\"/></a>"
      ]
    },
    {
      "cell_type": "markdown",
      "metadata": {
        "id": "555J29d5lyw6"
      },
      "source": [
        ""
      ]
    },
    {
      "cell_type": "code",
      "metadata": {
        "colab": {
          "base_uri": "https://localhost:8080/"
        },
        "id": "qCDKvxawJZSg",
        "outputId": "d4307d51-fa93-40a7-fff0-818d6bce364e"
      },
      "source": [
        "from google.colab import drive\n",
        "drive.mount('/content/drive')"
      ],
      "execution_count": null,
      "outputs": [
        {
          "output_type": "stream",
          "text": [
            "Mounted at /content/drive\n"
          ],
          "name": "stdout"
        }
      ]
    },
    {
      "cell_type": "code",
      "metadata": {
        "id": "tAp6S8A4tgjs"
      },
      "source": [
        "import os\n",
        "from os import listdir\n",
        "from os.path import isfile, join\n",
        "from pathlib import Path\n",
        "\n",
        "#GoogleDriveBase = \"/content/drive/My Drive/\" #Kyle\n",
        "GoogleDriveBase = \"/content/drive/MyDrive/content/drive/My Drive/Projects/\" #Anupriya\n",
        "#GoogleDriveBase = \"/content/drive/MyDrive/\" #Mackenzie\n",
        "#WorkingDirectory = GoogleDriveBase + \"Projects/ACLU/\" #Kyle\n",
        "WorkingDirectory = GoogleDriveBase + 'ACLU/' #Anupriya\n",
        "#WorkingDirectory = GoogleDriveBase + \"Projects/ACLU/\" #Mackenzie\n",
        "WorkingFiles = WorkingDirectory + 'WorkingFiles/'\n",
        "BasePickeDrive = GoogleDriveBase + WorkingDirectory + \"Pickle/\"\n",
        "\n",
        "\n",
        "#Make the necessary folders for the script to run.\n",
        "ListOfAllRequiredDirectories = [WorkingDirectory + 'Pickle', \n",
        "                          WorkingDirectory + 'WorkingFiles',\n",
        "                          WorkingDirectory + 'AdditionalData',\n",
        "                          WorkingDirectory + 'ACLUData']\n",
        "\n",
        "for folder in ListOfAllRequiredDirectories:\n",
        "  RunningPath = GoogleDriveBase + folder + \"/\"\n",
        "  Path(RunningPath).mkdir(parents=True, exist_ok=True)\n"
      ],
      "execution_count": null,
      "outputs": []
    },
    {
      "cell_type": "code",
      "metadata": {
        "id": "FCNEYtHltidD"
      },
      "source": [
        "import numpy\n",
        "import sys\n",
        "import csv\n",
        "import string\n",
        "import pandas as pd\n",
        "import gc\n",
        "import re\n",
        "import string"
      ],
      "execution_count": null,
      "outputs": []
    },
    {
      "cell_type": "code",
      "metadata": {
        "id": "mxcryyg6w3Ka",
        "colab": {
          "base_uri": "https://localhost:8080/"
        },
        "outputId": "f628f770-c439-4e15-aac8-f3a11842cbea"
      },
      "source": [
        "#dfVoters = pd.read_csv(WorkingFiles + \"dfVoters.csv\", dtype=str) #Not needed for the transformations\n",
        "dfMerged = pd.read_csv(WorkingFiles + \"dfMerged.csv\")\n"
      ],
      "execution_count": null,
      "outputs": [
        {
          "output_type": "stream",
          "text": [
            "/usr/local/lib/python3.7/dist-packages/IPython/core/interactiveshell.py:2718: DtypeWarning: Columns (16,17,18,19,20,21,23,27,29,31,32,34,36,39,40,42,44,46,48,49,50,52,53,54,55,56,57,58,60,61,65,66,68,70,71,72,73,74,75,76,77,78,79,80,81) have mixed types.Specify dtype option on import or set low_memory=False.\n",
            "  interactivity=interactivity, compiler=compiler, result=result)\n"
          ],
          "name": "stderr"
        }
      ]
    },
    {
      "cell_type": "markdown",
      "metadata": {
        "id": "VrgwM8z9sS_a"
      },
      "source": [
        "This is an example of duplicate data we found by combining the data files. It apepars that if a person is included in multiple outreach attempts, their full data will be included in each outreach attempt email. \n",
        "\n",
        "We went back and verified that this was expected behavior with the UCLA. Just make a note of it for now, we will be actually removing it further into this notebook."
      ]
    },
    {
      "cell_type": "code",
      "metadata": {
        "colab": {
          "base_uri": "https://localhost:8080/",
          "height": 194
        },
        "id": "uLIkx5r-iCzk",
        "outputId": "ec044a36-d5ed-49f5-dcf9-02ec7a3dafcb"
      },
      "source": [
        "dfMerged[dfMerged[\"Voter File VANID\"] == 11]"
      ],
      "execution_count": null,
      "outputs": [
        {
          "output_type": "execute_result",
          "data": {
            "text/html": [
              "<div>\n",
              "<style scoped>\n",
              "    .dataframe tbody tr th:only-of-type {\n",
              "        vertical-align: middle;\n",
              "    }\n",
              "\n",
              "    .dataframe tbody tr th {\n",
              "        vertical-align: top;\n",
              "    }\n",
              "\n",
              "    .dataframe thead th {\n",
              "        text-align: right;\n",
              "    }\n",
              "</style>\n",
              "<table border=\"1\" class=\"dataframe\">\n",
              "  <thead>\n",
              "    <tr style=\"text-align: right;\">\n",
              "      <th></th>\n",
              "      <th>Unnamed: 0</th>\n",
              "      <th>index</th>\n",
              "      <th>Voter File VANID</th>\n",
              "      <th>StateFileID</th>\n",
              "      <th>General20</th>\n",
              "      <th>General19</th>\n",
              "      <th>General18</th>\n",
              "      <th>General17</th>\n",
              "      <th>General16</th>\n",
              "      <th>General15</th>\n",
              "      <th>General14</th>\n",
              "      <th>General12</th>\n",
              "      <th>General11</th>\n",
              "      <th>General10</th>\n",
              "      <th>General09</th>\n",
              "      <th>General08</th>\n",
              "      <th>General06</th>\n",
              "      <th>General04</th>\n",
              "      <th>General02</th>\n",
              "      <th>General00</th>\n",
              "      <th>General98</th>\n",
              "      <th>Municipal13</th>\n",
              "      <th>PresPrimary20</th>\n",
              "      <th>PresPrimary20Party</th>\n",
              "      <th>PresPrimary16</th>\n",
              "      <th>PresPrimary16Party</th>\n",
              "      <th>PresPrimary12</th>\n",
              "      <th>PresPrimary12Party</th>\n",
              "      <th>PresPrimary08</th>\n",
              "      <th>PresPrimary08Party</th>\n",
              "      <th>Primary20</th>\n",
              "      <th>Primary20Party</th>\n",
              "      <th>Primary19Party</th>\n",
              "      <th>Primary18</th>\n",
              "      <th>Primary18Party</th>\n",
              "      <th>Primary17</th>\n",
              "      <th>Primary17Party</th>\n",
              "      <th>Primary16</th>\n",
              "      <th>Primary16Party</th>\n",
              "      <th>Primary15</th>\n",
              "      <th>...</th>\n",
              "      <th>Primary12Party</th>\n",
              "      <th>Primary11</th>\n",
              "      <th>Primary11Party</th>\n",
              "      <th>Primary10</th>\n",
              "      <th>Primary10Party</th>\n",
              "      <th>Primary09</th>\n",
              "      <th>Primary09Party</th>\n",
              "      <th>Primary08</th>\n",
              "      <th>Primary08Party</th>\n",
              "      <th>Primary06</th>\n",
              "      <th>Primary04</th>\n",
              "      <th>Primary02</th>\n",
              "      <th>Primary01</th>\n",
              "      <th>Primary00</th>\n",
              "      <th>Primary98</th>\n",
              "      <th>Special20</th>\n",
              "      <th>Special19</th>\n",
              "      <th>Special18</th>\n",
              "      <th>Special17</th>\n",
              "      <th>Special16</th>\n",
              "      <th>Special15</th>\n",
              "      <th>Special13</th>\n",
              "      <th>Special12</th>\n",
              "      <th>Special11</th>\n",
              "      <th>Special10</th>\n",
              "      <th>Special09</th>\n",
              "      <th>Special08</th>\n",
              "      <th>Special07</th>\n",
              "      <th>Special06</th>\n",
              "      <th>Special05</th>\n",
              "      <th>Special04</th>\n",
              "      <th>Special03</th>\n",
              "      <th>Special02</th>\n",
              "      <th>Special01</th>\n",
              "      <th>Special00</th>\n",
              "      <th>Special99</th>\n",
              "      <th>Special98</th>\n",
              "      <th>Ballot_Application</th>\n",
              "      <th>Voting_Nov_Gen</th>\n",
              "      <th>VotedStatus</th>\n",
              "    </tr>\n",
              "  </thead>\n",
              "  <tbody>\n",
              "    <tr>\n",
              "      <th>1115312</th>\n",
              "      <td>1115312</td>\n",
              "      <td>76968</td>\n",
              "      <td>11</td>\n",
              "      <td>106369799.0</td>\n",
              "      <td>A</td>\n",
              "      <td>NaN</td>\n",
              "      <td>P</td>\n",
              "      <td>NaN</td>\n",
              "      <td>P</td>\n",
              "      <td>NaN</td>\n",
              "      <td>NaN</td>\n",
              "      <td>NaN</td>\n",
              "      <td>NaN</td>\n",
              "      <td>NaN</td>\n",
              "      <td>NaN</td>\n",
              "      <td>P</td>\n",
              "      <td>Y</td>\n",
              "      <td>NaN</td>\n",
              "      <td>NaN</td>\n",
              "      <td>NaN</td>\n",
              "      <td>NaN</td>\n",
              "      <td>NaN</td>\n",
              "      <td>NaN</td>\n",
              "      <td>NaN</td>\n",
              "      <td>NaN</td>\n",
              "      <td>NaN</td>\n",
              "      <td>NaN</td>\n",
              "      <td>NaN</td>\n",
              "      <td>NaN</td>\n",
              "      <td>NaN</td>\n",
              "      <td>A</td>\n",
              "      <td>NaN</td>\n",
              "      <td>NaN</td>\n",
              "      <td>NaN</td>\n",
              "      <td>NaN</td>\n",
              "      <td>NaN</td>\n",
              "      <td>NaN</td>\n",
              "      <td>NaN</td>\n",
              "      <td>NaN</td>\n",
              "      <td>NaN</td>\n",
              "      <td>...</td>\n",
              "      <td>NaN</td>\n",
              "      <td>NaN</td>\n",
              "      <td>NaN</td>\n",
              "      <td>NaN</td>\n",
              "      <td>NaN</td>\n",
              "      <td>NaN</td>\n",
              "      <td>NaN</td>\n",
              "      <td>NaN</td>\n",
              "      <td>NaN</td>\n",
              "      <td>NaN</td>\n",
              "      <td>NaN</td>\n",
              "      <td>NaN</td>\n",
              "      <td>NaN</td>\n",
              "      <td>NaN</td>\n",
              "      <td>NaN</td>\n",
              "      <td>A</td>\n",
              "      <td>NaN</td>\n",
              "      <td>NaN</td>\n",
              "      <td>NaN</td>\n",
              "      <td>NaN</td>\n",
              "      <td>NaN</td>\n",
              "      <td>NaN</td>\n",
              "      <td>NaN</td>\n",
              "      <td>NaN</td>\n",
              "      <td>NaN</td>\n",
              "      <td>NaN</td>\n",
              "      <td>NaN</td>\n",
              "      <td>NaN</td>\n",
              "      <td>NaN</td>\n",
              "      <td>NaN</td>\n",
              "      <td>NaN</td>\n",
              "      <td>NaN</td>\n",
              "      <td>NaN</td>\n",
              "      <td>NaN</td>\n",
              "      <td>NaN</td>\n",
              "      <td>NaN</td>\n",
              "      <td>NaN</td>\n",
              "      <td>NaN</td>\n",
              "      <td>NaN</td>\n",
              "      <td>NaN</td>\n",
              "    </tr>\n",
              "    <tr>\n",
              "      <th>1172222</th>\n",
              "      <td>1172222</td>\n",
              "      <td>42602</td>\n",
              "      <td>11</td>\n",
              "      <td>106369799.0</td>\n",
              "      <td>A</td>\n",
              "      <td>NaN</td>\n",
              "      <td>P</td>\n",
              "      <td>NaN</td>\n",
              "      <td>P</td>\n",
              "      <td>NaN</td>\n",
              "      <td>NaN</td>\n",
              "      <td>NaN</td>\n",
              "      <td>NaN</td>\n",
              "      <td>NaN</td>\n",
              "      <td>NaN</td>\n",
              "      <td>P</td>\n",
              "      <td>Y</td>\n",
              "      <td>NaN</td>\n",
              "      <td>NaN</td>\n",
              "      <td>NaN</td>\n",
              "      <td>NaN</td>\n",
              "      <td>NaN</td>\n",
              "      <td>NaN</td>\n",
              "      <td>NaN</td>\n",
              "      <td>NaN</td>\n",
              "      <td>NaN</td>\n",
              "      <td>NaN</td>\n",
              "      <td>NaN</td>\n",
              "      <td>NaN</td>\n",
              "      <td>NaN</td>\n",
              "      <td>A</td>\n",
              "      <td>NaN</td>\n",
              "      <td>NaN</td>\n",
              "      <td>NaN</td>\n",
              "      <td>NaN</td>\n",
              "      <td>NaN</td>\n",
              "      <td>NaN</td>\n",
              "      <td>NaN</td>\n",
              "      <td>NaN</td>\n",
              "      <td>NaN</td>\n",
              "      <td>...</td>\n",
              "      <td>NaN</td>\n",
              "      <td>NaN</td>\n",
              "      <td>NaN</td>\n",
              "      <td>NaN</td>\n",
              "      <td>NaN</td>\n",
              "      <td>NaN</td>\n",
              "      <td>NaN</td>\n",
              "      <td>NaN</td>\n",
              "      <td>NaN</td>\n",
              "      <td>NaN</td>\n",
              "      <td>NaN</td>\n",
              "      <td>NaN</td>\n",
              "      <td>NaN</td>\n",
              "      <td>NaN</td>\n",
              "      <td>NaN</td>\n",
              "      <td>A</td>\n",
              "      <td>NaN</td>\n",
              "      <td>NaN</td>\n",
              "      <td>NaN</td>\n",
              "      <td>NaN</td>\n",
              "      <td>NaN</td>\n",
              "      <td>NaN</td>\n",
              "      <td>NaN</td>\n",
              "      <td>NaN</td>\n",
              "      <td>NaN</td>\n",
              "      <td>NaN</td>\n",
              "      <td>NaN</td>\n",
              "      <td>NaN</td>\n",
              "      <td>NaN</td>\n",
              "      <td>NaN</td>\n",
              "      <td>NaN</td>\n",
              "      <td>NaN</td>\n",
              "      <td>NaN</td>\n",
              "      <td>NaN</td>\n",
              "      <td>NaN</td>\n",
              "      <td>NaN</td>\n",
              "      <td>NaN</td>\n",
              "      <td>NaN</td>\n",
              "      <td>NaN</td>\n",
              "      <td>NaN</td>\n",
              "    </tr>\n",
              "  </tbody>\n",
              "</table>\n",
              "<p>2 rows × 84 columns</p>\n",
              "</div>"
            ],
            "text/plain": [
              "         Unnamed: 0  index  ...  Voting_Nov_Gen   VotedStatus\n",
              "1115312     1115312  76968  ...              NaN          NaN\n",
              "1172222     1172222  42602  ...              NaN          NaN\n",
              "\n",
              "[2 rows x 84 columns]"
            ]
          },
          "metadata": {
            "tags": []
          },
          "execution_count": 5
        }
      ]
    },
    {
      "cell_type": "markdown",
      "metadata": {
        "id": "ieIaT1SGXhp1"
      },
      "source": [
        "A: Absentee\n",
        "\n",
        "P: Polls (if there is a D or R, that is specifying which party they voted during the primary)\n",
        "\n",
        "M: This one is new to me. Let me check in with our database administrator\n",
        "\n",
        "Y: Yes—indicates that they voted, but we don’t have data on how they voted (in person vs. absentee)"
      ]
    },
    {
      "cell_type": "code",
      "metadata": {
        "id": "gxQAIJUQuP0w"
      },
      "source": [
        "primary_key = [\"Voter File VANID\"]\n",
        "columns_processed = []\n",
        "\n",
        "def ReshapeDataframeYears(df):\n",
        "  ColumnsToTransform = [\"Special##\", \"General##\", \"Primary##\", \"PresPrimary##\", \"PresPrimary##Party\", \"Primary##Party\", \"Municipal##\"]\n",
        "  #ColumnsToTransform = [\"Special##\"]\n",
        "  melted_dataframes = []\n",
        "  for name in ColumnsToTransform:\n",
        "    ColumnsForName = []\n",
        "    years = []\n",
        "    number_index = name.index(\"##\")\n",
        "    for column in df.columns:\n",
        "      if len(column) < len(name):\n",
        "        continue\n",
        "      first = column[0:number_index]\n",
        "      name_first = name[0:number_index]\n",
        "      number = column[number_index:number_index+2]\n",
        "      if len(column) - number_index+2 == 0:\n",
        "        second = \"\"\n",
        "        name_second = \"\"\n",
        "      else:\n",
        "        second = column[number_index+2:len(column)]\n",
        "        name_second = name[number_index+2:len(name)]\n",
        "\n",
        "      if first == name_first and second == name_second:\n",
        "        ColumnsForName.append(column)\n",
        "        columns_processed.append(column)\n",
        "        year = column[len(first):len(first)+2]\n",
        "\n",
        "        if int(year) < 50:\n",
        "          year = \"20\" + year\n",
        "        else:\n",
        "          year = \"19\" + year\n",
        "        years.append(year)\n",
        "        #print(int(year))\n",
        "    df_reduced = df[primary_key + ColumnsForName]\n",
        "    df_reduced.columns = primary_key + years\n",
        "    df_melted = pd.melt(df_reduced, id_vars=primary_key, value_vars=years)\n",
        "    \n",
        "    #Restructure the columns\n",
        "    final_columns = primary_key.copy()\n",
        "    final_columns.append(\"year\")\n",
        "    final_columns.append(\"participation\")\n",
        "    df_melted.columns = final_columns\n",
        "    df_melted[\"electiontype\"] = name\n",
        "    #Drop records where we don't have participation data. \n",
        "    df_melted = df_melted[df_melted['participation'].notna()] \n",
        "    #print(df_melted.head())\n",
        "    melted_dataframes.append(df_melted)\n",
        "  return melted_dataframes\n",
        "\n",
        "def CombineMeltedDataframes(melted_dataframes):\n",
        "  #Now join them all back together\n",
        "  #Rather silly that this is my method, but I tried a few different versions to find the most memory efficient way to do this\n",
        "  return pd.concat(melted_dataframes)\n",
        "\n",
        "melteddfs = ReshapeDataframeYears(dfMerged)\n",
        "ColumnsThatWereNotPartOfTheRestructuredColumns = set(dfMerged.columns) - set(columns_processed)\n"
      ],
      "execution_count": null,
      "outputs": []
    },
    {
      "cell_type": "markdown",
      "metadata": {
        "id": "B5KI_3KRtSuy"
      },
      "source": [
        "The following cell is just here fora  visual check to ensure that we aren't going to be leaving beyind any columns that we should care about. "
      ]
    },
    {
      "cell_type": "code",
      "metadata": {
        "colab": {
          "base_uri": "https://localhost:8080/",
          "height": 459
        },
        "id": "lz_jnpOrebVN",
        "outputId": "6f6b9b55-0c23-43e2-e23d-84893e53bea6"
      },
      "source": [
        "for column in ColumnsThatWereNotPartOfTheRestructuredColumns:\n",
        "  print(column)\n",
        "  print(dfMerged[column].unique())\n",
        "\n",
        "dfMerged[ColumnsThatWereNotPartOfTheRestructuredColumns].head()"
      ],
      "execution_count": null,
      "outputs": [
        {
          "output_type": "stream",
          "text": [
            "Unnamed: 0\n",
            "[      0       1       2 ... 3196828 3196829 3196830]\n",
            "index\n",
            "[     0      1      2 ... 343455 343456 343457]\n",
            "Voter File VANID\n",
            "[   82502    85510    71010 ... 19713544 19717863 20854760]\n",
            "Voting_Nov_Gen \n",
            "[nan 'Yes' 'Maybe/Unsure' 'No']\n",
            "Ballot_Application\n",
            "[nan 'No - need help/info' 'Yes' 'No - voting at polls' 'Not Asked']\n",
            "VotedStatus\n",
            "[nan]\n",
            "StateFileID\n",
            "[3.07112000e+05 3.12808000e+05 2.84376000e+05 ... 3.46065100e+07\n",
            " 3.47575320e+07 1.59840494e+08]\n"
          ],
          "name": "stdout"
        },
        {
          "output_type": "execute_result",
          "data": {
            "text/html": [
              "<div>\n",
              "<style scoped>\n",
              "    .dataframe tbody tr th:only-of-type {\n",
              "        vertical-align: middle;\n",
              "    }\n",
              "\n",
              "    .dataframe tbody tr th {\n",
              "        vertical-align: top;\n",
              "    }\n",
              "\n",
              "    .dataframe thead th {\n",
              "        text-align: right;\n",
              "    }\n",
              "</style>\n",
              "<table border=\"1\" class=\"dataframe\">\n",
              "  <thead>\n",
              "    <tr style=\"text-align: right;\">\n",
              "      <th></th>\n",
              "      <th>Unnamed: 0</th>\n",
              "      <th>index</th>\n",
              "      <th>Voter File VANID</th>\n",
              "      <th>Voting_Nov_Gen</th>\n",
              "      <th>Ballot_Application</th>\n",
              "      <th>VotedStatus</th>\n",
              "      <th>StateFileID</th>\n",
              "    </tr>\n",
              "  </thead>\n",
              "  <tbody>\n",
              "    <tr>\n",
              "      <th>0</th>\n",
              "      <td>0</td>\n",
              "      <td>0</td>\n",
              "      <td>82502</td>\n",
              "      <td>NaN</td>\n",
              "      <td>NaN</td>\n",
              "      <td>NaN</td>\n",
              "      <td>307112.0</td>\n",
              "    </tr>\n",
              "    <tr>\n",
              "      <th>1</th>\n",
              "      <td>1</td>\n",
              "      <td>1</td>\n",
              "      <td>85510</td>\n",
              "      <td>NaN</td>\n",
              "      <td>NaN</td>\n",
              "      <td>NaN</td>\n",
              "      <td>312808.0</td>\n",
              "    </tr>\n",
              "    <tr>\n",
              "      <th>2</th>\n",
              "      <td>2</td>\n",
              "      <td>2</td>\n",
              "      <td>71010</td>\n",
              "      <td>NaN</td>\n",
              "      <td>NaN</td>\n",
              "      <td>NaN</td>\n",
              "      <td>284376.0</td>\n",
              "    </tr>\n",
              "    <tr>\n",
              "      <th>3</th>\n",
              "      <td>3</td>\n",
              "      <td>3</td>\n",
              "      <td>44565</td>\n",
              "      <td>NaN</td>\n",
              "      <td>NaN</td>\n",
              "      <td>NaN</td>\n",
              "      <td>229902.0</td>\n",
              "    </tr>\n",
              "    <tr>\n",
              "      <th>4</th>\n",
              "      <td>4</td>\n",
              "      <td>4</td>\n",
              "      <td>128077</td>\n",
              "      <td>NaN</td>\n",
              "      <td>NaN</td>\n",
              "      <td>NaN</td>\n",
              "      <td>391301.0</td>\n",
              "    </tr>\n",
              "  </tbody>\n",
              "</table>\n",
              "</div>"
            ],
            "text/plain": [
              "   Unnamed: 0  index  ...  VotedStatus StateFileID\n",
              "0           0      0  ...          NaN    307112.0\n",
              "1           1      1  ...          NaN    312808.0\n",
              "2           2      2  ...          NaN    284376.0\n",
              "3           3      3  ...          NaN    229902.0\n",
              "4           4      4  ...          NaN    391301.0\n",
              "\n",
              "[5 rows x 7 columns]"
            ]
          },
          "metadata": {
            "tags": []
          },
          "execution_count": 7
        }
      ]
    },
    {
      "cell_type": "code",
      "metadata": {
        "id": "ETJ29N45cUzN",
        "colab": {
          "base_uri": "https://localhost:8080/"
        },
        "outputId": "9a81fa70-a1a7-4739-dded-1238e99ed2b2"
      },
      "source": [
        "del dfMerged\n",
        "gc.collect()\n",
        "\n",
        "dfreshaped = CombineMeltedDataframes(melteddfs)\n",
        "\n",
        "del melteddfs\n",
        "gc.collect()"
      ],
      "execution_count": null,
      "outputs": [
        {
          "output_type": "execute_result",
          "data": {
            "text/plain": [
              "0"
            ]
          },
          "metadata": {
            "tags": []
          },
          "execution_count": 8
        }
      ]
    },
    {
      "cell_type": "code",
      "metadata": {
        "id": "nsjQYfMd9_yE",
        "colab": {
          "base_uri": "https://localhost:8080/",
          "height": 204
        },
        "outputId": "be6f42a4-c9da-454c-d5e6-9789c14b7c4c"
      },
      "source": [
        "dfreshaped.head()"
      ],
      "execution_count": null,
      "outputs": [
        {
          "output_type": "execute_result",
          "data": {
            "text/html": [
              "<div>\n",
              "<style scoped>\n",
              "    .dataframe tbody tr th:only-of-type {\n",
              "        vertical-align: middle;\n",
              "    }\n",
              "\n",
              "    .dataframe tbody tr th {\n",
              "        vertical-align: top;\n",
              "    }\n",
              "\n",
              "    .dataframe thead th {\n",
              "        text-align: right;\n",
              "    }\n",
              "</style>\n",
              "<table border=\"1\" class=\"dataframe\">\n",
              "  <thead>\n",
              "    <tr style=\"text-align: right;\">\n",
              "      <th></th>\n",
              "      <th>Voter File VANID</th>\n",
              "      <th>year</th>\n",
              "      <th>participation</th>\n",
              "      <th>electiontype</th>\n",
              "    </tr>\n",
              "  </thead>\n",
              "  <tbody>\n",
              "    <tr>\n",
              "      <th>0</th>\n",
              "      <td>82502</td>\n",
              "      <td>2020</td>\n",
              "      <td>P</td>\n",
              "      <td>Special##</td>\n",
              "    </tr>\n",
              "    <tr>\n",
              "      <th>2</th>\n",
              "      <td>71010</td>\n",
              "      <td>2020</td>\n",
              "      <td>A</td>\n",
              "      <td>Special##</td>\n",
              "    </tr>\n",
              "    <tr>\n",
              "      <th>3</th>\n",
              "      <td>44565</td>\n",
              "      <td>2020</td>\n",
              "      <td>A</td>\n",
              "      <td>Special##</td>\n",
              "    </tr>\n",
              "    <tr>\n",
              "      <th>4</th>\n",
              "      <td>128077</td>\n",
              "      <td>2020</td>\n",
              "      <td>A</td>\n",
              "      <td>Special##</td>\n",
              "    </tr>\n",
              "    <tr>\n",
              "      <th>6</th>\n",
              "      <td>83085</td>\n",
              "      <td>2020</td>\n",
              "      <td>A</td>\n",
              "      <td>Special##</td>\n",
              "    </tr>\n",
              "  </tbody>\n",
              "</table>\n",
              "</div>"
            ],
            "text/plain": [
              "   Voter File VANID  year participation electiontype\n",
              "0             82502  2020             P    Special##\n",
              "2             71010  2020             A    Special##\n",
              "3             44565  2020             A    Special##\n",
              "4            128077  2020             A    Special##\n",
              "6             83085  2020             A    Special##"
            ]
          },
          "metadata": {
            "tags": []
          },
          "execution_count": 9
        }
      ]
    },
    {
      "cell_type": "code",
      "metadata": {
        "id": "xe-uD4KZuKHX"
      },
      "source": [
        "dfreshapedUnique = dfreshaped.drop_duplicates()"
      ],
      "execution_count": null,
      "outputs": []
    },
    {
      "cell_type": "code",
      "metadata": {
        "id": "bBWLnzfWhauw"
      },
      "source": [
        "dfreshapedUnique = dfreshapedUnique.sort_values([\"Voter File VANID\", \"year\"])"
      ],
      "execution_count": null,
      "outputs": []
    },
    {
      "cell_type": "code",
      "metadata": {
        "id": "toCERIATtA7U"
      },
      "source": [
        "dfreshapedUnique.to_csv(WorkingFiles + \"dfreshapedUnique.csv\", encoding='utf-8')"
      ],
      "execution_count": null,
      "outputs": []
    },
    {
      "cell_type": "code",
      "metadata": {
        "id": "TVHo9iZs8dBq",
        "colab": {
          "base_uri": "https://localhost:8080/",
          "height": 381
        },
        "outputId": "cec55e6e-fe0f-461f-c8c2-50da3ac43173"
      },
      "source": [
        "import altair as alt\n",
        "\n",
        "df_summary = dfreshaped.groupby([\"year\", \"electiontype\"]).count().reset_index()\n",
        "alt.Chart(df_summary).mark_line().encode(\n",
        "    x='year',\n",
        "    y='participation',\n",
        "    color='electiontype',\n",
        ")\n",
        "\n",
        "\n",
        "#df_summary = df_reshaped.groupby([\"year\"]).count().reset_index()\n",
        "#ax = plt.gca()\n",
        "#df_summary.plot(kind='line',x='year',y='Special##',ax=ax)\n",
        "#df_summary.head()"
      ],
      "execution_count": null,
      "outputs": [
        {
          "output_type": "execute_result",
          "data": {
            "text/plain": [
              "alt.Chart(...)"
            ],
            "text/html": [
              "\n",
              "<div id=\"altair-viz-5b044446c4a74d99898ea9463a87ed5d\"></div>\n",
              "<script type=\"text/javascript\">\n",
              "  (function(spec, embedOpt){\n",
              "    let outputDiv = document.currentScript.previousElementSibling;\n",
              "    if (outputDiv.id !== \"altair-viz-5b044446c4a74d99898ea9463a87ed5d\") {\n",
              "      outputDiv = document.getElementById(\"altair-viz-5b044446c4a74d99898ea9463a87ed5d\");\n",
              "    }\n",
              "    const paths = {\n",
              "      \"vega\": \"https://cdn.jsdelivr.net/npm//vega@5?noext\",\n",
              "      \"vega-lib\": \"https://cdn.jsdelivr.net/npm//vega-lib?noext\",\n",
              "      \"vega-lite\": \"https://cdn.jsdelivr.net/npm//vega-lite@4.8.1?noext\",\n",
              "      \"vega-embed\": \"https://cdn.jsdelivr.net/npm//vega-embed@6?noext\",\n",
              "    };\n",
              "\n",
              "    function loadScript(lib) {\n",
              "      return new Promise(function(resolve, reject) {\n",
              "        var s = document.createElement('script');\n",
              "        s.src = paths[lib];\n",
              "        s.async = true;\n",
              "        s.onload = () => resolve(paths[lib]);\n",
              "        s.onerror = () => reject(`Error loading script: ${paths[lib]}`);\n",
              "        document.getElementsByTagName(\"head\")[0].appendChild(s);\n",
              "      });\n",
              "    }\n",
              "\n",
              "    function showError(err) {\n",
              "      outputDiv.innerHTML = `<div class=\"error\" style=\"color:red;\">${err}</div>`;\n",
              "      throw err;\n",
              "    }\n",
              "\n",
              "    function displayChart(vegaEmbed) {\n",
              "      vegaEmbed(outputDiv, spec, embedOpt)\n",
              "        .catch(err => showError(`Javascript Error: ${err.message}<br>This usually means there's a typo in your chart specification. See the javascript console for the full traceback.`));\n",
              "    }\n",
              "\n",
              "    if(typeof define === \"function\" && define.amd) {\n",
              "      requirejs.config({paths});\n",
              "      require([\"vega-embed\"], displayChart, err => showError(`Error loading script: ${err.message}`));\n",
              "    } else if (typeof vegaEmbed === \"function\") {\n",
              "      displayChart(vegaEmbed);\n",
              "    } else {\n",
              "      loadScript(\"vega\")\n",
              "        .then(() => loadScript(\"vega-lite\"))\n",
              "        .then(() => loadScript(\"vega-embed\"))\n",
              "        .catch(showError)\n",
              "        .then(() => displayChart(vegaEmbed));\n",
              "    }\n",
              "  })({\"config\": {\"view\": {\"continuousWidth\": 400, \"continuousHeight\": 300}}, \"data\": {\"name\": \"data-4179ac92b856b966fd6591865e0a9799\"}, \"mark\": \"line\", \"encoding\": {\"color\": {\"type\": \"nominal\", \"field\": \"electiontype\"}, \"x\": {\"type\": \"nominal\", \"field\": \"year\"}, \"y\": {\"type\": \"quantitative\", \"field\": \"participation\"}}, \"$schema\": \"https://vega.github.io/schema/vega-lite/v4.8.1.json\", \"datasets\": {\"data-4179ac92b856b966fd6591865e0a9799\": [{\"year\": \"1998\", \"electiontype\": \"General##\", \"Voter File VANID\": 210687, \"participation\": 210687}, {\"year\": \"1998\", \"electiontype\": \"Primary##\", \"Voter File VANID\": 78769, \"participation\": 78769}, {\"year\": \"1998\", \"electiontype\": \"Special##\", \"Voter File VANID\": 3103, \"participation\": 3103}, {\"year\": \"1999\", \"electiontype\": \"Special##\", \"Voter File VANID\": 95939, \"participation\": 95939}, {\"year\": \"2000\", \"electiontype\": \"General##\", \"Voter File VANID\": 737023, \"participation\": 737023}, {\"year\": \"2000\", \"electiontype\": \"Primary##\", \"Voter File VANID\": 204898, \"participation\": 204898}, {\"year\": \"2000\", \"electiontype\": \"Special##\", \"Voter File VANID\": 65413, \"participation\": 65413}, {\"year\": \"2001\", \"electiontype\": \"Primary##\", \"Voter File VANID\": 77899, \"participation\": 77899}, {\"year\": \"2001\", \"electiontype\": \"Special##\", \"Voter File VANID\": 239216, \"participation\": 239216}, {\"year\": \"2002\", \"electiontype\": \"General##\", \"Voter File VANID\": 585054, \"participation\": 585054}, {\"year\": \"2002\", \"electiontype\": \"Primary##\", \"Voter File VANID\": 321234, \"participation\": 321234}, {\"year\": \"2002\", \"electiontype\": \"Special##\", \"Voter File VANID\": 79648, \"participation\": 79648}, {\"year\": \"2003\", \"electiontype\": \"Special##\", \"Voter File VANID\": 207700, \"participation\": 207700}, {\"year\": \"2004\", \"electiontype\": \"General##\", \"Voter File VANID\": 1020449, \"participation\": 1020449}, {\"year\": \"2004\", \"electiontype\": \"Primary##\", \"Voter File VANID\": 217384, \"participation\": 217384}, {\"year\": \"2004\", \"electiontype\": \"Special##\", \"Voter File VANID\": 119511, \"participation\": 119511}, {\"year\": \"2005\", \"electiontype\": \"Special##\", \"Voter File VANID\": 307050, \"participation\": 307050}, {\"year\": \"2006\", \"electiontype\": \"General##\", \"Voter File VANID\": 838785, \"participation\": 838785}, {\"year\": \"2006\", \"electiontype\": \"Primary##\", \"Voter File VANID\": 235179, \"participation\": 235179}, {\"year\": \"2006\", \"electiontype\": \"Special##\", \"Voter File VANID\": 116749, \"participation\": 116749}, {\"year\": \"2007\", \"electiontype\": \"Special##\", \"Voter File VANID\": 242897, \"participation\": 242897}, {\"year\": \"2008\", \"electiontype\": \"General##\", \"Voter File VANID\": 1428110, \"participation\": 1428110}, {\"year\": \"2008\", \"electiontype\": \"PresPrimary##\", \"Voter File VANID\": 346917, \"participation\": 346917}, {\"year\": \"2008\", \"electiontype\": \"PresPrimary##Party\", \"Voter File VANID\": 13101, \"participation\": 13101}, {\"year\": \"2008\", \"electiontype\": \"Primary##\", \"Voter File VANID\": 483830, \"participation\": 483830}, {\"year\": \"2008\", \"electiontype\": \"Primary##Party\", \"Voter File VANID\": 13539, \"participation\": 13539}, {\"year\": \"2008\", \"electiontype\": \"Special##\", \"Voter File VANID\": 49882, \"participation\": 49882}, {\"year\": \"2009\", \"electiontype\": \"General##\", \"Voter File VANID\": 252293, \"participation\": 252293}, {\"year\": \"2009\", \"electiontype\": \"Primary##\", \"Voter File VANID\": 59845, \"participation\": 59845}, {\"year\": \"2009\", \"electiontype\": \"Primary##Party\", \"Voter File VANID\": 462, \"participation\": 462}, {\"year\": \"2009\", \"electiontype\": \"Special##\", \"Voter File VANID\": 291405, \"participation\": 291405}, {\"year\": \"2010\", \"electiontype\": \"General##\", \"Voter File VANID\": 855649, \"participation\": 855649}, {\"year\": \"2010\", \"electiontype\": \"Primary##\", \"Voter File VANID\": 372106, \"participation\": 372106}, {\"year\": \"2010\", \"electiontype\": \"Primary##Party\", \"Voter File VANID\": 4621, \"participation\": 4621}, {\"year\": \"2010\", \"electiontype\": \"Special##\", \"Voter File VANID\": 69834, \"participation\": 69834}, {\"year\": \"2011\", \"electiontype\": \"General##\", \"Voter File VANID\": 238790, \"participation\": 238790}, {\"year\": \"2011\", \"electiontype\": \"Primary##\", \"Voter File VANID\": 57514, \"participation\": 57514}, {\"year\": \"2011\", \"electiontype\": \"Primary##Party\", \"Voter File VANID\": 589, \"participation\": 589}, {\"year\": \"2011\", \"electiontype\": \"Special##\", \"Voter File VANID\": 275574, \"participation\": 275574}, {\"year\": \"2012\", \"electiontype\": \"General##\", \"Voter File VANID\": 1525950, \"participation\": 1525950}, {\"year\": \"2012\", \"electiontype\": \"PresPrimary##\", \"Voter File VANID\": 224447, \"participation\": 224447}, {\"year\": \"2012\", \"electiontype\": \"PresPrimary##Party\", \"Voter File VANID\": 4304, \"participation\": 4304}, {\"year\": \"2012\", \"electiontype\": \"Primary##\", \"Voter File VANID\": 472412, \"participation\": 472412}, {\"year\": \"2012\", \"electiontype\": \"Primary##Party\", \"Voter File VANID\": 5199, \"participation\": 5199}, {\"year\": \"2012\", \"electiontype\": \"Special##\", \"Voter File VANID\": 47435, \"participation\": 47435}, {\"year\": \"2013\", \"electiontype\": \"Municipal##\", \"Voter File VANID\": 48901, \"participation\": 48901}, {\"year\": \"2013\", \"electiontype\": \"Special##\", \"Voter File VANID\": 75712, \"participation\": 75712}, {\"year\": \"2014\", \"electiontype\": \"General##\", \"Voter File VANID\": 1035272, \"participation\": 1035272}, {\"year\": \"2014\", \"electiontype\": \"Primary##\", \"Voter File VANID\": 366225, \"participation\": 366225}, {\"year\": \"2014\", \"electiontype\": \"Primary##Party\", \"Voter File VANID\": 2870, \"participation\": 2870}, {\"year\": \"2015\", \"electiontype\": \"General##\", \"Voter File VANID\": 211959, \"participation\": 211959}, {\"year\": \"2015\", \"electiontype\": \"Primary##\", \"Voter File VANID\": 1274, \"participation\": 1274}, {\"year\": \"2015\", \"electiontype\": \"Primary##Party\", \"Voter File VANID\": 250, \"participation\": 250}, {\"year\": \"2015\", \"electiontype\": \"Special##\", \"Voter File VANID\": 505592, \"participation\": 505592}, {\"year\": \"2016\", \"electiontype\": \"General##\", \"Voter File VANID\": 2058306, \"participation\": 2058306}, {\"year\": \"2016\", \"electiontype\": \"PresPrimary##\", \"Voter File VANID\": 878990, \"participation\": 878990}, {\"year\": \"2016\", \"electiontype\": \"PresPrimary##Party\", \"Voter File VANID\": 764858, \"participation\": 764858}, {\"year\": \"2016\", \"electiontype\": \"Primary##\", \"Voter File VANID\": 979573, \"participation\": 979573}, {\"year\": \"2016\", \"electiontype\": \"Primary##Party\", \"Voter File VANID\": 765277, \"participation\": 765277}, {\"year\": \"2016\", \"electiontype\": \"Special##\", \"Voter File VANID\": 34848, \"participation\": 34848}, {\"year\": \"2017\", \"electiontype\": \"General##\", \"Voter File VANID\": 316748, \"participation\": 316748}, {\"year\": \"2017\", \"electiontype\": \"Primary##\", \"Voter File VANID\": 71441, \"participation\": 71441}, {\"year\": \"2017\", \"electiontype\": \"Primary##Party\", \"Voter File VANID\": 472, \"participation\": 472}, {\"year\": \"2017\", \"electiontype\": \"Special##\", \"Voter File VANID\": 113228, \"participation\": 113228}, {\"year\": \"2018\", \"electiontype\": \"General##\", \"Voter File VANID\": 1858322, \"participation\": 1858322}, {\"year\": \"2018\", \"electiontype\": \"Primary##\", \"Voter File VANID\": 818536, \"participation\": 818536}, {\"year\": \"2018\", \"electiontype\": \"Primary##Party\", \"Voter File VANID\": 4227, \"participation\": 4227}, {\"year\": \"2018\", \"electiontype\": \"Special##\", \"Voter File VANID\": 49346, \"participation\": 49346}, {\"year\": \"2019\", \"electiontype\": \"General##\", \"Voter File VANID\": 387486, \"participation\": 387486}, {\"year\": \"2019\", \"electiontype\": \"Primary##Party\", \"Voter File VANID\": 465, \"participation\": 465}, {\"year\": \"2019\", \"electiontype\": \"Special##\", \"Voter File VANID\": 48138, \"participation\": 48138}, {\"year\": \"2020\", \"electiontype\": \"General##\", \"Voter File VANID\": 2350757, \"participation\": 2350757}, {\"year\": \"2020\", \"electiontype\": \"PresPrimary##\", \"Voter File VANID\": 1058611, \"participation\": 1058611}, {\"year\": \"2020\", \"electiontype\": \"PresPrimary##Party\", \"Voter File VANID\": 5047, \"participation\": 5047}, {\"year\": \"2020\", \"electiontype\": \"Primary##\", \"Voter File VANID\": 1334825, \"participation\": 1334825}, {\"year\": \"2020\", \"electiontype\": \"Primary##Party\", \"Voter File VANID\": 5378, \"participation\": 5378}, {\"year\": \"2020\", \"electiontype\": \"Special##\", \"Voter File VANID\": 950050, \"participation\": 950050}]}}, {\"mode\": \"vega-lite\"});\n",
              "</script>"
            ]
          },
          "metadata": {
            "tags": []
          },
          "execution_count": 13
        }
      ]
    },
    {
      "cell_type": "code",
      "metadata": {
        "id": "-qHw0xOBw8Sa",
        "colab": {
          "base_uri": "https://localhost:8080/",
          "height": 204
        },
        "outputId": "85efb98c-1902-4b01-b46f-3ae5be788351"
      },
      "source": [
        "check = pd.read_csv(WorkingFiles + \"dfreshapedUnique.csv\", encoding='utf-8')\n",
        "check.head()"
      ],
      "execution_count": null,
      "outputs": [
        {
          "output_type": "execute_result",
          "data": {
            "text/html": [
              "<div>\n",
              "<style scoped>\n",
              "    .dataframe tbody tr th:only-of-type {\n",
              "        vertical-align: middle;\n",
              "    }\n",
              "\n",
              "    .dataframe tbody tr th {\n",
              "        vertical-align: top;\n",
              "    }\n",
              "\n",
              "    .dataframe thead th {\n",
              "        text-align: right;\n",
              "    }\n",
              "</style>\n",
              "<table border=\"1\" class=\"dataframe\">\n",
              "  <thead>\n",
              "    <tr style=\"text-align: right;\">\n",
              "      <th></th>\n",
              "      <th>Unnamed: 0</th>\n",
              "      <th>Voter File VANID</th>\n",
              "      <th>year</th>\n",
              "      <th>participation</th>\n",
              "      <th>electiontype</th>\n",
              "    </tr>\n",
              "  </thead>\n",
              "  <tbody>\n",
              "    <tr>\n",
              "      <th>0</th>\n",
              "      <td>39477284</td>\n",
              "      <td>11</td>\n",
              "      <td>2006</td>\n",
              "      <td>Y</td>\n",
              "      <td>General##</td>\n",
              "    </tr>\n",
              "    <tr>\n",
              "      <th>1</th>\n",
              "      <td>36280453</td>\n",
              "      <td>11</td>\n",
              "      <td>2008</td>\n",
              "      <td>P</td>\n",
              "      <td>General##</td>\n",
              "    </tr>\n",
              "    <tr>\n",
              "      <th>2</th>\n",
              "      <td>13902636</td>\n",
              "      <td>11</td>\n",
              "      <td>2016</td>\n",
              "      <td>P</td>\n",
              "      <td>General##</td>\n",
              "    </tr>\n",
              "    <tr>\n",
              "      <th>3</th>\n",
              "      <td>7508974</td>\n",
              "      <td>11</td>\n",
              "      <td>2018</td>\n",
              "      <td>P</td>\n",
              "      <td>General##</td>\n",
              "    </tr>\n",
              "    <tr>\n",
              "      <th>4</th>\n",
              "      <td>1115312</td>\n",
              "      <td>11</td>\n",
              "      <td>2020</td>\n",
              "      <td>A</td>\n",
              "      <td>Special##</td>\n",
              "    </tr>\n",
              "  </tbody>\n",
              "</table>\n",
              "</div>"
            ],
            "text/plain": [
              "   Unnamed: 0  Voter File VANID  year participation electiontype\n",
              "0    39477284                11  2006             Y    General##\n",
              "1    36280453                11  2008             P    General##\n",
              "2    13902636                11  2016             P    General##\n",
              "3     7508974                11  2018             P    General##\n",
              "4     1115312                11  2020             A    Special##"
            ]
          },
          "metadata": {
            "tags": []
          },
          "execution_count": 14
        }
      ]
    },
    {
      "cell_type": "markdown",
      "metadata": {
        "id": "BiXlaB39worh"
      },
      "source": [
        ""
      ]
    }
  ]
}