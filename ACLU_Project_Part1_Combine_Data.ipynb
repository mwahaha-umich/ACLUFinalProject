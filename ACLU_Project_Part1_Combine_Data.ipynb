{
  "nbformat": 4,
  "nbformat_minor": 0,
  "metadata": {
    "colab": {
      "name": "ACLU Project Part1 Combine Data.ipynb",
      "provenance": [],
      "collapsed_sections": [],
      "include_colab_link": true
    },
    "kernelspec": {
      "name": "python3",
      "display_name": "Python 3"
    }
  },
  "cells": [
    {
      "cell_type": "markdown",
      "metadata": {
        "id": "view-in-github",
        "colab_type": "text"
      },
      "source": [
        "<a href=\"https://colab.research.google.com/github/mwahaha-umich/ACLUFinalProject/blob/main/ACLU_Project_Part1_Combine_Data.ipynb\" target=\"_parent\"><img src=\"https://colab.research.google.com/assets/colab-badge.svg\" alt=\"Open In Colab\"/></a>"
      ]
    },
    {
      "cell_type": "markdown",
      "metadata": {
        "id": "jmjRG9q12NM0"
      },
      "source": [
        "The purpose of this Jupyter notebook is to combine and split the data from the various source files we were provided. The current format is extremely redundant, will cause memory issues if handled directly in its entirety. By combining and splitting the data we will have a much easier time working with the dataset.\n",
        "\n",
        "This notebook splits the Combined input into the following files:\n",
        "\n",
        "\n",
        "*   dfMerged.csv - Includes all voting information (need to rename)\n",
        "*   dfVoters.csv - Includes information with regard to the voters\n",
        "*   dfOutreach.csv - Includes information based on which outreach effort(s) affected a particular voter.\n",
        "\n"
      ]
    },
    {
      "cell_type": "code",
      "metadata": {
        "colab": {
          "base_uri": "https://localhost:8080/"
        },
        "id": "OsdbKMXLtahY",
        "outputId": "95908a8d-5e09-4524-a4e9-4dce119deb66"
      },
      "source": [
        "from google.colab import drive\n",
        "drive.mount('/content/drive', force_remount=True)"
      ],
      "execution_count": null,
      "outputs": [
        {
          "output_type": "stream",
          "text": [
            "Mounted at /content/drive\n"
          ],
          "name": "stdout"
        }
      ]
    },
    {
      "cell_type": "code",
      "metadata": {
        "id": "tAp6S8A4tgjs"
      },
      "source": [
        "import os\n",
        "from os import listdir\n",
        "from os.path import isfile, join\n",
        "from pathlib import Path\n",
        "import requests\n",
        "\n",
        "if 'google.colab' in str(get_ipython()):\n",
        "  #We keep changing the different paths, so I'm going to check if various configurations exist.\n",
        "  if (os.path.isdir(\"/content/drive/MyDrive/Shared with me/content/drive/My Drive/Shared with me/ACLU/\")):\n",
        "    GoogleDriveBase = \"/content/drive/MyDrive/Shared with me/content/drive/My Drive/Shared with me/\" #Anupriya\n",
        "    WorkingDirectory = GoogleDriveBase + 'ACLU/' #Anupriya\n",
        "  elif (os.path.isdir(\"/content/drive/MyDrive/Projects/ACLU\")):\n",
        "    GoogleDriveBase = \"/content/drive/MyDrive/\" #Mackenzie\n",
        "    WorkingDirectory = GoogleDriveBase + \"Projects/ACLU/\" #Mackenzie\n",
        "  else:  \n",
        "    if (os.path.isdir(\"/content/drive/My Drive/Projects/ACLU/\")):\n",
        "      GoogleDriveBase = \"/content/drive/My Drive/\" #Kyle\n",
        "      WorkingDirectory = GoogleDriveBase + \"Projects/ACLU/\" #Kyle\n",
        "else: # We're not running in Google Colab, which means we're probably running locally. \n",
        "  #Put code here for local copies of the files\n",
        "  GoogleDriveBase = \"\" \n",
        "  WorkingDirectory = GoogleDriveBase + \"\" \n",
        "\n",
        "\n",
        "WorkingFiles = WorkingDirectory + 'WorkingFiles/'\n",
        "BasePickeDrive = GoogleDriveBase + WorkingDirectory + \"Pickle/\"\n",
        "\n",
        "\n",
        "#Make the necessary folders for the script to run.\n",
        "ListOfAllRequiredDirectories = [WorkingDirectory + 'Pickle', \n",
        "                          WorkingDirectory + 'WorkingFiles',\n",
        "                          WorkingDirectory + 'AdditionalData',\n",
        "                          WorkingDirectory + 'ACLUData']\n",
        "\n",
        "for folder in ListOfAllRequiredDirectories:\n",
        "  RunningPath = GoogleDriveBase + folder + \"/\"\n",
        "  Path(RunningPath).mkdir(parents=True, exist_ok=True)"
      ],
      "execution_count": null,
      "outputs": []
    },
    {
      "cell_type": "code",
      "metadata": {
        "id": "FCNEYtHltidD"
      },
      "source": [
        "import numpy\n",
        "import sys\n",
        "from nltk.tokenize import RegexpTokenizer\n",
        "from nltk.corpus import stopwords\n",
        "from keras.models import Sequential\n",
        "from keras.layers import Dense, Dropout, LSTM\n",
        "from keras.utils import np_utils\n",
        "from keras.callbacks import ModelCheckpoint\n",
        "from keras.models import load_model\n",
        "import csv\n",
        "import string\n",
        "import pandas as pd\n",
        "import gc\n",
        "import re\n",
        "import string"
      ],
      "execution_count": null,
      "outputs": []
    },
    {
      "cell_type": "code",
      "metadata": {
        "id": "5xPOq2ihL6KO"
      },
      "source": [
        "AllFilesInTheSubfolder = []\n",
        "for subfolder in os.walk(WorkingDirectory + \"ACLUData\"):\n",
        "  #Skip the pickle folder\n",
        "  if \"Pickle\" in subfolder[0] or \"WorkingFiles\" in subfolder[0]:\n",
        "      continue\n",
        "  for file in subfolder[2]:\n",
        "    FileWithPath = subfolder[0] +\"/\"+ file\n",
        "    match = re.search(\"(.*)(text|mail|phone|call|postcards)\", file.lower())\n",
        "    if match == None:\n",
        "      raise ValueError(\"Could not parse: \" + file + \"\\n Please take a look at the type of communication and ensure that it's on the list. \\nThis should only happen when we add new files whose name is inconsistant with the older files.\")\n",
        "    CommunicationType = match.group(2).replace(\"_\", \" \").strip()\n",
        "    #We have some inconsistant communication type names. So, I'm doing a little cleanup here.\n",
        "    if CommunicationType == \"call\":\n",
        "      CommunicationType = \"phone\"\n",
        "    if CommunicationType == \"postcards\":\n",
        "      CommunicationType = \"mail\"\n",
        "    FileWithDetails = (FileWithPath, match.group(1).replace(\"_\", \" \").strip(), match.group(2).replace(\"_\", \" \").strip(), file)\n",
        "    AllFilesInTheSubfolder.append(FileWithDetails)\n",
        "    #print(FileWithDetails)"
      ],
      "execution_count": null,
      "outputs": []
    },
    {
      "cell_type": "code",
      "metadata": {
        "colab": {
          "base_uri": "https://localhost:8080/"
        },
        "id": "n3p4wFkma3l7",
        "outputId": "97736f81-ebc4-479c-eee1-6a08e03c2bf7"
      },
      "source": [
        "len(AllFilesInTheSubfolder)"
      ],
      "execution_count": null,
      "outputs": [
        {
          "output_type": "execute_result",
          "data": {
            "text/plain": [
              "25"
            ]
          },
          "metadata": {},
          "execution_count": 5
        }
      ]
    },
    {
      "cell_type": "code",
      "metadata": {
        "id": "6ya-Cd8uOtG5",
        "colab": {
          "base_uri": "https://localhost:8080/"
        },
        "outputId": "593ca29b-ea79-44e8-97cb-23b58d0eaa01"
      },
      "source": [
        "#Load all the files into dataframes\n",
        "columns = []\n",
        "dataframesbytype = {}\n",
        "\n",
        "for file in AllFilesInTheSubfolder:\n",
        "  df = pd.read_csv(file[0], sep='\\t',header=(0))\n",
        "  df[\"ElectionType\"] = file[1]\n",
        "  df[\"CommunicationType\"] = file[2]\n",
        "  df[\"File\"] = file[3]\n",
        "  columns.extend(df.columns)\n",
        "  if file[1] not in dataframesbytype:\n",
        "    dataframesbytype[file[1]] = []\n",
        "  dataframesbytype[file[1]].append(df)\n",
        "columns = set(columns)\n",
        "print(len(dataframesbytype.keys()))"
      ],
      "execution_count": null,
      "outputs": [
        {
          "output_type": "stream",
          "text": [
            "/usr/local/lib/python3.7/dist-packages/IPython/core/interactiveshell.py:2718: DtypeWarning: Columns (20,28,58,59,60,61,62,65,69,71,73,75,77,79,82,83,85,87,89,91,93,95,96,97,98,99,100,101,114,115,116,117,118,119,120,121,122,123,125,126,127,129) have mixed types.Specify dtype option on import or set low_memory=False.\n",
            "  interactivity=interactivity, compiler=compiler, result=result)\n",
            "/usr/local/lib/python3.7/dist-packages/IPython/core/interactiveshell.py:2718: DtypeWarning: Columns (20,36,80,84,90) have mixed types.Specify dtype option on import or set low_memory=False.\n",
            "  interactivity=interactivity, compiler=compiler, result=result)\n",
            "/usr/local/lib/python3.7/dist-packages/IPython/core/interactiveshell.py:2718: DtypeWarning: Columns (20,36,76,78,80,84,90,94) have mixed types.Specify dtype option on import or set low_memory=False.\n",
            "  interactivity=interactivity, compiler=compiler, result=result)\n",
            "/usr/local/lib/python3.7/dist-packages/IPython/core/interactiveshell.py:2718: DtypeWarning: Columns (20,28,36,60,61,62,63,64,70,76,80,83,84,86,88,90,92,94,97,98,99,100,101,102,115,116,117,118,119,120,121,122,123,124,128) have mixed types.Specify dtype option on import or set low_memory=False.\n",
            "  interactivity=interactivity, compiler=compiler, result=result)\n",
            "/usr/local/lib/python3.7/dist-packages/IPython/core/interactiveshell.py:2718: DtypeWarning: Columns (20,36,66,74,76,78,80,83,84,90,94,107) have mixed types.Specify dtype option on import or set low_memory=False.\n",
            "  interactivity=interactivity, compiler=compiler, result=result)\n",
            "/usr/local/lib/python3.7/dist-packages/IPython/core/interactiveshell.py:2718: DtypeWarning: Columns (20,28,30,35,58,59,60,61,62,63,65,69,73,75,77,79,82,83,85,87,89,91,93,96,97,98,99,100,101,114,115,116,117,118,119,120,121,122,123) have mixed types.Specify dtype option on import or set low_memory=False.\n",
            "  interactivity=interactivity, compiler=compiler, result=result)\n",
            "/usr/local/lib/python3.7/dist-packages/IPython/core/interactiveshell.py:2718: DtypeWarning: Columns (20,28,35,62,63,65,69,73,75,77,79,82,83,85,87,89,91,93,101,106,121,122,123,130) have mixed types.Specify dtype option on import or set low_memory=False.\n",
            "  interactivity=interactivity, compiler=compiler, result=result)\n",
            "/usr/local/lib/python3.7/dist-packages/IPython/core/interactiveshell.py:2718: DtypeWarning: Columns (20,23,35,62,69,75,79,82,83,85,87,89,91,93,101,106,122,123,127) have mixed types.Specify dtype option on import or set low_memory=False.\n",
            "  interactivity=interactivity, compiler=compiler, result=result)\n",
            "/usr/local/lib/python3.7/dist-packages/IPython/core/interactiveshell.py:2718: DtypeWarning: Columns (20,36,64,66,70,74,76,78,80,83,84,88,90,94,131) have mixed types.Specify dtype option on import or set low_memory=False.\n",
            "  interactivity=interactivity, compiler=compiler, result=result)\n",
            "/usr/local/lib/python3.7/dist-packages/IPython/core/interactiveshell.py:2718: DtypeWarning: Columns (20,35,65,73,75,77,79,82,83,89,93) have mixed types.Specify dtype option on import or set low_memory=False.\n",
            "  interactivity=interactivity, compiler=compiler, result=result)\n",
            "/usr/local/lib/python3.7/dist-packages/IPython/core/interactiveshell.py:2718: DtypeWarning: Columns (20,28,30,35,58,59,60,61,62,63,69,75,77,78,79,82,83,85,87,89,91,93,96,97,98,99,100,101,104,106,114,115,116,117,118,119,120,121,122,123,125,126,129) have mixed types.Specify dtype option on import or set low_memory=False.\n",
            "  interactivity=interactivity, compiler=compiler, result=result)\n",
            "/usr/local/lib/python3.7/dist-packages/IPython/core/interactiveshell.py:2718: DtypeWarning: Columns (20,28,30,58,59,60,61,62,63,65,69,71,73,75,77,79,82,83,85,87,88,89,91,92,93,95,96,97,98,99,100,101,104,108,109,111,113,114,115,116,117,118,119,120,121,122,123,127,129,130,131) have mixed types.Specify dtype option on import or set low_memory=False.\n",
            "  interactivity=interactivity, compiler=compiler, result=result)\n",
            "/usr/local/lib/python3.7/dist-packages/IPython/core/interactiveshell.py:2718: DtypeWarning: Columns (28,30,47,51,54,58,59,60,61,62,63,65,68,69,70,71,73,74,75,77,79,82,83,85,87,88,89,91,92,93,94,95,96,97,98,99,100,101,103,104,105,106,108,109,110,111,113,114,115,116,117,118,119,120,121,122,123,125,126,127,129,130,131) have mixed types.Specify dtype option on import or set low_memory=False.\n",
            "  interactivity=interactivity, compiler=compiler, result=result)\n",
            "/usr/local/lib/python3.7/dist-packages/IPython/core/interactiveshell.py:2718: DtypeWarning: Columns (20,28,30,35,58,59,60,61,62,63,65,69,71,73,75,77,79,82,83,85,87,88,89,91,93,95,96,97,98,99,100,101,104,108,109,111,113,114,115,116,117,118,119,120,121,122,123,125,126,127,128,129,130) have mixed types.Specify dtype option on import or set low_memory=False.\n",
            "  interactivity=interactivity, compiler=compiler, result=result)\n",
            "/usr/local/lib/python3.7/dist-packages/IPython/core/interactiveshell.py:2718: DtypeWarning: Columns (20,80,128) have mixed types.Specify dtype option on import or set low_memory=False.\n",
            "  interactivity=interactivity, compiler=compiler, result=result)\n",
            "/usr/local/lib/python3.7/dist-packages/IPython/core/interactiveshell.py:2718: DtypeWarning: Columns (65,73,75,77,79,82,83,85,89,93,123,125,126,127) have mixed types.Specify dtype option on import or set low_memory=False.\n",
            "  interactivity=interactivity, compiler=compiler, result=result)\n",
            "/usr/local/lib/python3.7/dist-packages/IPython/core/interactiveshell.py:2718: DtypeWarning: Columns (20,28,62,63,75,79,82,83,85,89,93,96,97,98,99,100,101,114,115,116,117,118,119,120,121,122,123,125,126,127,128,129,130) have mixed types.Specify dtype option on import or set low_memory=False.\n",
            "  interactivity=interactivity, compiler=compiler, result=result)\n",
            "/usr/local/lib/python3.7/dist-packages/IPython/core/interactiveshell.py:2718: DtypeWarning: Columns (69,75,77,79,82,83,85,87,89,91,93,103,123,127,129) have mixed types.Specify dtype option on import or set low_memory=False.\n",
            "  interactivity=interactivity, compiler=compiler, result=result)\n",
            "/usr/local/lib/python3.7/dist-packages/IPython/core/interactiveshell.py:2718: DtypeWarning: Columns (20,65,73,75,77,79,82,83,85,89,93,125,126,127) have mixed types.Specify dtype option on import or set low_memory=False.\n",
            "  interactivity=interactivity, compiler=compiler, result=result)\n",
            "/usr/local/lib/python3.7/dist-packages/IPython/core/interactiveshell.py:2718: DtypeWarning: Columns (20,28,30,35,58,59,60,61,62,63,69,75,79,82,83,87,89,93,96,97,98,99,100,101,114,115,116,117,118,119,120,121,122,123,125,126,127,129,130) have mixed types.Specify dtype option on import or set low_memory=False.\n",
            "  interactivity=interactivity, compiler=compiler, result=result)\n",
            "/usr/local/lib/python3.7/dist-packages/IPython/core/interactiveshell.py:2718: DtypeWarning: Columns (20,28,30,35,58,59,60,61,62,63,65,69,71,73,75,77,79,82,85,87,88,89,91,92,93,95,96,97,98,99,100,101,104,106,108,109,111,113,114,115,116,117,118,119,120,121,122,123,125,126,127,129,130,131) have mixed types.Specify dtype option on import or set low_memory=False.\n",
            "  interactivity=interactivity, compiler=compiler, result=result)\n",
            "/usr/local/lib/python3.7/dist-packages/IPython/core/interactiveshell.py:2718: DtypeWarning: Columns (20,28,30,35,58,59,60,61,62,63,65,69,71,73,75,77,79,82,83,85,87,88,89,91,92,93,95,96,97,98,99,100,101,104,108,109,110,111,113,114,115,116,117,118,119,120,121,122,123,125,126,127,129,130,131) have mixed types.Specify dtype option on import or set low_memory=False.\n",
            "  interactivity=interactivity, compiler=compiler, result=result)\n",
            "/usr/local/lib/python3.7/dist-packages/IPython/core/interactiveshell.py:2718: DtypeWarning: Columns (28,30,35,39,58,59,60,61,62,63,65,69,71,75,77,79,82,83,85,87,88,89,91,92,93,95,96,97,98,99,100,101,103,104,105,106,108,109,111,113,114,115,116,117,118,119,120,121,122,123,125,126,127,129,130) have mixed types.Specify dtype option on import or set low_memory=False.\n",
            "  interactivity=interactivity, compiler=compiler, result=result)\n",
            "/usr/local/lib/python3.7/dist-packages/IPython/core/interactiveshell.py:2718: DtypeWarning: Columns (20,63,65,73,75,77,79,82,83,85,89,91,93,125,126,127,129,130) have mixed types.Specify dtype option on import or set low_memory=False.\n",
            "  interactivity=interactivity, compiler=compiler, result=result)\n",
            "/usr/local/lib/python3.7/dist-packages/IPython/core/interactiveshell.py:2718: DtypeWarning: Columns (28,30,35,39,58,59,60,61,62,63,65,69,71,73,75,77,79,82,83,85,87,88,89,91,92,93,95,96,97,98,99,100,101,103,104,106,108,109,111,113,114,115,116,117,118,119,120,121,122,123,125,126,127,129,130) have mixed types.Specify dtype option on import or set low_memory=False.\n",
            "  interactivity=interactivity, compiler=compiler, result=result)\n"
          ],
          "name": "stderr"
        },
        {
          "output_type": "stream",
          "text": [
            "5\n"
          ],
          "name": "stdout"
        }
      ]
    },
    {
      "cell_type": "code",
      "metadata": {
        "colab": {
          "base_uri": "https://localhost:8080/"
        },
        "id": "jgCChbpre0pW",
        "outputId": "cbd1f4dc-d89c-467f-e6b6-e57edb67a6e5"
      },
      "source": [
        "print(dataframesbytype.keys())\n",
        "for dfListKey in dataframesbytype.keys():\n",
        "  print(len(dataframesbytype[dfListKey]))"
      ],
      "execution_count": null,
      "outputs": [
        {
          "output_type": "stream",
          "text": [
            "dict_keys(['scomi', 'oakland prosecutor', 'oakland county prosecutor race', 'oakland', 'lpv'])\n",
            "1\n",
            "2\n",
            "1\n",
            "7\n",
            "14\n"
          ],
          "name": "stdout"
        }
      ]
    },
    {
      "cell_type": "code",
      "metadata": {
        "colab": {
          "base_uri": "https://localhost:8080/"
        },
        "id": "3ASrStrbcO2g",
        "outputId": "f6ed9b10-787b-4cce-e1af-a96ab79b21db"
      },
      "source": [
        "len(columns)"
      ],
      "execution_count": null,
      "outputs": [
        {
          "output_type": "execute_result",
          "data": {
            "text/plain": [
              "137"
            ]
          },
          "metadata": {},
          "execution_count": 8
        }
      ]
    },
    {
      "cell_type": "code",
      "metadata": {
        "id": "8Z5e7ljlFgzE"
      },
      "source": [
        "#Combine Dataframes of the same type\n",
        "dataframesbytypejoined = {}\n",
        "for dfListKey in dataframesbytype.keys():\n",
        "  dataframesbytypejoined[dfListKey] = pd.concat(dataframesbytype[dfListKey])"
      ],
      "execution_count": null,
      "outputs": []
    },
    {
      "cell_type": "code",
      "metadata": {
        "id": "K3xL6pFzIC_7",
        "colab": {
          "base_uri": "https://localhost:8080/"
        },
        "outputId": "a9d5729f-f5f2-4763-d025-2842acd3dab5"
      },
      "source": [
        "#Free up memory\n",
        "\n",
        "del dataframesbytype\n",
        "gc.collect()"
      ],
      "execution_count": null,
      "outputs": [
        {
          "output_type": "execute_result",
          "data": {
            "text/plain": [
              "50"
            ]
          },
          "metadata": {},
          "execution_count": 10
        }
      ]
    },
    {
      "cell_type": "markdown",
      "metadata": {
        "id": "qiCnwHgQz88x"
      },
      "source": [
        "In the following section we will be pulling out all unique voter information.\n",
        "\n",
        "Please Note: As this data includes real world PII we will be making an effort to never show the data from this dataframe."
      ]
    },
    {
      "cell_type": "code",
      "metadata": {
        "id": "VQ3cj_2PN3Kc",
        "colab": {
          "base_uri": "https://localhost:8080/"
        },
        "outputId": "44c88978-efbe-492e-d4df-722897d2bb4b"
      },
      "source": [
        "#It looks like \"Voter File VANID\" is a unique key for each user, so I'm going to pull out any other person information and stick that into another dataframe. This will reduce memory footprint, which will be necessary for the pivot\n",
        "#that's coming up.\n",
        "dataframesbytypejoinedwithoutidvalues = {}\n",
        "\n",
        "id_columns = [\"Voter File VANID\", \"FirstName\", \"MiddleName\", \"LastName\", \"Address\", \"DWID\", 'Zip5', 'Age', 'Primary19', 'MaritalStatus', 'mCity', 'Mass_Incarceration', 'StreetType', 'StreetSuffix',\n",
        "  'mAddress', 'mState', 'mZip5', 'mZip4', 'Sex', 'City', 'State', 'Zip4', 'Suffix', 'CD', 'SD', 'HD', 'PreferredEmail', 'Preferred Phone', 'Cell Phone', 'CountyName', 'DOB', 'DateReg', 'Home Phone', \n",
        "  'EthnicCatalistName', 'Party', 'PersonalEmail', 'RaceName', 'StreetNo', 'StreetNoHalf', 'StreetPrefix', 'StreetName', 'AptType', 'AptNo', 'City.1', 'State.1', 'Zip5.1', 'Zip4.1', \n",
        "  '2020_Biden_Support', 'Voting_Aug_Prim', 'PoliceAccountability', 'VBM_Application', 'MarijuanaConviction', '2020_Biden_Support', 'Absentee_Voting'] #, 'VotedStatus', 'Voting_Nov_Gen'\n",
        "primary_key = [\"Voter File VANID\"]\n",
        "dfVoters = None\n",
        "for dfListKey in dataframesbytypejoined.keys():\n",
        "  df = dataframesbytypejoined[dfListKey]\n",
        "  ColumnsToRemove = list(set(id_columns) - set(primary_key))\n",
        "  if dfVoters is None:\n",
        "    dfVoters = dataframesbytypejoined[dfListKey][id_columns]\n",
        "    print(len(dfVoters))\n",
        "    dataframesbytypejoinedwithoutidvalues[dfListKey] = df.drop(columns=ColumnsToRemove)\n",
        "    continue\n",
        "  print(len(dataframesbytypejoined[dfListKey]))\n",
        "  dfVoters = dfVoters.append(dataframesbytypejoined[dfListKey][id_columns])\n",
        "  dataframesbytypejoinedwithoutidvalues[dfListKey] = df.drop(columns=ColumnsToRemove)\n",
        "  dataframesbytypejoined[dfListKey] = None\n",
        "  gc.collect()\n",
        "dfVoters = dfVoters.drop_duplicates()\n",
        "dfVoters = dfVoters.sort_values(by=['FirstName', 'LastName'])\n",
        "\n",
        "print(dfVoters)\n"
      ],
      "execution_count": null,
      "outputs": [
        {
          "output_type": "stream",
          "text": [
            "149854\n",
            "43512\n",
            "142600\n",
            "555506\n",
            "2305359\n"
          ],
          "name": "stdout"
        }
      ]
    },
    {
      "cell_type": "code",
      "metadata": {
        "id": "fhvMQ0l1pQId"
      },
      "source": [
        "dfVoters.reset_index(inplace=True)\n",
        "#dfVoters.to_csv(WorkingFiles + \"dfVoters.csv\", encoding='utf-8')\n",
        "\n",
        "del dfVoters\n",
        "gc.collect()"
      ],
      "execution_count": null,
      "outputs": []
    },
    {
      "cell_type": "code",
      "metadata": {
        "id": "m2m5ZpEUvBPt"
      },
      "source": [
        "del dataframesbytypejoined\n",
        "gc.collect()"
      ],
      "execution_count": null,
      "outputs": []
    },
    {
      "cell_type": "code",
      "metadata": {
        "id": "VQAnfb0TZbwA"
      },
      "source": [
        "dfMerged = pd.concat(dataframesbytypejoinedwithoutidvalues.values())\n",
        "\n",
        "del dataframesbytypejoinedwithoutidvalues\n",
        "gc.collect()"
      ],
      "execution_count": null,
      "outputs": []
    },
    {
      "cell_type": "code",
      "metadata": {
        "id": "9i6RSIPlmAky"
      },
      "source": [
        "#Pull out the file information, this indicates which outreach efforts they were included in.\n",
        "dfOutreach = dfMerged[[\"Voter File VANID\", \"ElectionType\", \"CommunicationType\", \"File\"]]\n",
        "dfOutreach.reset_index(inplace=True)\n",
        "#dfOutreach.to_csv(WorkingFiles + \"dfOutreach.csv\", encoding='utf-8')\n",
        "\n",
        "del dfOutreach\n",
        "gc.collect()\n",
        "\n",
        "dfMerged = dfMerged.drop(columns=[\"ElectionType\", \"CommunicationType\", \"File\"])"
      ],
      "execution_count": null,
      "outputs": []
    },
    {
      "cell_type": "code",
      "metadata": {
        "id": "COvfuZlkh7NE"
      },
      "source": [
        "print(dfMerged.columns)"
      ],
      "execution_count": null,
      "outputs": []
    },
    {
      "cell_type": "code",
      "metadata": {
        "id": "VqjplMN45GTs"
      },
      "source": [
        "\n",
        "dfMerged.reset_index(inplace=True)\n"
      ],
      "execution_count": null,
      "outputs": []
    },
    {
      "cell_type": "markdown",
      "metadata": {
        "id": "Gzw0qLJbao0O"
      },
      "source": [
        "Finally, we will save the data to disk for use by the next Jupyter notebook.\n",
        "\n",
        "[Merge Data](https://colab.research.google.com/drive/1epgGr9YFq1l3BMvDLApkWXnZ9TjCcJCo?usp=sharing)"
      ]
    },
    {
      "cell_type": "code",
      "metadata": {
        "id": "mxcryyg6w3Ka"
      },
      "source": [
        "\n",
        "dfMerged.to_csv(\"/content/drive/MyDrive/content/drive/My Drive/Projects/ACLU/WorkingFiles/dfMerged.csv\", encoding='utf-8')\n"
      ],
      "execution_count": null,
      "outputs": []
    },
    {
      "cell_type": "code",
      "metadata": {
        "id": "GD9taegpk5mr"
      },
      "source": [
        "pip freeze > part1_requirements.txt"
      ],
      "execution_count": null,
      "outputs": []
    }
  ]
}